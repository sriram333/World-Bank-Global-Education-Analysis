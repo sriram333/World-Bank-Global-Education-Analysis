{
  "nbformat": 4,
  "nbformat_minor": 0,
  "metadata": {
    "kernelspec": {
      "display_name": "Python 3",
      "language": "python",
      "name": "python3"
    },
    "language_info": {
      "codemirror_mode": {
        "name": "ipython",
        "version": 3
      },
      "file_extension": ".py",
      "mimetype": "text/x-python",
      "name": "python",
      "nbconvert_exporter": "python",
      "pygments_lexer": "ipython3",
      "version": "3.6.6"
    },
    "colab": {
      "name": "Venkata Sai Sri Ram Chunduri - World Bank Global Education Analysis - Capstone Project.ipynb",
      "provenance": [],
      "collapsed_sections": [],
      "toc_visible": true,
      "include_colab_link": true
    }
  },
  "cells": [
    {
      "cell_type": "markdown",
      "metadata": {
        "id": "view-in-github",
        "colab_type": "text"
      },
      "source": [
        "<a href=\"https://colab.research.google.com/github/sriram333/World-Bank-Global-Education-Analysis/blob/main/Venkata_Sai_Sri_Ram_Chunduri_World_Bank_Global_Education_Analysis_Capstone_Project.ipynb\" target=\"_parent\"><img src=\"https://colab.research.google.com/assets/colab-badge.svg\" alt=\"Open In Colab\"/></a>"
      ]
    },
    {
      "cell_type": "markdown",
      "metadata": {
        "id": "Y06xIdG26kRF"
      },
      "source": [
        "## <b> The World Bank EdStats All Indicator Query holds over 4,000 internationally comparable indicators that describe education access, progression, completion, literacy, teachers, population, and expenditures.The indicators cover the education cycle from pre-primary to vocational and tertiary education and also holds learning outcome data from international and regional learning assessments (e.g. PISA, TIMSS, PIRLS), equity data from household surveys, and projection/attainment data. </b>\n",
        "\n",
        "## <b> Explore and analyze the data to identify variation of indicators across the globe, which countries are more alike and different. Feel free to add more extensive analyses and details.</b>"
      ]
    },
    {
      "cell_type": "code",
      "metadata": {
        "colab": {
          "base_uri": "https://localhost:8080/"
        },
        "id": "wKgwUJrMzHxv",
        "outputId": "d583b8f4-b6d1-4dfd-9857-c912091a8c61"
      },
      "source": [
        "from google.colab import drive\r\n",
        "drive.mount('/content/drive')"
      ],
      "execution_count": 1,
      "outputs": [
        {
          "output_type": "stream",
          "text": [
            "Mounted at /content/drive\n"
          ],
          "name": "stdout"
        }
      ]
    },
    {
      "cell_type": "code",
      "metadata": {
        "id": "dByMsuzT8Tnw"
      },
      "source": [
        "# Import Libraries / Packages \r\n",
        "import pandas as pd\r\n",
        "import numpy as np"
      ],
      "execution_count": 2,
      "outputs": []
    },
    {
      "cell_type": "markdown",
      "metadata": {
        "id": "cMvDeo6fFhVq"
      },
      "source": [
        "## **Load the Datasets of World Bank Global Education Statistics**"
      ]
    },
    {
      "cell_type": "markdown",
      "metadata": {
        "id": "CQVC4w3RGZ4m"
      },
      "source": [
        "**EdStatsData.csv**"
      ]
    },
    {
      "cell_type": "code",
      "metadata": {
        "id": "sQUJ1ll0zCnU"
      },
      "source": [
        "working_directory = '/content/drive/MyDrive/AlmaBetter/Cohort Nilgiri/Module 1/Capstone project/'\r\n",
        "df_stats_data = pd.read_csv(working_directory + 'EdStatsData.csv')"
      ],
      "execution_count": 3,
      "outputs": []
    },
    {
      "cell_type": "markdown",
      "metadata": {
        "id": "c4RyGK3fHd36"
      },
      "source": [
        "**EdStatsCountry-Series.csv**"
      ]
    },
    {
      "cell_type": "code",
      "metadata": {
        "id": "sbkE1L6DHkLB"
      },
      "source": [
        "df_country_series = pd.read_csv(working_directory + 'EdStatsCountry-Series.csv')"
      ],
      "execution_count": 4,
      "outputs": []
    },
    {
      "cell_type": "markdown",
      "metadata": {
        "id": "KJQjaj5wHzRB"
      },
      "source": [
        "**EdStatsCountry.csv**"
      ]
    },
    {
      "cell_type": "code",
      "metadata": {
        "id": "_KyXCCSCHyvF"
      },
      "source": [
        "df_country = pd.read_csv(working_directory + 'EdStatsCountry.csv')"
      ],
      "execution_count": 5,
      "outputs": []
    },
    {
      "cell_type": "markdown",
      "metadata": {
        "id": "6-YiBdlvH3TQ"
      },
      "source": [
        "**EdStatsFootNote.csv**"
      ]
    },
    {
      "cell_type": "code",
      "metadata": {
        "id": "-h6IcZaTIGwR"
      },
      "source": [
        "df_footnote = pd.read_csv(working_directory + 'EdStatsFootNote.csv')"
      ],
      "execution_count": 6,
      "outputs": []
    },
    {
      "cell_type": "markdown",
      "metadata": {
        "id": "pdN1tvCqIIBu"
      },
      "source": [
        "**EdStatsSeries.csv**"
      ]
    },
    {
      "cell_type": "code",
      "metadata": {
        "id": "C7hAOqSLIK_I"
      },
      "source": [
        "df_stats_series = pd.read_csv(working_directory+'EdStatsSeries.csv')"
      ],
      "execution_count": 101,
      "outputs": []
    },
    {
      "cell_type": "markdown",
      "metadata": {
        "id": "uL2s2c8CJXhq"
      },
      "source": [
        "### **Basic Analysis of EdStatsData.csv**"
      ]
    },
    {
      "cell_type": "code",
      "metadata": {
        "colab": {
          "base_uri": "https://localhost:8080/",
          "height": 666
        },
        "id": "HTsIBh-BIabw",
        "outputId": "9ce4f2ae-1973-4535-8673-7ed65a240782"
      },
      "source": [
        "df_stats_data.head()"
      ],
      "execution_count": 10,
      "outputs": [
        {
          "output_type": "execute_result",
          "data": {
            "text/html": [
              "<div>\n",
              "<style scoped>\n",
              "    .dataframe tbody tr th:only-of-type {\n",
              "        vertical-align: middle;\n",
              "    }\n",
              "\n",
              "    .dataframe tbody tr th {\n",
              "        vertical-align: top;\n",
              "    }\n",
              "\n",
              "    .dataframe thead th {\n",
              "        text-align: right;\n",
              "    }\n",
              "</style>\n",
              "<table border=\"1\" class=\"dataframe\">\n",
              "  <thead>\n",
              "    <tr style=\"text-align: right;\">\n",
              "      <th></th>\n",
              "      <th>Country Name</th>\n",
              "      <th>Country Code</th>\n",
              "      <th>Indicator Name</th>\n",
              "      <th>Indicator Code</th>\n",
              "      <th>1970</th>\n",
              "      <th>1971</th>\n",
              "      <th>1972</th>\n",
              "      <th>1973</th>\n",
              "      <th>1974</th>\n",
              "      <th>1975</th>\n",
              "      <th>1976</th>\n",
              "      <th>1977</th>\n",
              "      <th>1978</th>\n",
              "      <th>1979</th>\n",
              "      <th>1980</th>\n",
              "      <th>1981</th>\n",
              "      <th>1982</th>\n",
              "      <th>1983</th>\n",
              "      <th>1984</th>\n",
              "      <th>1985</th>\n",
              "      <th>1986</th>\n",
              "      <th>1987</th>\n",
              "      <th>1988</th>\n",
              "      <th>1989</th>\n",
              "      <th>1990</th>\n",
              "      <th>1991</th>\n",
              "      <th>1992</th>\n",
              "      <th>1993</th>\n",
              "      <th>1994</th>\n",
              "      <th>1995</th>\n",
              "      <th>1996</th>\n",
              "      <th>1997</th>\n",
              "      <th>1998</th>\n",
              "      <th>1999</th>\n",
              "      <th>2000</th>\n",
              "      <th>2001</th>\n",
              "      <th>2002</th>\n",
              "      <th>2003</th>\n",
              "      <th>2004</th>\n",
              "      <th>2005</th>\n",
              "      <th>2006</th>\n",
              "      <th>2007</th>\n",
              "      <th>2008</th>\n",
              "      <th>2009</th>\n",
              "      <th>2010</th>\n",
              "      <th>2011</th>\n",
              "      <th>2012</th>\n",
              "      <th>2013</th>\n",
              "      <th>2014</th>\n",
              "      <th>2015</th>\n",
              "      <th>2016</th>\n",
              "      <th>2017</th>\n",
              "      <th>2020</th>\n",
              "      <th>2025</th>\n",
              "      <th>2030</th>\n",
              "      <th>2035</th>\n",
              "      <th>2040</th>\n",
              "      <th>2045</th>\n",
              "      <th>2050</th>\n",
              "      <th>2055</th>\n",
              "      <th>2060</th>\n",
              "      <th>2065</th>\n",
              "      <th>2070</th>\n",
              "      <th>2075</th>\n",
              "      <th>2080</th>\n",
              "      <th>2085</th>\n",
              "      <th>2090</th>\n",
              "      <th>2095</th>\n",
              "      <th>2100</th>\n",
              "      <th>Unnamed: 69</th>\n",
              "    </tr>\n",
              "  </thead>\n",
              "  <tbody>\n",
              "    <tr>\n",
              "      <th>0</th>\n",
              "      <td>Arab World</td>\n",
              "      <td>ARB</td>\n",
              "      <td>Adjusted net enrolment rate, lower secondary, ...</td>\n",
              "      <td>UIS.NERA.2</td>\n",
              "      <td>NaN</td>\n",
              "      <td>NaN</td>\n",
              "      <td>NaN</td>\n",
              "      <td>NaN</td>\n",
              "      <td>NaN</td>\n",
              "      <td>NaN</td>\n",
              "      <td>NaN</td>\n",
              "      <td>NaN</td>\n",
              "      <td>NaN</td>\n",
              "      <td>NaN</td>\n",
              "      <td>NaN</td>\n",
              "      <td>NaN</td>\n",
              "      <td>NaN</td>\n",
              "      <td>NaN</td>\n",
              "      <td>NaN</td>\n",
              "      <td>NaN</td>\n",
              "      <td>NaN</td>\n",
              "      <td>NaN</td>\n",
              "      <td>NaN</td>\n",
              "      <td>NaN</td>\n",
              "      <td>NaN</td>\n",
              "      <td>NaN</td>\n",
              "      <td>NaN</td>\n",
              "      <td>NaN</td>\n",
              "      <td>NaN</td>\n",
              "      <td>NaN</td>\n",
              "      <td>NaN</td>\n",
              "      <td>NaN</td>\n",
              "      <td>NaN</td>\n",
              "      <td>NaN</td>\n",
              "      <td>NaN</td>\n",
              "      <td>NaN</td>\n",
              "      <td>NaN</td>\n",
              "      <td>NaN</td>\n",
              "      <td>NaN</td>\n",
              "      <td>NaN</td>\n",
              "      <td>NaN</td>\n",
              "      <td>NaN</td>\n",
              "      <td>NaN</td>\n",
              "      <td>NaN</td>\n",
              "      <td>NaN</td>\n",
              "      <td>NaN</td>\n",
              "      <td>NaN</td>\n",
              "      <td>NaN</td>\n",
              "      <td>NaN</td>\n",
              "      <td>NaN</td>\n",
              "      <td>NaN</td>\n",
              "      <td>NaN</td>\n",
              "      <td>NaN</td>\n",
              "      <td>NaN</td>\n",
              "      <td>NaN</td>\n",
              "      <td>NaN</td>\n",
              "      <td>NaN</td>\n",
              "      <td>NaN</td>\n",
              "      <td>NaN</td>\n",
              "      <td>NaN</td>\n",
              "      <td>NaN</td>\n",
              "      <td>NaN</td>\n",
              "      <td>NaN</td>\n",
              "      <td>NaN</td>\n",
              "      <td>NaN</td>\n",
              "      <td>NaN</td>\n",
              "      <td>NaN</td>\n",
              "      <td>NaN</td>\n",
              "      <td>NaN</td>\n",
              "      <td>NaN</td>\n",
              "    </tr>\n",
              "    <tr>\n",
              "      <th>1</th>\n",
              "      <td>Arab World</td>\n",
              "      <td>ARB</td>\n",
              "      <td>Adjusted net enrolment rate, lower secondary, ...</td>\n",
              "      <td>UIS.NERA.2.F</td>\n",
              "      <td>NaN</td>\n",
              "      <td>NaN</td>\n",
              "      <td>NaN</td>\n",
              "      <td>NaN</td>\n",
              "      <td>NaN</td>\n",
              "      <td>NaN</td>\n",
              "      <td>NaN</td>\n",
              "      <td>NaN</td>\n",
              "      <td>NaN</td>\n",
              "      <td>NaN</td>\n",
              "      <td>NaN</td>\n",
              "      <td>NaN</td>\n",
              "      <td>NaN</td>\n",
              "      <td>NaN</td>\n",
              "      <td>NaN</td>\n",
              "      <td>NaN</td>\n",
              "      <td>NaN</td>\n",
              "      <td>NaN</td>\n",
              "      <td>NaN</td>\n",
              "      <td>NaN</td>\n",
              "      <td>NaN</td>\n",
              "      <td>NaN</td>\n",
              "      <td>NaN</td>\n",
              "      <td>NaN</td>\n",
              "      <td>NaN</td>\n",
              "      <td>NaN</td>\n",
              "      <td>NaN</td>\n",
              "      <td>NaN</td>\n",
              "      <td>NaN</td>\n",
              "      <td>NaN</td>\n",
              "      <td>NaN</td>\n",
              "      <td>NaN</td>\n",
              "      <td>NaN</td>\n",
              "      <td>NaN</td>\n",
              "      <td>NaN</td>\n",
              "      <td>NaN</td>\n",
              "      <td>NaN</td>\n",
              "      <td>NaN</td>\n",
              "      <td>NaN</td>\n",
              "      <td>NaN</td>\n",
              "      <td>NaN</td>\n",
              "      <td>NaN</td>\n",
              "      <td>NaN</td>\n",
              "      <td>NaN</td>\n",
              "      <td>NaN</td>\n",
              "      <td>NaN</td>\n",
              "      <td>NaN</td>\n",
              "      <td>NaN</td>\n",
              "      <td>NaN</td>\n",
              "      <td>NaN</td>\n",
              "      <td>NaN</td>\n",
              "      <td>NaN</td>\n",
              "      <td>NaN</td>\n",
              "      <td>NaN</td>\n",
              "      <td>NaN</td>\n",
              "      <td>NaN</td>\n",
              "      <td>NaN</td>\n",
              "      <td>NaN</td>\n",
              "      <td>NaN</td>\n",
              "      <td>NaN</td>\n",
              "      <td>NaN</td>\n",
              "      <td>NaN</td>\n",
              "      <td>NaN</td>\n",
              "      <td>NaN</td>\n",
              "      <td>NaN</td>\n",
              "      <td>NaN</td>\n",
              "    </tr>\n",
              "    <tr>\n",
              "      <th>2</th>\n",
              "      <td>Arab World</td>\n",
              "      <td>ARB</td>\n",
              "      <td>Adjusted net enrolment rate, lower secondary, ...</td>\n",
              "      <td>UIS.NERA.2.GPI</td>\n",
              "      <td>NaN</td>\n",
              "      <td>NaN</td>\n",
              "      <td>NaN</td>\n",
              "      <td>NaN</td>\n",
              "      <td>NaN</td>\n",
              "      <td>NaN</td>\n",
              "      <td>NaN</td>\n",
              "      <td>NaN</td>\n",
              "      <td>NaN</td>\n",
              "      <td>NaN</td>\n",
              "      <td>NaN</td>\n",
              "      <td>NaN</td>\n",
              "      <td>NaN</td>\n",
              "      <td>NaN</td>\n",
              "      <td>NaN</td>\n",
              "      <td>NaN</td>\n",
              "      <td>NaN</td>\n",
              "      <td>NaN</td>\n",
              "      <td>NaN</td>\n",
              "      <td>NaN</td>\n",
              "      <td>NaN</td>\n",
              "      <td>NaN</td>\n",
              "      <td>NaN</td>\n",
              "      <td>NaN</td>\n",
              "      <td>NaN</td>\n",
              "      <td>NaN</td>\n",
              "      <td>NaN</td>\n",
              "      <td>NaN</td>\n",
              "      <td>NaN</td>\n",
              "      <td>NaN</td>\n",
              "      <td>NaN</td>\n",
              "      <td>NaN</td>\n",
              "      <td>NaN</td>\n",
              "      <td>NaN</td>\n",
              "      <td>NaN</td>\n",
              "      <td>NaN</td>\n",
              "      <td>NaN</td>\n",
              "      <td>NaN</td>\n",
              "      <td>NaN</td>\n",
              "      <td>NaN</td>\n",
              "      <td>NaN</td>\n",
              "      <td>NaN</td>\n",
              "      <td>NaN</td>\n",
              "      <td>NaN</td>\n",
              "      <td>NaN</td>\n",
              "      <td>NaN</td>\n",
              "      <td>NaN</td>\n",
              "      <td>NaN</td>\n",
              "      <td>NaN</td>\n",
              "      <td>NaN</td>\n",
              "      <td>NaN</td>\n",
              "      <td>NaN</td>\n",
              "      <td>NaN</td>\n",
              "      <td>NaN</td>\n",
              "      <td>NaN</td>\n",
              "      <td>NaN</td>\n",
              "      <td>NaN</td>\n",
              "      <td>NaN</td>\n",
              "      <td>NaN</td>\n",
              "      <td>NaN</td>\n",
              "      <td>NaN</td>\n",
              "      <td>NaN</td>\n",
              "      <td>NaN</td>\n",
              "      <td>NaN</td>\n",
              "      <td>NaN</td>\n",
              "      <td>NaN</td>\n",
              "    </tr>\n",
              "    <tr>\n",
              "      <th>3</th>\n",
              "      <td>Arab World</td>\n",
              "      <td>ARB</td>\n",
              "      <td>Adjusted net enrolment rate, lower secondary, ...</td>\n",
              "      <td>UIS.NERA.2.M</td>\n",
              "      <td>NaN</td>\n",
              "      <td>NaN</td>\n",
              "      <td>NaN</td>\n",
              "      <td>NaN</td>\n",
              "      <td>NaN</td>\n",
              "      <td>NaN</td>\n",
              "      <td>NaN</td>\n",
              "      <td>NaN</td>\n",
              "      <td>NaN</td>\n",
              "      <td>NaN</td>\n",
              "      <td>NaN</td>\n",
              "      <td>NaN</td>\n",
              "      <td>NaN</td>\n",
              "      <td>NaN</td>\n",
              "      <td>NaN</td>\n",
              "      <td>NaN</td>\n",
              "      <td>NaN</td>\n",
              "      <td>NaN</td>\n",
              "      <td>NaN</td>\n",
              "      <td>NaN</td>\n",
              "      <td>NaN</td>\n",
              "      <td>NaN</td>\n",
              "      <td>NaN</td>\n",
              "      <td>NaN</td>\n",
              "      <td>NaN</td>\n",
              "      <td>NaN</td>\n",
              "      <td>NaN</td>\n",
              "      <td>NaN</td>\n",
              "      <td>NaN</td>\n",
              "      <td>NaN</td>\n",
              "      <td>NaN</td>\n",
              "      <td>NaN</td>\n",
              "      <td>NaN</td>\n",
              "      <td>NaN</td>\n",
              "      <td>NaN</td>\n",
              "      <td>NaN</td>\n",
              "      <td>NaN</td>\n",
              "      <td>NaN</td>\n",
              "      <td>NaN</td>\n",
              "      <td>NaN</td>\n",
              "      <td>NaN</td>\n",
              "      <td>NaN</td>\n",
              "      <td>NaN</td>\n",
              "      <td>NaN</td>\n",
              "      <td>NaN</td>\n",
              "      <td>NaN</td>\n",
              "      <td>NaN</td>\n",
              "      <td>NaN</td>\n",
              "      <td>NaN</td>\n",
              "      <td>NaN</td>\n",
              "      <td>NaN</td>\n",
              "      <td>NaN</td>\n",
              "      <td>NaN</td>\n",
              "      <td>NaN</td>\n",
              "      <td>NaN</td>\n",
              "      <td>NaN</td>\n",
              "      <td>NaN</td>\n",
              "      <td>NaN</td>\n",
              "      <td>NaN</td>\n",
              "      <td>NaN</td>\n",
              "      <td>NaN</td>\n",
              "      <td>NaN</td>\n",
              "      <td>NaN</td>\n",
              "      <td>NaN</td>\n",
              "      <td>NaN</td>\n",
              "      <td>NaN</td>\n",
              "    </tr>\n",
              "    <tr>\n",
              "      <th>4</th>\n",
              "      <td>Arab World</td>\n",
              "      <td>ARB</td>\n",
              "      <td>Adjusted net enrolment rate, primary, both sex...</td>\n",
              "      <td>SE.PRM.TENR</td>\n",
              "      <td>54.822121</td>\n",
              "      <td>54.894138</td>\n",
              "      <td>56.209438</td>\n",
              "      <td>57.267109</td>\n",
              "      <td>57.991138</td>\n",
              "      <td>59.36554</td>\n",
              "      <td>60.999962</td>\n",
              "      <td>61.92268</td>\n",
              "      <td>62.69342</td>\n",
              "      <td>64.383186</td>\n",
              "      <td>65.617767</td>\n",
              "      <td>66.085152</td>\n",
              "      <td>66.608139</td>\n",
              "      <td>67.290451</td>\n",
              "      <td>68.510094</td>\n",
              "      <td>69.033211</td>\n",
              "      <td>69.944908</td>\n",
              "      <td>71.04187</td>\n",
              "      <td>71.693779</td>\n",
              "      <td>71.699097</td>\n",
              "      <td>71.995819</td>\n",
              "      <td>72.602837</td>\n",
              "      <td>70.032722</td>\n",
              "      <td>70.464821</td>\n",
              "      <td>72.645683</td>\n",
              "      <td>71.81176</td>\n",
              "      <td>73.903511</td>\n",
              "      <td>74.425201</td>\n",
              "      <td>75.110817</td>\n",
              "      <td>76.254318</td>\n",
              "      <td>77.245682</td>\n",
              "      <td>78.800522</td>\n",
              "      <td>80.051399</td>\n",
              "      <td>80.805389</td>\n",
              "      <td>81.607063</td>\n",
              "      <td>82.489487</td>\n",
              "      <td>82.685509</td>\n",
              "      <td>83.280342</td>\n",
              "      <td>84.011871</td>\n",
              "      <td>84.195961</td>\n",
              "      <td>85.211998</td>\n",
              "      <td>85.24514</td>\n",
              "      <td>86.101669</td>\n",
              "      <td>85.51194</td>\n",
              "      <td>85.320152</td>\n",
              "      <td>NaN</td>\n",
              "      <td>NaN</td>\n",
              "      <td>NaN</td>\n",
              "      <td>NaN</td>\n",
              "      <td>NaN</td>\n",
              "      <td>NaN</td>\n",
              "      <td>NaN</td>\n",
              "      <td>NaN</td>\n",
              "      <td>NaN</td>\n",
              "      <td>NaN</td>\n",
              "      <td>NaN</td>\n",
              "      <td>NaN</td>\n",
              "      <td>NaN</td>\n",
              "      <td>NaN</td>\n",
              "      <td>NaN</td>\n",
              "      <td>NaN</td>\n",
              "      <td>NaN</td>\n",
              "      <td>NaN</td>\n",
              "      <td>NaN</td>\n",
              "      <td>NaN</td>\n",
              "      <td>NaN</td>\n",
              "    </tr>\n",
              "  </tbody>\n",
              "</table>\n",
              "</div>"
            ],
            "text/plain": [
              "  Country Name Country Code  ... 2100 Unnamed: 69\n",
              "0   Arab World          ARB  ...  NaN         NaN\n",
              "1   Arab World          ARB  ...  NaN         NaN\n",
              "2   Arab World          ARB  ...  NaN         NaN\n",
              "3   Arab World          ARB  ...  NaN         NaN\n",
              "4   Arab World          ARB  ...  NaN         NaN\n",
              "\n",
              "[5 rows x 70 columns]"
            ]
          },
          "metadata": {
            "tags": []
          },
          "execution_count": 10
        }
      ]
    },
    {
      "cell_type": "code",
      "metadata": {
        "colab": {
          "base_uri": "https://localhost:8080/"
        },
        "id": "Zd83h5RSJ1tg",
        "outputId": "c14a39b4-3d35-4988-ac61-851153ec4984"
      },
      "source": [
        "df_stats_data.columns"
      ],
      "execution_count": 11,
      "outputs": [
        {
          "output_type": "execute_result",
          "data": {
            "text/plain": [
              "Index(['Country Name', 'Country Code', 'Indicator Name', 'Indicator Code',\n",
              "       '1970', '1971', '1972', '1973', '1974', '1975', '1976', '1977', '1978',\n",
              "       '1979', '1980', '1981', '1982', '1983', '1984', '1985', '1986', '1987',\n",
              "       '1988', '1989', '1990', '1991', '1992', '1993', '1994', '1995', '1996',\n",
              "       '1997', '1998', '1999', '2000', '2001', '2002', '2003', '2004', '2005',\n",
              "       '2006', '2007', '2008', '2009', '2010', '2011', '2012', '2013', '2014',\n",
              "       '2015', '2016', '2017', '2020', '2025', '2030', '2035', '2040', '2045',\n",
              "       '2050', '2055', '2060', '2065', '2070', '2075', '2080', '2085', '2090',\n",
              "       '2095', '2100', 'Unnamed: 69'],\n",
              "      dtype='object')"
            ]
          },
          "metadata": {
            "tags": []
          },
          "execution_count": 11
        }
      ]
    },
    {
      "cell_type": "code",
      "metadata": {
        "colab": {
          "base_uri": "https://localhost:8080/"
        },
        "id": "5UlxIEspJ5FO",
        "outputId": "01ae58a0-fa4c-48b6-b5eb-a295bacc5de5"
      },
      "source": [
        "df_stats_data.shape"
      ],
      "execution_count": 13,
      "outputs": [
        {
          "output_type": "execute_result",
          "data": {
            "text/plain": [
              "(886930, 70)"
            ]
          },
          "metadata": {
            "tags": []
          },
          "execution_count": 13
        }
      ]
    },
    {
      "cell_type": "code",
      "metadata": {
        "colab": {
          "base_uri": "https://localhost:8080/"
        },
        "id": "Mg_1UtSKJ8cL",
        "outputId": "9e40a78c-ad06-4950-9c23-d9ad2edece87"
      },
      "source": [
        "df_stats_data.info()"
      ],
      "execution_count": 14,
      "outputs": [
        {
          "output_type": "stream",
          "text": [
            "<class 'pandas.core.frame.DataFrame'>\n",
            "RangeIndex: 886930 entries, 0 to 886929\n",
            "Data columns (total 70 columns):\n",
            " #   Column          Non-Null Count   Dtype  \n",
            "---  ------          --------------   -----  \n",
            " 0   Country Name    886930 non-null  object \n",
            " 1   Country Code    886930 non-null  object \n",
            " 2   Indicator Name  886930 non-null  object \n",
            " 3   Indicator Code  886930 non-null  object \n",
            " 4   1970            72288 non-null   float64\n",
            " 5   1971            35537 non-null   float64\n",
            " 6   1972            35619 non-null   float64\n",
            " 7   1973            35545 non-null   float64\n",
            " 8   1974            35730 non-null   float64\n",
            " 9   1975            87306 non-null   float64\n",
            " 10  1976            37483 non-null   float64\n",
            " 11  1977            37574 non-null   float64\n",
            " 12  1978            37576 non-null   float64\n",
            " 13  1979            36809 non-null   float64\n",
            " 14  1980            89122 non-null   float64\n",
            " 15  1981            38777 non-null   float64\n",
            " 16  1982            37511 non-null   float64\n",
            " 17  1983            38460 non-null   float64\n",
            " 18  1984            38606 non-null   float64\n",
            " 19  1985            90296 non-null   float64\n",
            " 20  1986            39372 non-null   float64\n",
            " 21  1987            38641 non-null   float64\n",
            " 22  1988            38552 non-null   float64\n",
            " 23  1989            37540 non-null   float64\n",
            " 24  1990            124405 non-null  float64\n",
            " 25  1991            74437 non-null   float64\n",
            " 26  1992            75543 non-null   float64\n",
            " 27  1993            75793 non-null   float64\n",
            " 28  1994            77462 non-null   float64\n",
            " 29  1995            131361 non-null  float64\n",
            " 30  1996            76807 non-null   float64\n",
            " 31  1997            73453 non-null   float64\n",
            " 32  1998            84914 non-null   float64\n",
            " 33  1999            118839 non-null  float64\n",
            " 34  2000            176676 non-null  float64\n",
            " 35  2001            123509 non-null  float64\n",
            " 36  2002            124205 non-null  float64\n",
            " 37  2003            130363 non-null  float64\n",
            " 38  2004            128814 non-null  float64\n",
            " 39  2005            184108 non-null  float64\n",
            " 40  2006            140312 non-null  float64\n",
            " 41  2007            137272 non-null  float64\n",
            " 42  2008            134387 non-null  float64\n",
            " 43  2009            142108 non-null  float64\n",
            " 44  2010            242442 non-null  float64\n",
            " 45  2011            146012 non-null  float64\n",
            " 46  2012            147264 non-null  float64\n",
            " 47  2013            137509 non-null  float64\n",
            " 48  2014            113789 non-null  float64\n",
            " 49  2015            131058 non-null  float64\n",
            " 50  2016            16460 non-null   float64\n",
            " 51  2017            143 non-null     float64\n",
            " 52  2020            51436 non-null   float64\n",
            " 53  2025            51436 non-null   float64\n",
            " 54  2030            51436 non-null   float64\n",
            " 55  2035            51436 non-null   float64\n",
            " 56  2040            51436 non-null   float64\n",
            " 57  2045            51436 non-null   float64\n",
            " 58  2050            51436 non-null   float64\n",
            " 59  2055            51436 non-null   float64\n",
            " 60  2060            51436 non-null   float64\n",
            " 61  2065            51436 non-null   float64\n",
            " 62  2070            51436 non-null   float64\n",
            " 63  2075            51436 non-null   float64\n",
            " 64  2080            51436 non-null   float64\n",
            " 65  2085            51436 non-null   float64\n",
            " 66  2090            51436 non-null   float64\n",
            " 67  2095            51436 non-null   float64\n",
            " 68  2100            51436 non-null   float64\n",
            " 69  Unnamed: 69     0 non-null       float64\n",
            "dtypes: float64(66), object(4)\n",
            "memory usage: 473.7+ MB\n"
          ],
          "name": "stdout"
        }
      ]
    },
    {
      "cell_type": "markdown",
      "metadata": {
        "id": "x5tJ8-wxvhbg"
      },
      "source": [
        "**Year 2010 has the highest non-null values**"
      ]
    },
    {
      "cell_type": "code",
      "metadata": {
        "colab": {
          "base_uri": "https://localhost:8080/"
        },
        "id": "8P6uBOMPKKsU",
        "outputId": "06aa1183-bf5a-4903-84b9-61f2459c6786"
      },
      "source": [
        "df_stats_data['Country Name'].unique()"
      ],
      "execution_count": 17,
      "outputs": [
        {
          "output_type": "execute_result",
          "data": {
            "text/plain": [
              "array(['Arab World', 'East Asia & Pacific',\n",
              "       'East Asia & Pacific (excluding high income)', 'Euro area',\n",
              "       'Europe & Central Asia',\n",
              "       'Europe & Central Asia (excluding high income)', 'European Union',\n",
              "       'Heavily indebted poor countries (HIPC)', 'High income',\n",
              "       'Latin America & Caribbean',\n",
              "       'Latin America & Caribbean (excluding high income)',\n",
              "       'Least developed countries: UN classification',\n",
              "       'Low & middle income', 'Low income', 'Lower middle income',\n",
              "       'Middle East & North Africa',\n",
              "       'Middle East & North Africa (excluding high income)',\n",
              "       'Middle income', 'North America', 'OECD members', 'South Asia',\n",
              "       'Sub-Saharan Africa', 'Sub-Saharan Africa (excluding high income)',\n",
              "       'Upper middle income', 'World', 'Afghanistan', 'Albania',\n",
              "       'Algeria', 'American Samoa', 'Andorra', 'Angola',\n",
              "       'Antigua and Barbuda', 'Argentina', 'Armenia', 'Aruba',\n",
              "       'Australia', 'Austria', 'Azerbaijan', 'Bahamas, The', 'Bahrain',\n",
              "       'Bangladesh', 'Barbados', 'Belarus', 'Belgium', 'Belize', 'Benin',\n",
              "       'Bermuda', 'Bhutan', 'Bolivia', 'Bosnia and Herzegovina',\n",
              "       'Botswana', 'Brazil', 'British Virgin Islands',\n",
              "       'Brunei Darussalam', 'Bulgaria', 'Burkina Faso', 'Burundi',\n",
              "       'Cabo Verde', 'Cambodia', 'Cameroon', 'Canada', 'Cayman Islands',\n",
              "       'Central African Republic', 'Chad', 'Channel Islands', 'Chile',\n",
              "       'China', 'Colombia', 'Comoros', 'Congo, Dem. Rep.', 'Congo, Rep.',\n",
              "       'Costa Rica', \"Cote d'Ivoire\", 'Croatia', 'Cuba', 'Curacao',\n",
              "       'Cyprus', 'Czech Republic', 'Denmark', 'Djibouti', 'Dominica',\n",
              "       'Dominican Republic', 'Ecuador', 'Egypt, Arab Rep.', 'El Salvador',\n",
              "       'Equatorial Guinea', 'Eritrea', 'Estonia', 'Ethiopia',\n",
              "       'Faroe Islands', 'Fiji', 'Finland', 'France', 'French Polynesia',\n",
              "       'Gabon', 'Gambia, The', 'Georgia', 'Germany', 'Ghana', 'Gibraltar',\n",
              "       'Greece', 'Greenland', 'Grenada', 'Guam', 'Guatemala', 'Guinea',\n",
              "       'Guinea-Bissau', 'Guyana', 'Haiti', 'Honduras',\n",
              "       'Hong Kong SAR, China', 'Hungary', 'Iceland', 'India', 'Indonesia',\n",
              "       'Iran, Islamic Rep.', 'Iraq', 'Ireland', 'Isle of Man', 'Israel',\n",
              "       'Italy', 'Jamaica', 'Japan', 'Jordan', 'Kazakhstan', 'Kenya',\n",
              "       'Kiribati', 'Korea, Dem. People’s Rep.', 'Korea, Rep.', 'Kosovo',\n",
              "       'Kuwait', 'Kyrgyz Republic', 'Lao PDR', 'Latvia', 'Lebanon',\n",
              "       'Lesotho', 'Liberia', 'Libya', 'Liechtenstein', 'Lithuania',\n",
              "       'Luxembourg', 'Macao SAR, China', 'Macedonia, FYR', 'Madagascar',\n",
              "       'Malawi', 'Malaysia', 'Maldives', 'Mali', 'Malta',\n",
              "       'Marshall Islands', 'Mauritania', 'Mauritius', 'Mexico',\n",
              "       'Micronesia, Fed. Sts.', 'Moldova', 'Monaco', 'Mongolia',\n",
              "       'Montenegro', 'Morocco', 'Mozambique', 'Myanmar', 'Namibia',\n",
              "       'Nauru', 'Nepal', 'Netherlands', 'New Caledonia', 'New Zealand',\n",
              "       'Nicaragua', 'Niger', 'Nigeria', 'Northern Mariana Islands',\n",
              "       'Norway', 'Oman', 'Pakistan', 'Palau', 'Panama',\n",
              "       'Papua New Guinea', 'Paraguay', 'Peru', 'Philippines', 'Poland',\n",
              "       'Portugal', 'Puerto Rico', 'Qatar', 'Romania',\n",
              "       'Russian Federation', 'Rwanda', 'Samoa', 'San Marino',\n",
              "       'Sao Tome and Principe', 'Saudi Arabia', 'Senegal', 'Serbia',\n",
              "       'Seychelles', 'Sierra Leone', 'Singapore',\n",
              "       'Sint Maarten (Dutch part)', 'Slovak Republic', 'Slovenia',\n",
              "       'Solomon Islands', 'Somalia', 'South Africa', 'South Sudan',\n",
              "       'Spain', 'Sri Lanka', 'St. Kitts and Nevis', 'St. Lucia',\n",
              "       'St. Martin (French part)', 'St. Vincent and the Grenadines',\n",
              "       'Sudan', 'Suriname', 'Swaziland', 'Sweden', 'Switzerland',\n",
              "       'Syrian Arab Republic', 'Tajikistan', 'Tanzania', 'Thailand',\n",
              "       'Timor-Leste', 'Togo', 'Tonga', 'Trinidad and Tobago', 'Tunisia',\n",
              "       'Turkey', 'Turkmenistan', 'Turks and Caicos Islands', 'Tuvalu',\n",
              "       'Uganda', 'Ukraine', 'United Arab Emirates', 'United Kingdom',\n",
              "       'United States', 'Uruguay', 'Uzbekistan', 'Vanuatu',\n",
              "       'Venezuela, RB', 'Vietnam', 'Virgin Islands (U.S.)',\n",
              "       'West Bank and Gaza', 'Yemen, Rep.', 'Zambia', 'Zimbabwe'],\n",
              "      dtype=object)"
            ]
          },
          "metadata": {
            "tags": []
          },
          "execution_count": 17
        }
      ]
    },
    {
      "cell_type": "code",
      "metadata": {
        "colab": {
          "base_uri": "https://localhost:8080/"
        },
        "id": "AbCd_HjTLygF",
        "outputId": "a8513ceb-0697-4786-98f5-a7cac60027e8"
      },
      "source": [
        "df_stats_data['Country Name'].unique().shape"
      ],
      "execution_count": 21,
      "outputs": [
        {
          "output_type": "execute_result",
          "data": {
            "text/plain": [
              "(242,)"
            ]
          },
          "metadata": {
            "tags": []
          },
          "execution_count": 21
        }
      ]
    },
    {
      "cell_type": "code",
      "metadata": {
        "colab": {
          "base_uri": "https://localhost:8080/",
          "height": 666
        },
        "id": "wCSNcY54zF0A",
        "outputId": "1c1d6676-38ba-419d-dfe9-558cdb5bc3ac"
      },
      "source": [
        "df_stats_data[df_stats_data['Country Name'] == 'High income'].head()"
      ],
      "execution_count": 19,
      "outputs": [
        {
          "output_type": "execute_result",
          "data": {
            "text/html": [
              "<div>\n",
              "<style scoped>\n",
              "    .dataframe tbody tr th:only-of-type {\n",
              "        vertical-align: middle;\n",
              "    }\n",
              "\n",
              "    .dataframe tbody tr th {\n",
              "        vertical-align: top;\n",
              "    }\n",
              "\n",
              "    .dataframe thead th {\n",
              "        text-align: right;\n",
              "    }\n",
              "</style>\n",
              "<table border=\"1\" class=\"dataframe\">\n",
              "  <thead>\n",
              "    <tr style=\"text-align: right;\">\n",
              "      <th></th>\n",
              "      <th>Country Name</th>\n",
              "      <th>Country Code</th>\n",
              "      <th>Indicator Name</th>\n",
              "      <th>Indicator Code</th>\n",
              "      <th>1970</th>\n",
              "      <th>1971</th>\n",
              "      <th>1972</th>\n",
              "      <th>1973</th>\n",
              "      <th>1974</th>\n",
              "      <th>1975</th>\n",
              "      <th>1976</th>\n",
              "      <th>1977</th>\n",
              "      <th>1978</th>\n",
              "      <th>1979</th>\n",
              "      <th>1980</th>\n",
              "      <th>1981</th>\n",
              "      <th>1982</th>\n",
              "      <th>1983</th>\n",
              "      <th>1984</th>\n",
              "      <th>1985</th>\n",
              "      <th>1986</th>\n",
              "      <th>1987</th>\n",
              "      <th>1988</th>\n",
              "      <th>1989</th>\n",
              "      <th>1990</th>\n",
              "      <th>1991</th>\n",
              "      <th>1992</th>\n",
              "      <th>1993</th>\n",
              "      <th>1994</th>\n",
              "      <th>1995</th>\n",
              "      <th>1996</th>\n",
              "      <th>1997</th>\n",
              "      <th>1998</th>\n",
              "      <th>1999</th>\n",
              "      <th>2000</th>\n",
              "      <th>2001</th>\n",
              "      <th>2002</th>\n",
              "      <th>2003</th>\n",
              "      <th>2004</th>\n",
              "      <th>2005</th>\n",
              "      <th>2006</th>\n",
              "      <th>2007</th>\n",
              "      <th>2008</th>\n",
              "      <th>2009</th>\n",
              "      <th>2010</th>\n",
              "      <th>2011</th>\n",
              "      <th>2012</th>\n",
              "      <th>2013</th>\n",
              "      <th>2014</th>\n",
              "      <th>2015</th>\n",
              "      <th>2016</th>\n",
              "      <th>2017</th>\n",
              "      <th>2020</th>\n",
              "      <th>2025</th>\n",
              "      <th>2030</th>\n",
              "      <th>2035</th>\n",
              "      <th>2040</th>\n",
              "      <th>2045</th>\n",
              "      <th>2050</th>\n",
              "      <th>2055</th>\n",
              "      <th>2060</th>\n",
              "      <th>2065</th>\n",
              "      <th>2070</th>\n",
              "      <th>2075</th>\n",
              "      <th>2080</th>\n",
              "      <th>2085</th>\n",
              "      <th>2090</th>\n",
              "      <th>2095</th>\n",
              "      <th>2100</th>\n",
              "      <th>Unnamed: 69</th>\n",
              "    </tr>\n",
              "  </thead>\n",
              "  <tbody>\n",
              "    <tr>\n",
              "      <th>29320</th>\n",
              "      <td>High income</td>\n",
              "      <td>HIC</td>\n",
              "      <td>Adjusted net enrolment rate, lower secondary, ...</td>\n",
              "      <td>UIS.NERA.2</td>\n",
              "      <td>NaN</td>\n",
              "      <td>NaN</td>\n",
              "      <td>NaN</td>\n",
              "      <td>NaN</td>\n",
              "      <td>NaN</td>\n",
              "      <td>NaN</td>\n",
              "      <td>NaN</td>\n",
              "      <td>NaN</td>\n",
              "      <td>NaN</td>\n",
              "      <td>NaN</td>\n",
              "      <td>NaN</td>\n",
              "      <td>NaN</td>\n",
              "      <td>NaN</td>\n",
              "      <td>NaN</td>\n",
              "      <td>NaN</td>\n",
              "      <td>NaN</td>\n",
              "      <td>NaN</td>\n",
              "      <td>NaN</td>\n",
              "      <td>NaN</td>\n",
              "      <td>NaN</td>\n",
              "      <td>NaN</td>\n",
              "      <td>NaN</td>\n",
              "      <td>NaN</td>\n",
              "      <td>NaN</td>\n",
              "      <td>NaN</td>\n",
              "      <td>NaN</td>\n",
              "      <td>NaN</td>\n",
              "      <td>NaN</td>\n",
              "      <td>NaN</td>\n",
              "      <td>NaN</td>\n",
              "      <td>NaN</td>\n",
              "      <td>NaN</td>\n",
              "      <td>NaN</td>\n",
              "      <td>NaN</td>\n",
              "      <td>NaN</td>\n",
              "      <td>NaN</td>\n",
              "      <td>NaN</td>\n",
              "      <td>NaN</td>\n",
              "      <td>NaN</td>\n",
              "      <td>NaN</td>\n",
              "      <td>NaN</td>\n",
              "      <td>NaN</td>\n",
              "      <td>NaN</td>\n",
              "      <td>NaN</td>\n",
              "      <td>NaN</td>\n",
              "      <td>NaN</td>\n",
              "      <td>NaN</td>\n",
              "      <td>NaN</td>\n",
              "      <td>NaN</td>\n",
              "      <td>NaN</td>\n",
              "      <td>NaN</td>\n",
              "      <td>NaN</td>\n",
              "      <td>NaN</td>\n",
              "      <td>NaN</td>\n",
              "      <td>NaN</td>\n",
              "      <td>NaN</td>\n",
              "      <td>NaN</td>\n",
              "      <td>NaN</td>\n",
              "      <td>NaN</td>\n",
              "      <td>NaN</td>\n",
              "      <td>NaN</td>\n",
              "      <td>NaN</td>\n",
              "      <td>NaN</td>\n",
              "      <td>NaN</td>\n",
              "      <td>NaN</td>\n",
              "      <td>NaN</td>\n",
              "    </tr>\n",
              "    <tr>\n",
              "      <th>29321</th>\n",
              "      <td>High income</td>\n",
              "      <td>HIC</td>\n",
              "      <td>Adjusted net enrolment rate, lower secondary, ...</td>\n",
              "      <td>UIS.NERA.2.F</td>\n",
              "      <td>NaN</td>\n",
              "      <td>NaN</td>\n",
              "      <td>NaN</td>\n",
              "      <td>NaN</td>\n",
              "      <td>NaN</td>\n",
              "      <td>NaN</td>\n",
              "      <td>NaN</td>\n",
              "      <td>NaN</td>\n",
              "      <td>NaN</td>\n",
              "      <td>NaN</td>\n",
              "      <td>NaN</td>\n",
              "      <td>NaN</td>\n",
              "      <td>NaN</td>\n",
              "      <td>NaN</td>\n",
              "      <td>NaN</td>\n",
              "      <td>NaN</td>\n",
              "      <td>NaN</td>\n",
              "      <td>NaN</td>\n",
              "      <td>NaN</td>\n",
              "      <td>NaN</td>\n",
              "      <td>NaN</td>\n",
              "      <td>NaN</td>\n",
              "      <td>NaN</td>\n",
              "      <td>NaN</td>\n",
              "      <td>NaN</td>\n",
              "      <td>NaN</td>\n",
              "      <td>NaN</td>\n",
              "      <td>NaN</td>\n",
              "      <td>NaN</td>\n",
              "      <td>NaN</td>\n",
              "      <td>NaN</td>\n",
              "      <td>NaN</td>\n",
              "      <td>NaN</td>\n",
              "      <td>NaN</td>\n",
              "      <td>NaN</td>\n",
              "      <td>NaN</td>\n",
              "      <td>NaN</td>\n",
              "      <td>NaN</td>\n",
              "      <td>NaN</td>\n",
              "      <td>NaN</td>\n",
              "      <td>NaN</td>\n",
              "      <td>NaN</td>\n",
              "      <td>NaN</td>\n",
              "      <td>NaN</td>\n",
              "      <td>NaN</td>\n",
              "      <td>NaN</td>\n",
              "      <td>NaN</td>\n",
              "      <td>NaN</td>\n",
              "      <td>NaN</td>\n",
              "      <td>NaN</td>\n",
              "      <td>NaN</td>\n",
              "      <td>NaN</td>\n",
              "      <td>NaN</td>\n",
              "      <td>NaN</td>\n",
              "      <td>NaN</td>\n",
              "      <td>NaN</td>\n",
              "      <td>NaN</td>\n",
              "      <td>NaN</td>\n",
              "      <td>NaN</td>\n",
              "      <td>NaN</td>\n",
              "      <td>NaN</td>\n",
              "      <td>NaN</td>\n",
              "      <td>NaN</td>\n",
              "      <td>NaN</td>\n",
              "      <td>NaN</td>\n",
              "      <td>NaN</td>\n",
              "    </tr>\n",
              "    <tr>\n",
              "      <th>29322</th>\n",
              "      <td>High income</td>\n",
              "      <td>HIC</td>\n",
              "      <td>Adjusted net enrolment rate, lower secondary, ...</td>\n",
              "      <td>UIS.NERA.2.GPI</td>\n",
              "      <td>NaN</td>\n",
              "      <td>NaN</td>\n",
              "      <td>NaN</td>\n",
              "      <td>NaN</td>\n",
              "      <td>NaN</td>\n",
              "      <td>NaN</td>\n",
              "      <td>NaN</td>\n",
              "      <td>NaN</td>\n",
              "      <td>NaN</td>\n",
              "      <td>NaN</td>\n",
              "      <td>NaN</td>\n",
              "      <td>NaN</td>\n",
              "      <td>NaN</td>\n",
              "      <td>NaN</td>\n",
              "      <td>NaN</td>\n",
              "      <td>NaN</td>\n",
              "      <td>NaN</td>\n",
              "      <td>NaN</td>\n",
              "      <td>NaN</td>\n",
              "      <td>NaN</td>\n",
              "      <td>NaN</td>\n",
              "      <td>NaN</td>\n",
              "      <td>NaN</td>\n",
              "      <td>NaN</td>\n",
              "      <td>NaN</td>\n",
              "      <td>NaN</td>\n",
              "      <td>NaN</td>\n",
              "      <td>NaN</td>\n",
              "      <td>NaN</td>\n",
              "      <td>NaN</td>\n",
              "      <td>NaN</td>\n",
              "      <td>NaN</td>\n",
              "      <td>NaN</td>\n",
              "      <td>NaN</td>\n",
              "      <td>NaN</td>\n",
              "      <td>NaN</td>\n",
              "      <td>NaN</td>\n",
              "      <td>NaN</td>\n",
              "      <td>NaN</td>\n",
              "      <td>NaN</td>\n",
              "      <td>NaN</td>\n",
              "      <td>NaN</td>\n",
              "      <td>NaN</td>\n",
              "      <td>NaN</td>\n",
              "      <td>NaN</td>\n",
              "      <td>NaN</td>\n",
              "      <td>NaN</td>\n",
              "      <td>NaN</td>\n",
              "      <td>NaN</td>\n",
              "      <td>NaN</td>\n",
              "      <td>NaN</td>\n",
              "      <td>NaN</td>\n",
              "      <td>NaN</td>\n",
              "      <td>NaN</td>\n",
              "      <td>NaN</td>\n",
              "      <td>NaN</td>\n",
              "      <td>NaN</td>\n",
              "      <td>NaN</td>\n",
              "      <td>NaN</td>\n",
              "      <td>NaN</td>\n",
              "      <td>NaN</td>\n",
              "      <td>NaN</td>\n",
              "      <td>NaN</td>\n",
              "      <td>NaN</td>\n",
              "      <td>NaN</td>\n",
              "      <td>NaN</td>\n",
              "    </tr>\n",
              "    <tr>\n",
              "      <th>29323</th>\n",
              "      <td>High income</td>\n",
              "      <td>HIC</td>\n",
              "      <td>Adjusted net enrolment rate, lower secondary, ...</td>\n",
              "      <td>UIS.NERA.2.M</td>\n",
              "      <td>NaN</td>\n",
              "      <td>NaN</td>\n",
              "      <td>NaN</td>\n",
              "      <td>NaN</td>\n",
              "      <td>NaN</td>\n",
              "      <td>NaN</td>\n",
              "      <td>NaN</td>\n",
              "      <td>NaN</td>\n",
              "      <td>NaN</td>\n",
              "      <td>NaN</td>\n",
              "      <td>NaN</td>\n",
              "      <td>NaN</td>\n",
              "      <td>NaN</td>\n",
              "      <td>NaN</td>\n",
              "      <td>NaN</td>\n",
              "      <td>NaN</td>\n",
              "      <td>NaN</td>\n",
              "      <td>NaN</td>\n",
              "      <td>NaN</td>\n",
              "      <td>NaN</td>\n",
              "      <td>NaN</td>\n",
              "      <td>NaN</td>\n",
              "      <td>NaN</td>\n",
              "      <td>NaN</td>\n",
              "      <td>NaN</td>\n",
              "      <td>NaN</td>\n",
              "      <td>NaN</td>\n",
              "      <td>NaN</td>\n",
              "      <td>NaN</td>\n",
              "      <td>NaN</td>\n",
              "      <td>NaN</td>\n",
              "      <td>NaN</td>\n",
              "      <td>NaN</td>\n",
              "      <td>NaN</td>\n",
              "      <td>NaN</td>\n",
              "      <td>NaN</td>\n",
              "      <td>NaN</td>\n",
              "      <td>NaN</td>\n",
              "      <td>NaN</td>\n",
              "      <td>NaN</td>\n",
              "      <td>NaN</td>\n",
              "      <td>NaN</td>\n",
              "      <td>NaN</td>\n",
              "      <td>NaN</td>\n",
              "      <td>NaN</td>\n",
              "      <td>NaN</td>\n",
              "      <td>NaN</td>\n",
              "      <td>NaN</td>\n",
              "      <td>NaN</td>\n",
              "      <td>NaN</td>\n",
              "      <td>NaN</td>\n",
              "      <td>NaN</td>\n",
              "      <td>NaN</td>\n",
              "      <td>NaN</td>\n",
              "      <td>NaN</td>\n",
              "      <td>NaN</td>\n",
              "      <td>NaN</td>\n",
              "      <td>NaN</td>\n",
              "      <td>NaN</td>\n",
              "      <td>NaN</td>\n",
              "      <td>NaN</td>\n",
              "      <td>NaN</td>\n",
              "      <td>NaN</td>\n",
              "      <td>NaN</td>\n",
              "      <td>NaN</td>\n",
              "      <td>NaN</td>\n",
              "    </tr>\n",
              "    <tr>\n",
              "      <th>29324</th>\n",
              "      <td>High income</td>\n",
              "      <td>HIC</td>\n",
              "      <td>Adjusted net enrolment rate, primary, both sex...</td>\n",
              "      <td>SE.PRM.TENR</td>\n",
              "      <td>90.785957</td>\n",
              "      <td>90.821022</td>\n",
              "      <td>90.782692</td>\n",
              "      <td>91.206543</td>\n",
              "      <td>90.905762</td>\n",
              "      <td>91.217361</td>\n",
              "      <td>91.848343</td>\n",
              "      <td>91.976501</td>\n",
              "      <td>92.2687</td>\n",
              "      <td>92.34864</td>\n",
              "      <td>94.52446</td>\n",
              "      <td>94.47982</td>\n",
              "      <td>94.986397</td>\n",
              "      <td>94.384354</td>\n",
              "      <td>93.971626</td>\n",
              "      <td>93.959061</td>\n",
              "      <td>94.555771</td>\n",
              "      <td>95.135628</td>\n",
              "      <td>95.452202</td>\n",
              "      <td>95.646523</td>\n",
              "      <td>95.81282</td>\n",
              "      <td>95.725754</td>\n",
              "      <td>95.19297</td>\n",
              "      <td>94.950569</td>\n",
              "      <td>94.89193</td>\n",
              "      <td>95.349281</td>\n",
              "      <td>95.454369</td>\n",
              "      <td>96.06179</td>\n",
              "      <td>96.783943</td>\n",
              "      <td>97.016472</td>\n",
              "      <td>97.116257</td>\n",
              "      <td>97.035896</td>\n",
              "      <td>96.614098</td>\n",
              "      <td>96.477371</td>\n",
              "      <td>96.096107</td>\n",
              "      <td>96.379227</td>\n",
              "      <td>96.789879</td>\n",
              "      <td>97.177429</td>\n",
              "      <td>97.457123</td>\n",
              "      <td>97.03537</td>\n",
              "      <td>96.959221</td>\n",
              "      <td>96.640938</td>\n",
              "      <td>96.868973</td>\n",
              "      <td>96.800774</td>\n",
              "      <td>96.817528</td>\n",
              "      <td>97.163872</td>\n",
              "      <td>NaN</td>\n",
              "      <td>NaN</td>\n",
              "      <td>NaN</td>\n",
              "      <td>NaN</td>\n",
              "      <td>NaN</td>\n",
              "      <td>NaN</td>\n",
              "      <td>NaN</td>\n",
              "      <td>NaN</td>\n",
              "      <td>NaN</td>\n",
              "      <td>NaN</td>\n",
              "      <td>NaN</td>\n",
              "      <td>NaN</td>\n",
              "      <td>NaN</td>\n",
              "      <td>NaN</td>\n",
              "      <td>NaN</td>\n",
              "      <td>NaN</td>\n",
              "      <td>NaN</td>\n",
              "      <td>NaN</td>\n",
              "      <td>NaN</td>\n",
              "      <td>NaN</td>\n",
              "    </tr>\n",
              "  </tbody>\n",
              "</table>\n",
              "</div>"
            ],
            "text/plain": [
              "      Country Name Country Code  ... 2100 Unnamed: 69\n",
              "29320  High income          HIC  ...  NaN         NaN\n",
              "29321  High income          HIC  ...  NaN         NaN\n",
              "29322  High income          HIC  ...  NaN         NaN\n",
              "29323  High income          HIC  ...  NaN         NaN\n",
              "29324  High income          HIC  ...  NaN         NaN\n",
              "\n",
              "[5 rows x 70 columns]"
            ]
          },
          "metadata": {
            "tags": []
          },
          "execution_count": 19
        }
      ]
    },
    {
      "cell_type": "code",
      "metadata": {
        "colab": {
          "base_uri": "https://localhost:8080/"
        },
        "id": "qy7_VwDMo1SB",
        "outputId": "bec5f84c-98a8-46b2-989c-20f587c259e1"
      },
      "source": [
        "df_stats_data.loc[~df_stats_data['2017'].isna(),'Indicator Name'].unique()"
      ],
      "execution_count": 135,
      "outputs": [
        {
          "output_type": "execute_result",
          "data": {
            "text/plain": [
              "array(['SABER: (Education Management Information Systems) Policy Goal 1 Lever 1: Legal Framework',\n",
              "       'SABER: (Education Management Information Systems) Policy Goal 1 Lever 2: Organizational Structure',\n",
              "       'SABER: (Education Management Information Systems) Policy Goal 1 Lever 3: Human Resources',\n",
              "       'SABER: (Education Management Information Systems) Policy Goal 1 Lever 4: Infrastructural capacity',\n",
              "       'SABER: (Education Management Information Systems) Policy Goal 1 Lever 5: Budget',\n",
              "       'SABER: (Education Management Information Systems) Policy Goal 1 Lever 6: Data-driven Culture',\n",
              "       'SABER: (Education Management Information Systems) Policy Goal 1: Enabling Environment',\n",
              "       'SABER: (Education Management Information Systems) Policy Goal 2 Lever 1: Data Architecture',\n",
              "       'SABER: (Education Management Information Systems) Policy Goal 2 Lever 2: Data Coverage',\n",
              "       'SABER: (Education Management Information Systems) Policy Goal 2 Lever 3: Data Analytics',\n",
              "       'SABER: (Education Management Information Systems) Policy Goal 2 Lever 4: Dynamic System',\n",
              "       'SABER: (Education Management Information Systems) Policy Goal 2 Lever 5: Serviceability',\n",
              "       'SABER: (Education Management Information Systems) Policy Goal 2: System Soundness',\n",
              "       'SABER: (Education Management Information Systems) Policy Goal 3 Lever 1: Methodological Soundness',\n",
              "       'SABER: (Education Management Information Systems) Policy Goal 3 Lever 2: Accuracy and Reliability',\n",
              "       'SABER: (Education Management Information Systems) Policy Goal 3 Lever 3: Integrity',\n",
              "       'SABER: (Education Management Information Systems) Policy Goal 3 Lever 4: Periodicity and Timeliness',\n",
              "       'SABER: (Education Management Information Systems) Policy Goal 3: Quality data',\n",
              "       'SABER: (Education Management Information Systems) Policy Goal 4 Lever 1: Openness',\n",
              "       'SABER: (Education Management Information Systems) Policy Goal 4 Lever 2: Operational Use',\n",
              "       'SABER: (Education Management Information Systems) Policy Goal 4 Lever 3: Accessibility',\n",
              "       'SABER: (Education Management Information Systems) Policy Goal 4 Lever 4: Effectiveness in Disseminating Findings',\n",
              "       'SABER: (Education Management Information Systems) Policy Goal 4: Utilization in decision making',\n",
              "       'SABER: (Tertiary Education) Policy Goal 1 Lever 1: Clear vision',\n",
              "       'SABER: (Tertiary Education) Policy Goal 1: Vision for Tertiary Education',\n",
              "       'SABER: (Tertiary Education) Policy Goal 2 Lever 1: Steering the system',\n",
              "       'SABER: (Tertiary Education) Policy Goal 2: Regulatory Framework for Tertiary Education',\n",
              "       'SABER: (Tertiary Education) Policy Goal 3 Lever 1: Articulation',\n",
              "       'SABER: (Tertiary Education) Policy Goal 3 Lever 2: Institutional autonomy',\n",
              "       'SABER: (Tertiary Education) Policy Goal 3: Governance',\n",
              "       'SABER: (Tertiary Education) Policy Goal 4 Lever 1: Coverage of resource allocation',\n",
              "       'SABER: (Tertiary Education) Policy Goal 4 Lever 2: Resource allocation',\n",
              "       'SABER: (Tertiary Education) Policy Goal 4 Lever 3: Resource utilization (Equity)',\n",
              "       'SABER: (Tertiary Education) Policy Goal 4: Finance',\n",
              "       'SABER: (Tertiary Education) Policy Goal 5 Lever 1: Accreditation and Institutional Quality Standards',\n",
              "       'SABER: (Tertiary Education) Policy Goal 5: Quality Assurance',\n",
              "       'SABER: (Tertiary Education) Policy Goal 6 Lever 1: Economic Development',\n",
              "       'SABER: (Tertiary Education) Policy Goal 6 Lever 2: Fostering RDI and Innovation',\n",
              "       'SABER: (Tertiary Education) Policy Goal 6 Lever 3: Fostering Social and Cultural Development and Environmental Protection and Sustainability',\n",
              "       'SABER: (Tertiary Education) Policy Goal 6: The Relevance of Tertiary Education for Economic and Social Needs'],\n",
              "      dtype=object)"
            ]
          },
          "metadata": {
            "tags": []
          },
          "execution_count": 135
        }
      ]
    },
    {
      "cell_type": "code",
      "metadata": {
        "colab": {
          "base_uri": "https://localhost:8080/"
        },
        "id": "g-iyIxLGLjgE",
        "outputId": "13bcc7aa-884a-460a-8031-2093aa4f1754"
      },
      "source": [
        "df_stats_data['Indicator Name'].unique().shape"
      ],
      "execution_count": 20,
      "outputs": [
        {
          "output_type": "execute_result",
          "data": {
            "text/plain": [
              "(3665,)"
            ]
          },
          "metadata": {
            "tags": []
          },
          "execution_count": 20
        }
      ]
    },
    {
      "cell_type": "code",
      "metadata": {
        "colab": {
          "base_uri": "https://localhost:8080/"
        },
        "id": "gJnAYdHCz3a9",
        "outputId": "a8c6edd7-89f6-43b2-a3ac-2952d0e7bf5a"
      },
      "source": [
        "df_stats_data.shape"
      ],
      "execution_count": 17,
      "outputs": [
        {
          "output_type": "execute_result",
          "data": {
            "text/plain": [
              "(886930, 70)"
            ]
          },
          "metadata": {
            "tags": []
          },
          "execution_count": 17
        }
      ]
    },
    {
      "cell_type": "markdown",
      "metadata": {
        "id": "z-wKzRU2NXzw"
      },
      "source": [
        "**Considering the data from 2000 to 2015 and the rows which have atleast an indicator value. Not considering the rows which have all NaN values.**"
      ]
    },
    {
      "cell_type": "code",
      "metadata": {
        "id": "GEngNJ-EPATB"
      },
      "source": [
        "cols_required = np.concatenate((np.array(df_stats_data.columns[:4]),np.array(df_stats_data.loc[:,\"2000\":\"2015\"].columns)))"
      ],
      "execution_count": 7,
      "outputs": []
    },
    {
      "cell_type": "code",
      "metadata": {
        "colab": {
          "base_uri": "https://localhost:8080/"
        },
        "id": "iUDR0fhLPXI3",
        "outputId": "656c0191-edf0-4871-e60d-1139dcab485a"
      },
      "source": [
        "cols_required"
      ],
      "execution_count": 8,
      "outputs": [
        {
          "output_type": "execute_result",
          "data": {
            "text/plain": [
              "array(['Country Name', 'Country Code', 'Indicator Name', 'Indicator Code',\n",
              "       '2000', '2001', '2002', '2003', '2004', '2005', '2006', '2007',\n",
              "       '2008', '2009', '2010', '2011', '2012', '2013', '2014', '2015'],\n",
              "      dtype=object)"
            ]
          },
          "metadata": {
            "tags": []
          },
          "execution_count": 8
        }
      ]
    },
    {
      "cell_type": "code",
      "metadata": {
        "id": "BbDVovJIMFSx"
      },
      "source": [
        "new_stats_data = df_stats_data.loc[~df_stats_data.loc[:,\"2000\":\"2015\"].isna().all(axis=1),cols_required]"
      ],
      "execution_count": 10,
      "outputs": []
    },
    {
      "cell_type": "code",
      "metadata": {
        "colab": {
          "base_uri": "https://localhost:8080/",
          "height": 649
        },
        "id": "vzZbl3-b0ioY",
        "outputId": "c4e4b5ee-d643-416f-f2c4-f1398c6b0ea8"
      },
      "source": [
        "new_stats_data.head()"
      ],
      "execution_count": 11,
      "outputs": [
        {
          "output_type": "execute_result",
          "data": {
            "text/html": [
              "<div>\n",
              "<style scoped>\n",
              "    .dataframe tbody tr th:only-of-type {\n",
              "        vertical-align: middle;\n",
              "    }\n",
              "\n",
              "    .dataframe tbody tr th {\n",
              "        vertical-align: top;\n",
              "    }\n",
              "\n",
              "    .dataframe thead th {\n",
              "        text-align: right;\n",
              "    }\n",
              "</style>\n",
              "<table border=\"1\" class=\"dataframe\">\n",
              "  <thead>\n",
              "    <tr style=\"text-align: right;\">\n",
              "      <th></th>\n",
              "      <th>Country Name</th>\n",
              "      <th>Country Code</th>\n",
              "      <th>Indicator Name</th>\n",
              "      <th>Indicator Code</th>\n",
              "      <th>2000</th>\n",
              "      <th>2001</th>\n",
              "      <th>2002</th>\n",
              "      <th>2003</th>\n",
              "      <th>2004</th>\n",
              "      <th>2005</th>\n",
              "      <th>2006</th>\n",
              "      <th>2007</th>\n",
              "      <th>2008</th>\n",
              "      <th>2009</th>\n",
              "      <th>2010</th>\n",
              "      <th>2011</th>\n",
              "      <th>2012</th>\n",
              "      <th>2013</th>\n",
              "      <th>2014</th>\n",
              "      <th>2015</th>\n",
              "    </tr>\n",
              "  </thead>\n",
              "  <tbody>\n",
              "    <tr>\n",
              "      <th>4</th>\n",
              "      <td>Arab World</td>\n",
              "      <td>ARB</td>\n",
              "      <td>Adjusted net enrolment rate, primary, both sex...</td>\n",
              "      <td>SE.PRM.TENR</td>\n",
              "      <td>77.245682</td>\n",
              "      <td>78.800522</td>\n",
              "      <td>80.051399</td>\n",
              "      <td>80.805389</td>\n",
              "      <td>81.607063</td>\n",
              "      <td>82.489487</td>\n",
              "      <td>82.685509</td>\n",
              "      <td>83.280342</td>\n",
              "      <td>84.011871</td>\n",
              "      <td>84.195961</td>\n",
              "      <td>85.211998</td>\n",
              "      <td>85.245140</td>\n",
              "      <td>86.101669</td>\n",
              "      <td>85.511940</td>\n",
              "      <td>85.320152</td>\n",
              "      <td>NaN</td>\n",
              "    </tr>\n",
              "    <tr>\n",
              "      <th>5</th>\n",
              "      <td>Arab World</td>\n",
              "      <td>ARB</td>\n",
              "      <td>Adjusted net enrolment rate, primary, female (%)</td>\n",
              "      <td>SE.PRM.TENR.FE</td>\n",
              "      <td>73.275620</td>\n",
              "      <td>75.132980</td>\n",
              "      <td>76.641022</td>\n",
              "      <td>77.653580</td>\n",
              "      <td>78.485397</td>\n",
              "      <td>79.475769</td>\n",
              "      <td>79.608330</td>\n",
              "      <td>80.582420</td>\n",
              "      <td>81.473801</td>\n",
              "      <td>81.695686</td>\n",
              "      <td>82.871651</td>\n",
              "      <td>82.861389</td>\n",
              "      <td>84.401413</td>\n",
              "      <td>83.914032</td>\n",
              "      <td>83.820831</td>\n",
              "      <td>NaN</td>\n",
              "    </tr>\n",
              "    <tr>\n",
              "      <th>6</th>\n",
              "      <td>Arab World</td>\n",
              "      <td>ARB</td>\n",
              "      <td>Adjusted net enrolment rate, primary, gender p...</td>\n",
              "      <td>UIS.NERA.1.GPI</td>\n",
              "      <td>0.904060</td>\n",
              "      <td>0.912750</td>\n",
              "      <td>0.919790</td>\n",
              "      <td>0.926300</td>\n",
              "      <td>0.927680</td>\n",
              "      <td>0.930840</td>\n",
              "      <td>0.929620</td>\n",
              "      <td>0.938460</td>\n",
              "      <td>0.942500</td>\n",
              "      <td>0.943470</td>\n",
              "      <td>0.947620</td>\n",
              "      <td>0.946700</td>\n",
              "      <td>0.962080</td>\n",
              "      <td>0.964090</td>\n",
              "      <td>0.966200</td>\n",
              "      <td>NaN</td>\n",
              "    </tr>\n",
              "    <tr>\n",
              "      <th>7</th>\n",
              "      <td>Arab World</td>\n",
              "      <td>ARB</td>\n",
              "      <td>Adjusted net enrolment rate, primary, male (%)</td>\n",
              "      <td>SE.PRM.TENR.MA</td>\n",
              "      <td>81.051369</td>\n",
              "      <td>82.315048</td>\n",
              "      <td>83.324059</td>\n",
              "      <td>83.832230</td>\n",
              "      <td>84.604393</td>\n",
              "      <td>85.380287</td>\n",
              "      <td>85.635078</td>\n",
              "      <td>85.866692</td>\n",
              "      <td>86.444138</td>\n",
              "      <td>86.590691</td>\n",
              "      <td>87.452583</td>\n",
              "      <td>87.526520</td>\n",
              "      <td>87.728172</td>\n",
              "      <td>87.039879</td>\n",
              "      <td>86.753387</td>\n",
              "      <td>NaN</td>\n",
              "    </tr>\n",
              "    <tr>\n",
              "      <th>12</th>\n",
              "      <td>Arab World</td>\n",
              "      <td>ARB</td>\n",
              "      <td>Adjusted net intake rate to Grade 1 of primary...</td>\n",
              "      <td>UIS.NIRA.1</td>\n",
              "      <td>70.737579</td>\n",
              "      <td>73.594200</td>\n",
              "      <td>74.976158</td>\n",
              "      <td>75.328583</td>\n",
              "      <td>76.428513</td>\n",
              "      <td>76.131767</td>\n",
              "      <td>75.222557</td>\n",
              "      <td>75.595695</td>\n",
              "      <td>74.893944</td>\n",
              "      <td>74.814552</td>\n",
              "      <td>76.197044</td>\n",
              "      <td>76.474968</td>\n",
              "      <td>77.319366</td>\n",
              "      <td>76.566711</td>\n",
              "      <td>76.620567</td>\n",
              "      <td>NaN</td>\n",
              "    </tr>\n",
              "  </tbody>\n",
              "</table>\n",
              "</div>"
            ],
            "text/plain": [
              "   Country Name Country Code  ...       2014 2015\n",
              "4    Arab World          ARB  ...  85.320152  NaN\n",
              "5    Arab World          ARB  ...  83.820831  NaN\n",
              "6    Arab World          ARB  ...   0.966200  NaN\n",
              "7    Arab World          ARB  ...  86.753387  NaN\n",
              "12   Arab World          ARB  ...  76.620567  NaN\n",
              "\n",
              "[5 rows x 20 columns]"
            ]
          },
          "metadata": {
            "tags": []
          },
          "execution_count": 11
        }
      ]
    },
    {
      "cell_type": "code",
      "metadata": {
        "colab": {
          "base_uri": "https://localhost:8080/"
        },
        "id": "iMN86cY8oJu6",
        "outputId": "7e58cd7e-9084-441d-d520-409137e9dfae"
      },
      "source": [
        "new_stats_data['Indicator Name'].unique().shape"
      ],
      "execution_count": 12,
      "outputs": [
        {
          "output_type": "execute_result",
          "data": {
            "text/plain": [
              "(3635,)"
            ]
          },
          "metadata": {
            "tags": []
          },
          "execution_count": 12
        }
      ]
    },
    {
      "cell_type": "code",
      "metadata": {
        "colab": {
          "base_uri": "https://localhost:8080/"
        },
        "id": "9LSgqkdyR2Yz",
        "outputId": "dc5ef20e-1af0-445f-f7e4-d99a514acd12"
      },
      "source": [
        "new_stats_data.info()"
      ],
      "execution_count": 13,
      "outputs": [
        {
          "output_type": "stream",
          "text": [
            "<class 'pandas.core.frame.DataFrame'>\n",
            "Int64Index: 348113 entries, 4 to 886929\n",
            "Data columns (total 20 columns):\n",
            " #   Column          Non-Null Count   Dtype  \n",
            "---  ------          --------------   -----  \n",
            " 0   Country Name    348113 non-null  object \n",
            " 1   Country Code    348113 non-null  object \n",
            " 2   Indicator Name  348113 non-null  object \n",
            " 3   Indicator Code  348113 non-null  object \n",
            " 4   2000            176676 non-null  float64\n",
            " 5   2001            123509 non-null  float64\n",
            " 6   2002            124205 non-null  float64\n",
            " 7   2003            130363 non-null  float64\n",
            " 8   2004            128814 non-null  float64\n",
            " 9   2005            184108 non-null  float64\n",
            " 10  2006            140312 non-null  float64\n",
            " 11  2007            137272 non-null  float64\n",
            " 12  2008            134387 non-null  float64\n",
            " 13  2009            142108 non-null  float64\n",
            " 14  2010            242442 non-null  float64\n",
            " 15  2011            146012 non-null  float64\n",
            " 16  2012            147264 non-null  float64\n",
            " 17  2013            137509 non-null  float64\n",
            " 18  2014            113789 non-null  float64\n",
            " 19  2015            131058 non-null  float64\n",
            "dtypes: float64(16), object(4)\n",
            "memory usage: 55.8+ MB\n"
          ],
          "name": "stdout"
        }
      ]
    },
    {
      "cell_type": "code",
      "metadata": {
        "colab": {
          "base_uri": "https://localhost:8080/",
          "height": 317
        },
        "id": "eROudrx2R6nO",
        "outputId": "989c794c-be63-4637-939d-1c44703c59bc"
      },
      "source": [
        "new_stats_data.describe()"
      ],
      "execution_count": 14,
      "outputs": [
        {
          "output_type": "execute_result",
          "data": {
            "text/html": [
              "<div>\n",
              "<style scoped>\n",
              "    .dataframe tbody tr th:only-of-type {\n",
              "        vertical-align: middle;\n",
              "    }\n",
              "\n",
              "    .dataframe tbody tr th {\n",
              "        vertical-align: top;\n",
              "    }\n",
              "\n",
              "    .dataframe thead th {\n",
              "        text-align: right;\n",
              "    }\n",
              "</style>\n",
              "<table border=\"1\" class=\"dataframe\">\n",
              "  <thead>\n",
              "    <tr style=\"text-align: right;\">\n",
              "      <th></th>\n",
              "      <th>2000</th>\n",
              "      <th>2001</th>\n",
              "      <th>2002</th>\n",
              "      <th>2003</th>\n",
              "      <th>2004</th>\n",
              "      <th>2005</th>\n",
              "      <th>2006</th>\n",
              "      <th>2007</th>\n",
              "      <th>2008</th>\n",
              "      <th>2009</th>\n",
              "      <th>2010</th>\n",
              "      <th>2011</th>\n",
              "      <th>2012</th>\n",
              "      <th>2013</th>\n",
              "      <th>2014</th>\n",
              "      <th>2015</th>\n",
              "    </tr>\n",
              "  </thead>\n",
              "  <tbody>\n",
              "    <tr>\n",
              "      <th>count</th>\n",
              "      <td>1.766760e+05</td>\n",
              "      <td>1.235090e+05</td>\n",
              "      <td>1.242050e+05</td>\n",
              "      <td>1.303630e+05</td>\n",
              "      <td>1.288140e+05</td>\n",
              "      <td>1.841080e+05</td>\n",
              "      <td>1.403120e+05</td>\n",
              "      <td>1.372720e+05</td>\n",
              "      <td>1.343870e+05</td>\n",
              "      <td>1.421080e+05</td>\n",
              "      <td>2.424420e+05</td>\n",
              "      <td>1.460120e+05</td>\n",
              "      <td>1.472640e+05</td>\n",
              "      <td>1.375090e+05</td>\n",
              "      <td>1.137890e+05</td>\n",
              "      <td>1.310580e+05</td>\n",
              "    </tr>\n",
              "    <tr>\n",
              "      <th>mean</th>\n",
              "      <td>9.423384e+09</td>\n",
              "      <td>1.384867e+10</td>\n",
              "      <td>1.428299e+10</td>\n",
              "      <td>1.449393e+10</td>\n",
              "      <td>1.589729e+10</td>\n",
              "      <td>1.188637e+10</td>\n",
              "      <td>1.684674e+10</td>\n",
              "      <td>1.872300e+10</td>\n",
              "      <td>2.029794e+10</td>\n",
              "      <td>1.894907e+10</td>\n",
              "      <td>1.189592e+10</td>\n",
              "      <td>2.117911e+10</td>\n",
              "      <td>2.176323e+10</td>\n",
              "      <td>2.425332e+10</td>\n",
              "      <td>2.678449e+10</td>\n",
              "      <td>2.353720e+10</td>\n",
              "    </tr>\n",
              "    <tr>\n",
              "      <th>std</th>\n",
              "      <td>4.442374e+11</td>\n",
              "      <td>5.449242e+11</td>\n",
              "      <td>5.622886e+11</td>\n",
              "      <td>5.803607e+11</td>\n",
              "      <td>6.278337e+11</td>\n",
              "      <td>5.576181e+11</td>\n",
              "      <td>6.851484e+11</td>\n",
              "      <td>7.465688e+11</td>\n",
              "      <td>7.944132e+11</td>\n",
              "      <td>7.623650e+11</td>\n",
              "      <td>6.218710e+11</td>\n",
              "      <td>8.555853e+11</td>\n",
              "      <td>8.833955e+11</td>\n",
              "      <td>9.513016e+11</td>\n",
              "      <td>1.023180e+12</td>\n",
              "      <td>9.732465e+11</td>\n",
              "    </tr>\n",
              "    <tr>\n",
              "      <th>min</th>\n",
              "      <td>-6.759300e+04</td>\n",
              "      <td>-6.973700e+04</td>\n",
              "      <td>-9.214300e+04</td>\n",
              "      <td>-1.111860e+05</td>\n",
              "      <td>-1.262600e+05</td>\n",
              "      <td>-1.347240e+05</td>\n",
              "      <td>-3.708940e+05</td>\n",
              "      <td>-3.882170e+05</td>\n",
              "      <td>-4.088540e+05</td>\n",
              "      <td>-4.561240e+05</td>\n",
              "      <td>-4.969050e+05</td>\n",
              "      <td>-5.709940e+05</td>\n",
              "      <td>-6.049930e+05</td>\n",
              "      <td>-6.157480e+05</td>\n",
              "      <td>-8.900000e+01</td>\n",
              "      <td>-2.467847e+00</td>\n",
              "    </tr>\n",
              "    <tr>\n",
              "      <th>25%</th>\n",
              "      <td>5.699035e+00</td>\n",
              "      <td>1.599897e+01</td>\n",
              "      <td>1.584246e+01</td>\n",
              "      <td>1.550983e+01</td>\n",
              "      <td>1.418687e+01</td>\n",
              "      <td>5.720000e+00</td>\n",
              "      <td>1.277624e+01</td>\n",
              "      <td>1.268661e+01</td>\n",
              "      <td>1.233467e+01</td>\n",
              "      <td>1.181939e+01</td>\n",
              "      <td>1.322703e+00</td>\n",
              "      <td>1.216330e+01</td>\n",
              "      <td>1.100000e+01</td>\n",
              "      <td>1.306113e+01</td>\n",
              "      <td>1.614639e+01</td>\n",
              "      <td>4.100000e-01</td>\n",
              "    </tr>\n",
              "    <tr>\n",
              "      <th>50%</th>\n",
              "      <td>5.078717e+01</td>\n",
              "      <td>8.300000e+02</td>\n",
              "      <td>9.460000e+02</td>\n",
              "      <td>3.956150e+02</td>\n",
              "      <td>3.350000e+02</td>\n",
              "      <td>5.031512e+01</td>\n",
              "      <td>9.981849e+01</td>\n",
              "      <td>1.000000e+02</td>\n",
              "      <td>1.000000e+02</td>\n",
              "      <td>9.925039e+01</td>\n",
              "      <td>2.046020e+01</td>\n",
              "      <td>9.853510e+01</td>\n",
              "      <td>9.759012e+01</td>\n",
              "      <td>1.000000e+02</td>\n",
              "      <td>1.000000e+02</td>\n",
              "      <td>5.235000e+01</td>\n",
              "    </tr>\n",
              "    <tr>\n",
              "      <th>75%</th>\n",
              "      <td>3.343950e+04</td>\n",
              "      <td>1.746540e+05</td>\n",
              "      <td>1.770990e+05</td>\n",
              "      <td>1.474790e+05</td>\n",
              "      <td>1.584082e+05</td>\n",
              "      <td>2.993150e+04</td>\n",
              "      <td>1.187198e+05</td>\n",
              "      <td>1.343790e+05</td>\n",
              "      <td>1.453855e+05</td>\n",
              "      <td>1.180412e+05</td>\n",
              "      <td>3.121000e+03</td>\n",
              "      <td>1.065065e+05</td>\n",
              "      <td>1.038168e+05</td>\n",
              "      <td>1.426480e+05</td>\n",
              "      <td>1.636440e+05</td>\n",
              "      <td>6.153575e+04</td>\n",
              "    </tr>\n",
              "    <tr>\n",
              "      <th>max</th>\n",
              "      <td>6.327293e+13</td>\n",
              "      <td>6.477834e+13</td>\n",
              "      <td>6.654753e+13</td>\n",
              "      <td>6.906328e+13</td>\n",
              "      <td>7.278829e+13</td>\n",
              "      <td>7.624045e+13</td>\n",
              "      <td>8.031840e+13</td>\n",
              "      <td>8.469145e+13</td>\n",
              "      <td>8.711022e+13</td>\n",
              "      <td>8.677516e+13</td>\n",
              "      <td>9.134676e+13</td>\n",
              "      <td>9.506314e+13</td>\n",
              "      <td>9.999473e+13</td>\n",
              "      <td>1.054580e+14</td>\n",
              "      <td>1.108060e+14</td>\n",
              "      <td>1.156198e+14</td>\n",
              "    </tr>\n",
              "  </tbody>\n",
              "</table>\n",
              "</div>"
            ],
            "text/plain": [
              "               2000          2001  ...          2014          2015\n",
              "count  1.766760e+05  1.235090e+05  ...  1.137890e+05  1.310580e+05\n",
              "mean   9.423384e+09  1.384867e+10  ...  2.678449e+10  2.353720e+10\n",
              "std    4.442374e+11  5.449242e+11  ...  1.023180e+12  9.732465e+11\n",
              "min   -6.759300e+04 -6.973700e+04  ... -8.900000e+01 -2.467847e+00\n",
              "25%    5.699035e+00  1.599897e+01  ...  1.614639e+01  4.100000e-01\n",
              "50%    5.078717e+01  8.300000e+02  ...  1.000000e+02  5.235000e+01\n",
              "75%    3.343950e+04  1.746540e+05  ...  1.636440e+05  6.153575e+04\n",
              "max    6.327293e+13  6.477834e+13  ...  1.108060e+14  1.156198e+14\n",
              "\n",
              "[8 rows x 16 columns]"
            ]
          },
          "metadata": {
            "tags": []
          },
          "execution_count": 14
        }
      ]
    },
    {
      "cell_type": "markdown",
      "metadata": {
        "id": "kaRWsffKvGhI"
      },
      "source": [
        "**Replacing the Nan values of new_stats_data  using ffill() along axis=1**"
      ]
    },
    {
      "cell_type": "code",
      "metadata": {
        "id": "E43y_5GTGH-3"
      },
      "source": [
        "new_stats_data = new_stats_data[cols_required].ffill(axis=1)"
      ],
      "execution_count": 21,
      "outputs": []
    },
    {
      "cell_type": "code",
      "metadata": {
        "colab": {
          "base_uri": "https://localhost:8080/"
        },
        "id": "lTwU_ZSfVn4Y",
        "outputId": "79c0d74d-5b1f-44cf-b536-97c821ddb6d7"
      },
      "source": [
        "new_stats_data.info()"
      ],
      "execution_count": 22,
      "outputs": [
        {
          "output_type": "stream",
          "text": [
            "<class 'pandas.core.frame.DataFrame'>\n",
            "Int64Index: 348113 entries, 4 to 886929\n",
            "Data columns (total 20 columns):\n",
            " #   Column          Non-Null Count   Dtype  \n",
            "---  ------          --------------   -----  \n",
            " 0   Country Name    348113 non-null  object \n",
            " 1   Country Code    348113 non-null  object \n",
            " 2   Indicator Name  348113 non-null  object \n",
            " 3   Indicator Code  348113 non-null  object \n",
            " 4   2000            348113 non-null  float64\n",
            " 5   2001            348113 non-null  float64\n",
            " 6   2002            348113 non-null  float64\n",
            " 7   2003            348113 non-null  float64\n",
            " 8   2004            348113 non-null  float64\n",
            " 9   2005            348113 non-null  float64\n",
            " 10  2006            348113 non-null  float64\n",
            " 11  2007            348113 non-null  float64\n",
            " 12  2008            348113 non-null  float64\n",
            " 13  2009            348113 non-null  float64\n",
            " 14  2010            348113 non-null  float64\n",
            " 15  2011            348113 non-null  float64\n",
            " 16  2012            348113 non-null  float64\n",
            " 17  2013            348113 non-null  float64\n",
            " 18  2014            348113 non-null  float64\n",
            " 19  2015            348113 non-null  float64\n",
            "dtypes: float64(16), object(4)\n",
            "memory usage: 55.8+ MB\n"
          ],
          "name": "stdout"
        }
      ]
    },
    {
      "cell_type": "markdown",
      "metadata": {
        "id": "GMFw6lk4REJr"
      },
      "source": [
        "###**Basic analysis of EdStatsCountry-Series.csv**"
      ]
    },
    {
      "cell_type": "code",
      "metadata": {
        "colab": {
          "base_uri": "https://localhost:8080/",
          "height": 204
        },
        "id": "f2VY-Yv5SX82",
        "outputId": "bc6976d0-ac22-438f-b895-92dfbc5a0e69"
      },
      "source": [
        "df_country_series.head()"
      ],
      "execution_count": 42,
      "outputs": [
        {
          "output_type": "execute_result",
          "data": {
            "text/html": [
              "<div>\n",
              "<style scoped>\n",
              "    .dataframe tbody tr th:only-of-type {\n",
              "        vertical-align: middle;\n",
              "    }\n",
              "\n",
              "    .dataframe tbody tr th {\n",
              "        vertical-align: top;\n",
              "    }\n",
              "\n",
              "    .dataframe thead th {\n",
              "        text-align: right;\n",
              "    }\n",
              "</style>\n",
              "<table border=\"1\" class=\"dataframe\">\n",
              "  <thead>\n",
              "    <tr style=\"text-align: right;\">\n",
              "      <th></th>\n",
              "      <th>CountryCode</th>\n",
              "      <th>SeriesCode</th>\n",
              "      <th>DESCRIPTION</th>\n",
              "      <th>Unnamed: 3</th>\n",
              "    </tr>\n",
              "  </thead>\n",
              "  <tbody>\n",
              "    <tr>\n",
              "      <th>0</th>\n",
              "      <td>ABW</td>\n",
              "      <td>SP.POP.TOTL</td>\n",
              "      <td>Data sources : United Nations World Population...</td>\n",
              "      <td>NaN</td>\n",
              "    </tr>\n",
              "    <tr>\n",
              "      <th>1</th>\n",
              "      <td>ABW</td>\n",
              "      <td>SP.POP.GROW</td>\n",
              "      <td>Data sources: United Nations World Population ...</td>\n",
              "      <td>NaN</td>\n",
              "    </tr>\n",
              "    <tr>\n",
              "      <th>2</th>\n",
              "      <td>AFG</td>\n",
              "      <td>SP.POP.GROW</td>\n",
              "      <td>Data sources: United Nations World Population ...</td>\n",
              "      <td>NaN</td>\n",
              "    </tr>\n",
              "    <tr>\n",
              "      <th>3</th>\n",
              "      <td>AFG</td>\n",
              "      <td>NY.GDP.PCAP.PP.CD</td>\n",
              "      <td>Estimates are based on regression.</td>\n",
              "      <td>NaN</td>\n",
              "    </tr>\n",
              "    <tr>\n",
              "      <th>4</th>\n",
              "      <td>AFG</td>\n",
              "      <td>SP.POP.TOTL</td>\n",
              "      <td>Data sources : United Nations World Population...</td>\n",
              "      <td>NaN</td>\n",
              "    </tr>\n",
              "  </tbody>\n",
              "</table>\n",
              "</div>"
            ],
            "text/plain": [
              "  CountryCode  ... Unnamed: 3\n",
              "0         ABW  ...        NaN\n",
              "1         ABW  ...        NaN\n",
              "2         AFG  ...        NaN\n",
              "3         AFG  ...        NaN\n",
              "4         AFG  ...        NaN\n",
              "\n",
              "[5 rows x 4 columns]"
            ]
          },
          "metadata": {
            "tags": []
          },
          "execution_count": 42
        }
      ]
    },
    {
      "cell_type": "code",
      "metadata": {
        "colab": {
          "base_uri": "https://localhost:8080/"
        },
        "id": "UWvlwjq2RmKt",
        "outputId": "ad9a5795-46fe-4040-90c8-dfe354bc750c"
      },
      "source": [
        "df_country_series.shape"
      ],
      "execution_count": 44,
      "outputs": [
        {
          "output_type": "execute_result",
          "data": {
            "text/plain": [
              "(613, 4)"
            ]
          },
          "metadata": {
            "tags": []
          },
          "execution_count": 44
        }
      ]
    },
    {
      "cell_type": "code",
      "metadata": {
        "colab": {
          "base_uri": "https://localhost:8080/"
        },
        "id": "xygzftUvRpVX",
        "outputId": "cd9b8e4e-428b-40e4-fa10-42cec74a118a"
      },
      "source": [
        "df_country_series.info()"
      ],
      "execution_count": 45,
      "outputs": [
        {
          "output_type": "stream",
          "text": [
            "<class 'pandas.core.frame.DataFrame'>\n",
            "RangeIndex: 613 entries, 0 to 612\n",
            "Data columns (total 4 columns):\n",
            " #   Column       Non-Null Count  Dtype  \n",
            "---  ------       --------------  -----  \n",
            " 0   CountryCode  613 non-null    object \n",
            " 1   SeriesCode   613 non-null    object \n",
            " 2   DESCRIPTION  613 non-null    object \n",
            " 3   Unnamed: 3   0 non-null      float64\n",
            "dtypes: float64(1), object(3)\n",
            "memory usage: 19.3+ KB\n"
          ],
          "name": "stdout"
        }
      ]
    },
    {
      "cell_type": "markdown",
      "metadata": {
        "id": "Lgo0ymmZSUkv"
      },
      "source": [
        "**Dropping the Unnamed: 3 column from df_country_series dataframe as it has all Nan values**"
      ]
    },
    {
      "cell_type": "code",
      "metadata": {
        "id": "moGUHmtgRtYp"
      },
      "source": [
        "df_country_series = df_country_series.drop('Unnamed: 3',axis=1)"
      ],
      "execution_count": 51,
      "outputs": []
    },
    {
      "cell_type": "code",
      "metadata": {
        "colab": {
          "base_uri": "https://localhost:8080/",
          "height": 204
        },
        "id": "mosieSG5SZxv",
        "outputId": "d8a9ab08-a05d-44c6-df9b-8bb0425fa4d2"
      },
      "source": [
        "df_country_series.head()"
      ],
      "execution_count": 52,
      "outputs": [
        {
          "output_type": "execute_result",
          "data": {
            "text/html": [
              "<div>\n",
              "<style scoped>\n",
              "    .dataframe tbody tr th:only-of-type {\n",
              "        vertical-align: middle;\n",
              "    }\n",
              "\n",
              "    .dataframe tbody tr th {\n",
              "        vertical-align: top;\n",
              "    }\n",
              "\n",
              "    .dataframe thead th {\n",
              "        text-align: right;\n",
              "    }\n",
              "</style>\n",
              "<table border=\"1\" class=\"dataframe\">\n",
              "  <thead>\n",
              "    <tr style=\"text-align: right;\">\n",
              "      <th></th>\n",
              "      <th>CountryCode</th>\n",
              "      <th>SeriesCode</th>\n",
              "      <th>DESCRIPTION</th>\n",
              "    </tr>\n",
              "  </thead>\n",
              "  <tbody>\n",
              "    <tr>\n",
              "      <th>0</th>\n",
              "      <td>ABW</td>\n",
              "      <td>SP.POP.TOTL</td>\n",
              "      <td>Data sources : United Nations World Population...</td>\n",
              "    </tr>\n",
              "    <tr>\n",
              "      <th>1</th>\n",
              "      <td>ABW</td>\n",
              "      <td>SP.POP.GROW</td>\n",
              "      <td>Data sources: United Nations World Population ...</td>\n",
              "    </tr>\n",
              "    <tr>\n",
              "      <th>2</th>\n",
              "      <td>AFG</td>\n",
              "      <td>SP.POP.GROW</td>\n",
              "      <td>Data sources: United Nations World Population ...</td>\n",
              "    </tr>\n",
              "    <tr>\n",
              "      <th>3</th>\n",
              "      <td>AFG</td>\n",
              "      <td>NY.GDP.PCAP.PP.CD</td>\n",
              "      <td>Estimates are based on regression.</td>\n",
              "    </tr>\n",
              "    <tr>\n",
              "      <th>4</th>\n",
              "      <td>AFG</td>\n",
              "      <td>SP.POP.TOTL</td>\n",
              "      <td>Data sources : United Nations World Population...</td>\n",
              "    </tr>\n",
              "  </tbody>\n",
              "</table>\n",
              "</div>"
            ],
            "text/plain": [
              "  CountryCode  ...                                        DESCRIPTION\n",
              "0         ABW  ...  Data sources : United Nations World Population...\n",
              "1         ABW  ...  Data sources: United Nations World Population ...\n",
              "2         AFG  ...  Data sources: United Nations World Population ...\n",
              "3         AFG  ...                 Estimates are based on regression.\n",
              "4         AFG  ...  Data sources : United Nations World Population...\n",
              "\n",
              "[5 rows x 3 columns]"
            ]
          },
          "metadata": {
            "tags": []
          },
          "execution_count": 52
        }
      ]
    },
    {
      "cell_type": "code",
      "metadata": {
        "colab": {
          "base_uri": "https://localhost:8080/"
        },
        "id": "jTXJlcFVSd7m",
        "outputId": "1ac97ea2-c318-4a97-c74d-3530190036b1"
      },
      "source": [
        "df_country_series['CountryCode'].unique()"
      ],
      "execution_count": 56,
      "outputs": [
        {
          "output_type": "execute_result",
          "data": {
            "text/plain": [
              "array(['ABW', 'AFG', 'AGO', 'ALB', 'AND', 'ARE', 'ARG', 'ARM', 'ASM',\n",
              "       'ATG', 'AUS', 'AUT', 'AZE', 'BDI', 'BEL', 'BEN', 'BFA', 'BGD',\n",
              "       'BGR', 'BHR', 'BHS', 'BIH', 'BLR', 'BLZ', 'BMU', 'BOL', 'BRA',\n",
              "       'BRB', 'BRN', 'BTN', 'BWA', 'CAF', 'CAN', 'CHE', 'CHI', 'CHL',\n",
              "       'CHN', 'CIV', 'CMR', 'COD', 'COG', 'COL', 'COM', 'CPV', 'CRI',\n",
              "       'CUB', 'CYM', 'CYP', 'CZE', 'DEU', 'DJI', 'DMA', 'DNK', 'DOM',\n",
              "       'DZA', 'ECU', 'EGY', 'ERI', 'ESP', 'EST', 'ETH', 'FIN', 'FJI',\n",
              "       'FRA', 'FRO', 'FSM', 'GAB', 'GBR', 'GEO', 'GHA', 'GIB', 'GIN',\n",
              "       'GMB', 'GNB', 'GNQ', 'GRC', 'GRD', 'GRL', 'GTM', 'GUM', 'GUY',\n",
              "       'HKG', 'HND', 'HRV', 'HTI', 'HUN', 'IDN', 'IMN', 'IND', 'IRL',\n",
              "       'IRN', 'IRQ', 'ISL', 'ISR', 'ITA', 'JAM', 'JOR', 'JPN', 'KAZ',\n",
              "       'KEN', 'KGZ', 'KHM', 'KIR', 'KNA', 'KOR', 'KWT', 'LAO', 'LBN',\n",
              "       'LBR', 'LBY', 'LCA', 'LIE', 'LKA', 'LSO', 'LTU', 'LUX', 'LVA',\n",
              "       'MAC', 'MAR', 'MCO', 'MDA', 'MDG', 'MDV', 'MEX', 'MHL', 'MKD',\n",
              "       'MLI', 'MLT', 'MMR', 'MNE', 'MNG', 'MNP', 'MOZ', 'MRT', 'MUS',\n",
              "       'MWI', 'MYS', 'NAM', 'NCL', 'NER', 'NGA', 'NIC', 'NLD', 'NOR',\n",
              "       'NPL', 'NZL', 'OMN', 'PAK', 'PAN', 'PER', 'PHL', 'PLW', 'PNG',\n",
              "       'POL', 'PRI', 'PRK', 'PRT', 'PRY', 'PSE', 'PYF', 'QAT', 'ROU',\n",
              "       'RUS', 'RWA', 'SAU', 'SDN', 'SEN', 'SGP', 'SLB', 'SLE', 'SLV',\n",
              "       'SMR', 'SOM', 'SRB', 'STP', 'SUR', 'SVK', 'SVN', 'SWE', 'SWZ',\n",
              "       'SYC', 'SYR', 'TCA', 'TCD', 'TGO', 'THA', 'TJK', 'TKM', 'TLS',\n",
              "       'TON', 'TTO', 'TUN', 'TUR', 'TUV', 'TZA', 'UGA', 'UKR', 'URY',\n",
              "       'USA', 'UZB', 'VCT', 'VEN', 'VIR', 'VNM', 'VUT', 'WSM', 'XKX',\n",
              "       'YEM', 'ZAF', 'ZMB', 'ZWE'], dtype=object)"
            ]
          },
          "metadata": {
            "tags": []
          },
          "execution_count": 56
        }
      ]
    },
    {
      "cell_type": "code",
      "metadata": {
        "colab": {
          "base_uri": "https://localhost:8080/"
        },
        "id": "4yXGBsyhTFeF",
        "outputId": "c249b1ef-76c7-450c-8830-ecfbd1a7ba93"
      },
      "source": [
        "df_country_series['CountryCode'].unique().shape"
      ],
      "execution_count": 55,
      "outputs": [
        {
          "output_type": "execute_result",
          "data": {
            "text/plain": [
              "(211,)"
            ]
          },
          "metadata": {
            "tags": []
          },
          "execution_count": 55
        }
      ]
    },
    {
      "cell_type": "code",
      "metadata": {
        "colab": {
          "base_uri": "https://localhost:8080/"
        },
        "id": "3dnvKVvQTK9T",
        "outputId": "8d646aee-c96d-4549-c09b-a75739c68f6c"
      },
      "source": [
        "df_country_series['SeriesCode'].unique()"
      ],
      "execution_count": 58,
      "outputs": [
        {
          "output_type": "execute_result",
          "data": {
            "text/plain": [
              "array(['SP.POP.TOTL', 'SP.POP.GROW', 'NY.GDP.PCAP.PP.CD',\n",
              "       'NY.GDP.MKTP.PP.KD', 'NY.GNP.MKTP.PP.CD', 'NY.GDP.MKTP.PP.CD',\n",
              "       'NY.GDP.PCAP.PP.KD', 'NY.GNP.PCAP.PP.CD', 'SP.POP.1564.TO.ZS',\n",
              "       'SP.POP.TOTL.MA.ZS', 'SP.POP.TOTL.FE.ZS', 'SP.POP.0014.TO.ZS',\n",
              "       'NY.GNP.PCAP.CD', 'NY.GDP.PCAP.CD', 'NY.GDP.PCAP.KD',\n",
              "       'SP.POP.1564.MA.IN', 'SP.POP.0014.TO', 'SP.POP.1564.TO',\n",
              "       'SP.POP.1564.FE.IN', 'SP.POP.0014.MA.IN', 'SP.POP.0014.FE.IN'],\n",
              "      dtype=object)"
            ]
          },
          "metadata": {
            "tags": []
          },
          "execution_count": 58
        }
      ]
    },
    {
      "cell_type": "code",
      "metadata": {
        "colab": {
          "base_uri": "https://localhost:8080/"
        },
        "id": "1vo2SCDWTXD8",
        "outputId": "46955d80-ed05-4b3b-bc0e-876a6b9b04b7"
      },
      "source": [
        "df_country_series['DESCRIPTION'].unique()"
      ],
      "execution_count": 60,
      "outputs": [
        {
          "output_type": "execute_result",
          "data": {
            "text/plain": [
              "array(['Data sources : United Nations World Population Prospects',\n",
              "       'Data sources: United Nations World Population Prospects',\n",
              "       'Estimates are based on regression.',\n",
              "       'Data sources : Institute of Statistics, Eurostat',\n",
              "       'Data sources : Australian Bureau of Statistics',\n",
              "       'Including Other Territories comprising Jervis Bay Territory, Christmas Island and the Cocos (Keeling) Islands. ',\n",
              "       'Data sources: Australian Bureau of Statistics',\n",
              "       'Data sources : Eurostat',\n",
              "       'Data sources : Eurostat, State Statistical Committee, United Nations World Population Prospects',\n",
              "       'Data sources: Eurostat, State Statistical Committee, United Nations World Population Prospects',\n",
              "       'Data sources : National Statistical Committee of the Republic of Belarus',\n",
              "       'Data sources: National Statistical Committee of the Republic of Belarus',\n",
              "       'Data sources : Bermuda Government Department of Statistics',\n",
              "       'Data sources: Bermuda Government Department of Statistics',\n",
              "       'Data sources : Statistics Canada',\n",
              "       'Data sources: Statistics Canada',\n",
              "       'Refers to Guernsey, and Jersey.',\n",
              "       'Data sources : National Bureau of Statistics',\n",
              "       'Excluding Hong Kong SAR, Macao SAR, Taiwan.',\n",
              "       'Data sources: National Bureau of Statistics',\n",
              "       'Data are for areas under the effective control of the Government of the Republic of Cyprus.',\n",
              "       'Including Northern-Cyprus.',\n",
              "       'Data sources: Eurostat, United Nations World Population Prospects. Including the French overseas departments of French Guiana, Guadeloupe, Martinique, Mayotte, and Réunion.',\n",
              "       'Including the four French overseas departments (French Guyana, Guadeloupe, Martinique and Réunion)',\n",
              "       'Data sources : Eurostat, United Nations World Population Prospects. Including the French overseas departments of French Guiana, Guadeloupe, Martinique, Mayotte, and Réunion.',\n",
              "       'Data sources: Eurostat',\n",
              "       'Data sources : GeoStats. GeoStats. Adjusted to mid-year population using geometric mean for the years where mid-year population figures are not available. Excluding Abkhazia and South Ossetia.',\n",
              "       'Including Abkhazia and South Ossetia.',\n",
              "       'Excludes Abkhazia and South Ossetia.',\n",
              "       'Derived using ratio of age group from WPP and World Bank population.',\n",
              "       'Data sources: GeoStats. GeoStats. Adjusted to mid-year population using geometric mean for the years where mid-year population figures are not available. Excluding Abkhazia and South Ossetia.',\n",
              "       'Excluding Abkhazia and South Ossetia.',\n",
              "       'Data sources: Statistics Greenland',\n",
              "       'Data sources : Statistics Greenland',\n",
              "       'Data sources: Census and Statistics Department',\n",
              "       'Data sources : Census and Statistics Department',\n",
              "       'Data sources: Croatian Bureau of Statistics, Council of Europe',\n",
              "       'Data sources : Croatian Bureau of Statistics, Council of Europe',\n",
              "       'Data sources: Central Bureau of Statistics',\n",
              "       'Data sources : Central Bureau of Statistics',\n",
              "       'Data sources: Ministry of Internal Affairs and Communications, Statistics Bureau; United Nations Population and Vital Statistics Report',\n",
              "       'Data sources : Ministry of Internal Affairs and Communications, Statistics Bureau; United Nations Population and Vital Statistics Report',\n",
              "       'Data sources : Statistical Agency of Kazakhstan, 1979 Census, 1989 Census, United Nations World Population Prospects',\n",
              "       'Data sources: Statistical Agency of Kazakhstan, 1979 Census, 1989 Census, United Nations World Population Prospects',\n",
              "       'Data sources : National Statistical Committee, United Nations World Population Prospects',\n",
              "       'Data sources: National Statistical Committee, United Nations World Population Prospects',\n",
              "       'Data sources : Korean Statistical Information Service',\n",
              "       'Data sources: Korean Statistical Information Service',\n",
              "       \"Data sources : Registrar General's Department, Department of Census and Statistics\",\n",
              "       \"Data sources: Registrar General's Department, Department of Census and Statistics\",\n",
              "       'Includes Former Spanish Sahara.',\n",
              "       'Morocco only. (Excluding former Spanish Sahara)',\n",
              "       \"Data sources : National Bureau of Statistics. Excluding Transnistria. For 1950-94, World Bank estimates using UN World Population Prospects' growth rates of whole Moldova.\",\n",
              "       'Excludes Transnistria.', 'Including Transnistria.',\n",
              "       \"Data sources: National Bureau of Statistics. Excluding Transnistria. For 1950-94, World Bank estimates using UN World Population Prospects 2010 Revision's growth rates of whole Moldova.\",\n",
              "       'Excluding Transnistria.',\n",
              "       'Data sources : For 1960-1989, United Nations World Population Prospects. For 1990 onwards, 1990, 1995, 2000, 2006, 2014 censuses, and data on expatriate employment from Maldives National Bureau of Statistics. The census data are adjusted for mid-year and for foreign population.',\n",
              "       'Data sources: For 1960-1989, United Nations World Population Prospects. For 1990 onwards, 1990, 1995, 2000, 2006, 2014 censuses, and data on expatriate employment from Maldives National Bureau of Statistics. The census data are adjusted for mid-year and for foreign population.',\n",
              "       'Data sources : For years after 2000, Statistical Office of Montenegro. For years 1960-1999, growth rates of United Nations World Population Prospects were used to estimate backwards.',\n",
              "       'Data sources : Statistics Mauritius, United Nations World Population Prospects',\n",
              "       'Including Agalega and St. Brandon.',\n",
              "       'Data sources: Central Statistics Office, United Nations Population and Vital Statistics Report, United Nations World Population Prospects',\n",
              "       'Excluding Agalega and St. Brandon.',\n",
              "       'Including Sabah and Sarawak.',\n",
              "       'Data sources : Institute of Statistics and Economic Studies',\n",
              "       'Data sources: Institute of Statistics and Economic Studies, 1983 Census, 1989 Census, 1996 Census',\n",
              "       'Data sources: Statistics New Zealand',\n",
              "       'Data sources : Statistics New Zealand',\n",
              "       'Data sources : U.S. Census Bureau, 1990 Census',\n",
              "       'Data sources: U.S. Census Bureau, 1990 Census',\n",
              "       'Data sources : World Bank estimates based on data from Palestinian Central Bureau of Statistics, excluding E. Jerusalem.',\n",
              "       'Excluding East Jerusalem.',\n",
              "       'Data sources: World Bank estimates based on data from Palestinian Central Bureau of Statistics, excluding E. Jerusalem.',\n",
              "       'Data sources : Russian Federation Federal State Statistics Service (its January 1st populations were adjusted to mid-year populations by using geometric mean), 1979 Census, 1989 Census.',\n",
              "       'Data sources : United Nations World Population Prospects. Estimates are for Sudan excluding South Sudan.',\n",
              "       'Data sources: Department of Statistics Singapore',\n",
              "       'Data sources : Department of Statistics Singapore',\n",
              "       'Data sources: Statistical Office of the Republic of Serbia, Eurostat, TransMONEE, Council of Europe. Excluding Kosovo for all years 1950-2011',\n",
              "       'Including Kosovo.',\n",
              "       'Data sources : Statistical Office of the Republic of Serbia, Eurostat, TransMONEE, Council of Europe. Note : Excluding Kosovo.',\n",
              "       'Excluding Kosovo.', 'Covers mainland Tanzania only.',\n",
              "       'Including Zanzibar.',\n",
              "       'Data sources : State Statistics Committee of Ukraine, United Nations World Population Prospects, Council of Europe, United Nations Population and Vital Statistics Report',\n",
              "       'Data sources: State Statistics Committee of Ukraine, United Nations World Population Prospects, Council of Europe, United Nations Population and Vital Statistics Report',\n",
              "       'Data sources : U.S. Census Bureau',\n",
              "       'Data sources: U.S. Census Bureau',\n",
              "       'Data sources : State Committee of the Republic of Uzbekistan on Statistics, United Nations World Population Prospects',\n",
              "       'Based on official exchange rates.',\n",
              "       'Data sources : U.S. Census Bureau, United Nations Population and Vital Statistics Report',\n",
              "       'Data sources: U.S. Census Bureau, United Nations Population and Vital Statistics Report',\n",
              "       'Data sources: General Statistics Office of Vietnam',\n",
              "       'Data sources : General Statistics Office of Vietnam',\n",
              "       \"Data sources : World Bank's Kosovo coutnry office, Kosovo Agency of Statistics, U.S. Census Bureau\",\n",
              "       \"Data sources: World Bank's Kosovo coutnry office, Kosovo Agency of Statistics, U.S. Census Bureau\",\n",
              "       'Data sources : Statistics South Africa, United Nations World Population Prospects'],\n",
              "      dtype=object)"
            ]
          },
          "metadata": {
            "tags": []
          },
          "execution_count": 60
        }
      ]
    },
    {
      "cell_type": "markdown",
      "metadata": {
        "id": "_ZW_2Hr7ThWC"
      },
      "source": [
        "### **Basic Analysis of EdStatsCountry.csv**"
      ]
    },
    {
      "cell_type": "code",
      "metadata": {
        "colab": {
          "base_uri": "https://localhost:8080/",
          "height": 819
        },
        "id": "623Ki83mSqUj",
        "outputId": "059529b4-6f04-41f6-fa33-0ab6d3611718"
      },
      "source": [
        "df_country.head()"
      ],
      "execution_count": 75,
      "outputs": [
        {
          "output_type": "execute_result",
          "data": {
            "text/html": [
              "<div>\n",
              "<style scoped>\n",
              "    .dataframe tbody tr th:only-of-type {\n",
              "        vertical-align: middle;\n",
              "    }\n",
              "\n",
              "    .dataframe tbody tr th {\n",
              "        vertical-align: top;\n",
              "    }\n",
              "\n",
              "    .dataframe thead th {\n",
              "        text-align: right;\n",
              "    }\n",
              "</style>\n",
              "<table border=\"1\" class=\"dataframe\">\n",
              "  <thead>\n",
              "    <tr style=\"text-align: right;\">\n",
              "      <th></th>\n",
              "      <th>Country Code</th>\n",
              "      <th>Short Name</th>\n",
              "      <th>Table Name</th>\n",
              "      <th>Long Name</th>\n",
              "      <th>2-alpha code</th>\n",
              "      <th>Currency Unit</th>\n",
              "      <th>Special Notes</th>\n",
              "      <th>Region</th>\n",
              "      <th>Income Group</th>\n",
              "      <th>WB-2 code</th>\n",
              "      <th>National accounts base year</th>\n",
              "      <th>National accounts reference year</th>\n",
              "      <th>SNA price valuation</th>\n",
              "      <th>Lending category</th>\n",
              "      <th>Other groups</th>\n",
              "      <th>System of National Accounts</th>\n",
              "      <th>Alternative conversion factor</th>\n",
              "      <th>PPP survey year</th>\n",
              "      <th>Balance of Payments Manual in use</th>\n",
              "      <th>External debt Reporting status</th>\n",
              "      <th>System of trade</th>\n",
              "      <th>Government Accounting concept</th>\n",
              "      <th>IMF data dissemination standard</th>\n",
              "      <th>Latest population census</th>\n",
              "      <th>Latest household survey</th>\n",
              "      <th>Source of most recent Income and expenditure data</th>\n",
              "      <th>Vital registration complete</th>\n",
              "      <th>Latest agricultural census</th>\n",
              "      <th>Latest industrial data</th>\n",
              "      <th>Latest trade data</th>\n",
              "      <th>Latest water withdrawal data</th>\n",
              "      <th>Unnamed: 31</th>\n",
              "    </tr>\n",
              "  </thead>\n",
              "  <tbody>\n",
              "    <tr>\n",
              "      <th>0</th>\n",
              "      <td>ABW</td>\n",
              "      <td>Aruba</td>\n",
              "      <td>Aruba</td>\n",
              "      <td>Aruba</td>\n",
              "      <td>AW</td>\n",
              "      <td>Aruban florin</td>\n",
              "      <td>SNA data for 2000-2011 are updated from offici...</td>\n",
              "      <td>Latin America &amp; Caribbean</td>\n",
              "      <td>High income: nonOECD</td>\n",
              "      <td>AW</td>\n",
              "      <td>2000</td>\n",
              "      <td>NaN</td>\n",
              "      <td>Value added at basic prices (VAB)</td>\n",
              "      <td>NaN</td>\n",
              "      <td>NaN</td>\n",
              "      <td>Country uses the 1993 System of National Accou...</td>\n",
              "      <td>NaN</td>\n",
              "      <td>NaN</td>\n",
              "      <td>IMF Balance of Payments Manual, 6th edition.</td>\n",
              "      <td>NaN</td>\n",
              "      <td>Special trade system</td>\n",
              "      <td>NaN</td>\n",
              "      <td>NaN</td>\n",
              "      <td>2010</td>\n",
              "      <td>NaN</td>\n",
              "      <td>NaN</td>\n",
              "      <td>Yes</td>\n",
              "      <td>NaN</td>\n",
              "      <td>NaN</td>\n",
              "      <td>2012.0</td>\n",
              "      <td>NaN</td>\n",
              "      <td>NaN</td>\n",
              "    </tr>\n",
              "    <tr>\n",
              "      <th>1</th>\n",
              "      <td>AFG</td>\n",
              "      <td>Afghanistan</td>\n",
              "      <td>Afghanistan</td>\n",
              "      <td>Islamic State of Afghanistan</td>\n",
              "      <td>AF</td>\n",
              "      <td>Afghan afghani</td>\n",
              "      <td>Fiscal year end: March 20; reporting period fo...</td>\n",
              "      <td>South Asia</td>\n",
              "      <td>Low income</td>\n",
              "      <td>AF</td>\n",
              "      <td>2002/03</td>\n",
              "      <td>NaN</td>\n",
              "      <td>Value added at basic prices (VAB)</td>\n",
              "      <td>IDA</td>\n",
              "      <td>HIPC</td>\n",
              "      <td>Country uses the 1993 System of National Accou...</td>\n",
              "      <td>NaN</td>\n",
              "      <td>NaN</td>\n",
              "      <td>NaN</td>\n",
              "      <td>Actual</td>\n",
              "      <td>General trade system</td>\n",
              "      <td>Consolidated central government</td>\n",
              "      <td>General Data Dissemination System (GDDS)</td>\n",
              "      <td>1979</td>\n",
              "      <td>Multiple Indicator Cluster Survey (MICS), 2010/11</td>\n",
              "      <td>Integrated household survey (IHS), 2008</td>\n",
              "      <td>NaN</td>\n",
              "      <td>2013/14</td>\n",
              "      <td>NaN</td>\n",
              "      <td>2012.0</td>\n",
              "      <td>2000</td>\n",
              "      <td>NaN</td>\n",
              "    </tr>\n",
              "    <tr>\n",
              "      <th>2</th>\n",
              "      <td>AGO</td>\n",
              "      <td>Angola</td>\n",
              "      <td>Angola</td>\n",
              "      <td>People's Republic of Angola</td>\n",
              "      <td>AO</td>\n",
              "      <td>Angolan kwanza</td>\n",
              "      <td>April 2013 database update: Based on IMF data,...</td>\n",
              "      <td>Sub-Saharan Africa</td>\n",
              "      <td>Upper middle income</td>\n",
              "      <td>AO</td>\n",
              "      <td>2002</td>\n",
              "      <td>NaN</td>\n",
              "      <td>Value added at producer prices (VAP)</td>\n",
              "      <td>IBRD</td>\n",
              "      <td>NaN</td>\n",
              "      <td>Country uses the 1993 System of National Accou...</td>\n",
              "      <td>1991–96</td>\n",
              "      <td>2005</td>\n",
              "      <td>IMF Balance of Payments Manual, 6th edition.</td>\n",
              "      <td>Actual</td>\n",
              "      <td>Special trade system</td>\n",
              "      <td>Budgetary central government</td>\n",
              "      <td>General Data Dissemination System (GDDS)</td>\n",
              "      <td>1970</td>\n",
              "      <td>Malaria Indicator Survey (MIS), 2011</td>\n",
              "      <td>Integrated household survey (IHS), 2008</td>\n",
              "      <td>NaN</td>\n",
              "      <td>2015</td>\n",
              "      <td>NaN</td>\n",
              "      <td>NaN</td>\n",
              "      <td>2005</td>\n",
              "      <td>NaN</td>\n",
              "    </tr>\n",
              "    <tr>\n",
              "      <th>3</th>\n",
              "      <td>ALB</td>\n",
              "      <td>Albania</td>\n",
              "      <td>Albania</td>\n",
              "      <td>Republic of Albania</td>\n",
              "      <td>AL</td>\n",
              "      <td>Albanian lek</td>\n",
              "      <td>NaN</td>\n",
              "      <td>Europe &amp; Central Asia</td>\n",
              "      <td>Upper middle income</td>\n",
              "      <td>AL</td>\n",
              "      <td>Original chained constant price data are resca...</td>\n",
              "      <td>1996.0</td>\n",
              "      <td>Value added at basic prices (VAB)</td>\n",
              "      <td>IBRD</td>\n",
              "      <td>NaN</td>\n",
              "      <td>Country uses the 1993 System of National Accou...</td>\n",
              "      <td>NaN</td>\n",
              "      <td>Rolling</td>\n",
              "      <td>IMF Balance of Payments Manual, 6th edition.</td>\n",
              "      <td>Actual</td>\n",
              "      <td>General trade system</td>\n",
              "      <td>Budgetary central government</td>\n",
              "      <td>General Data Dissemination System (GDDS)</td>\n",
              "      <td>2011</td>\n",
              "      <td>Demographic and Health Survey (DHS), 2008/09</td>\n",
              "      <td>Living Standards Measurement Study Survey (LSM...</td>\n",
              "      <td>Yes</td>\n",
              "      <td>2012</td>\n",
              "      <td>2010.0</td>\n",
              "      <td>2012.0</td>\n",
              "      <td>2006</td>\n",
              "      <td>NaN</td>\n",
              "    </tr>\n",
              "    <tr>\n",
              "      <th>4</th>\n",
              "      <td>AND</td>\n",
              "      <td>Andorra</td>\n",
              "      <td>Andorra</td>\n",
              "      <td>Principality of Andorra</td>\n",
              "      <td>AD</td>\n",
              "      <td>Euro</td>\n",
              "      <td>NaN</td>\n",
              "      <td>Europe &amp; Central Asia</td>\n",
              "      <td>High income: nonOECD</td>\n",
              "      <td>AD</td>\n",
              "      <td>1990</td>\n",
              "      <td>NaN</td>\n",
              "      <td>NaN</td>\n",
              "      <td>NaN</td>\n",
              "      <td>NaN</td>\n",
              "      <td>Country uses the 1968 System of National Accou...</td>\n",
              "      <td>NaN</td>\n",
              "      <td>NaN</td>\n",
              "      <td>NaN</td>\n",
              "      <td>NaN</td>\n",
              "      <td>Special trade system</td>\n",
              "      <td>NaN</td>\n",
              "      <td>NaN</td>\n",
              "      <td>2011. Population figures compiled from adminis...</td>\n",
              "      <td>NaN</td>\n",
              "      <td>NaN</td>\n",
              "      <td>Yes</td>\n",
              "      <td>NaN</td>\n",
              "      <td>NaN</td>\n",
              "      <td>2006.0</td>\n",
              "      <td>NaN</td>\n",
              "      <td>NaN</td>\n",
              "    </tr>\n",
              "  </tbody>\n",
              "</table>\n",
              "</div>"
            ],
            "text/plain": [
              "  Country Code   Short Name  ... Latest water withdrawal data Unnamed: 31\n",
              "0          ABW        Aruba  ...                          NaN         NaN\n",
              "1          AFG  Afghanistan  ...                         2000         NaN\n",
              "2          AGO       Angola  ...                         2005         NaN\n",
              "3          ALB      Albania  ...                         2006         NaN\n",
              "4          AND      Andorra  ...                          NaN         NaN\n",
              "\n",
              "[5 rows x 32 columns]"
            ]
          },
          "metadata": {
            "tags": []
          },
          "execution_count": 75
        }
      ]
    },
    {
      "cell_type": "code",
      "metadata": {
        "colab": {
          "base_uri": "https://localhost:8080/",
          "height": 253
        },
        "id": "zG7MmP6Lm1FL",
        "outputId": "ddeffc78-b195-4c53-826a-33cf40d6c976"
      },
      "source": [
        "df_country[df_country['Country Code']=='MNA']"
      ],
      "execution_count": 112,
      "outputs": [
        {
          "output_type": "execute_result",
          "data": {
            "text/html": [
              "<div>\n",
              "<style scoped>\n",
              "    .dataframe tbody tr th:only-of-type {\n",
              "        vertical-align: middle;\n",
              "    }\n",
              "\n",
              "    .dataframe tbody tr th {\n",
              "        vertical-align: top;\n",
              "    }\n",
              "\n",
              "    .dataframe thead th {\n",
              "        text-align: right;\n",
              "    }\n",
              "</style>\n",
              "<table border=\"1\" class=\"dataframe\">\n",
              "  <thead>\n",
              "    <tr style=\"text-align: right;\">\n",
              "      <th></th>\n",
              "      <th>Country Code</th>\n",
              "      <th>Short Name</th>\n",
              "      <th>Table Name</th>\n",
              "      <th>Long Name</th>\n",
              "      <th>2-alpha code</th>\n",
              "      <th>Currency Unit</th>\n",
              "      <th>Special Notes</th>\n",
              "      <th>Region</th>\n",
              "      <th>Income Group</th>\n",
              "      <th>WB-2 code</th>\n",
              "      <th>National accounts base year</th>\n",
              "      <th>SNA price valuation</th>\n",
              "      <th>Lending category</th>\n",
              "      <th>System of National Accounts</th>\n",
              "      <th>PPP survey year</th>\n",
              "      <th>Balance of Payments Manual in use</th>\n",
              "      <th>External debt Reporting status</th>\n",
              "      <th>System of trade</th>\n",
              "      <th>Government Accounting concept</th>\n",
              "      <th>IMF data dissemination standard</th>\n",
              "      <th>Latest population census</th>\n",
              "      <th>Latest household survey</th>\n",
              "      <th>Source of most recent Income and expenditure data</th>\n",
              "      <th>Vital registration complete</th>\n",
              "      <th>Latest agricultural census</th>\n",
              "      <th>Latest industrial data</th>\n",
              "      <th>Latest trade data</th>\n",
              "      <th>Latest water withdrawal data</th>\n",
              "    </tr>\n",
              "  </thead>\n",
              "  <tbody>\n",
              "    <tr>\n",
              "      <th>148</th>\n",
              "      <td>MNA</td>\n",
              "      <td>Middle East &amp; North Africa (developing only)</td>\n",
              "      <td>Middle East &amp; North Africa</td>\n",
              "      <td>Middle East &amp; North Africa (developing only)</td>\n",
              "      <td>XQ</td>\n",
              "      <td>NaN</td>\n",
              "      <td>Middle East and North Africa regional aggregat...</td>\n",
              "      <td>NaN</td>\n",
              "      <td>NaN</td>\n",
              "      <td>XQ</td>\n",
              "      <td>NaN</td>\n",
              "      <td>NaN</td>\n",
              "      <td>NaN</td>\n",
              "      <td>NaN</td>\n",
              "      <td>NaN</td>\n",
              "      <td>NaN</td>\n",
              "      <td>NaN</td>\n",
              "      <td>NaN</td>\n",
              "      <td>NaN</td>\n",
              "      <td>NaN</td>\n",
              "      <td>NaN</td>\n",
              "      <td>NaN</td>\n",
              "      <td>NaN</td>\n",
              "      <td>NaN</td>\n",
              "      <td>NaN</td>\n",
              "      <td>NaN</td>\n",
              "      <td>NaN</td>\n",
              "      <td>NaN</td>\n",
              "    </tr>\n",
              "  </tbody>\n",
              "</table>\n",
              "</div>"
            ],
            "text/plain": [
              "    Country Code  ... Latest water withdrawal data\n",
              "148          MNA  ...                          NaN\n",
              "\n",
              "[1 rows x 28 columns]"
            ]
          },
          "metadata": {
            "tags": []
          },
          "execution_count": 112
        }
      ]
    },
    {
      "cell_type": "code",
      "metadata": {
        "colab": {
          "base_uri": "https://localhost:8080/"
        },
        "id": "oiYtKiYgatJM",
        "outputId": "8accb144-473a-4d1f-e143-c9a17cb7534f"
      },
      "source": [
        "df_country.shape"
      ],
      "execution_count": 76,
      "outputs": [
        {
          "output_type": "execute_result",
          "data": {
            "text/plain": [
              "(241, 32)"
            ]
          },
          "metadata": {
            "tags": []
          },
          "execution_count": 76
        }
      ]
    },
    {
      "cell_type": "code",
      "metadata": {
        "colab": {
          "base_uri": "https://localhost:8080/"
        },
        "id": "W_PZXc8BbNj8",
        "outputId": "e69e456e-3f13-48b2-a0e9-b62911ef122d"
      },
      "source": [
        "df_country.columns"
      ],
      "execution_count": 77,
      "outputs": [
        {
          "output_type": "execute_result",
          "data": {
            "text/plain": [
              "Index(['Country Code', 'Short Name', 'Table Name', 'Long Name', '2-alpha code',\n",
              "       'Currency Unit', 'Special Notes', 'Region', 'Income Group', 'WB-2 code',\n",
              "       'National accounts base year', 'National accounts reference year',\n",
              "       'SNA price valuation', 'Lending category', 'Other groups',\n",
              "       'System of National Accounts', 'Alternative conversion factor',\n",
              "       'PPP survey year', 'Balance of Payments Manual in use',\n",
              "       'External debt Reporting status', 'System of trade',\n",
              "       'Government Accounting concept', 'IMF data dissemination standard',\n",
              "       'Latest population census', 'Latest household survey',\n",
              "       'Source of most recent Income and expenditure data',\n",
              "       'Vital registration complete', 'Latest agricultural census',\n",
              "       'Latest industrial data', 'Latest trade data',\n",
              "       'Latest water withdrawal data', 'Unnamed: 31'],\n",
              "      dtype='object')"
            ]
          },
          "metadata": {
            "tags": []
          },
          "execution_count": 77
        }
      ]
    },
    {
      "cell_type": "code",
      "metadata": {
        "colab": {
          "base_uri": "https://localhost:8080/"
        },
        "id": "Js2PZwXGUsRo",
        "outputId": "cb506b65-e553-4e2d-c56a-ac497b839fd8"
      },
      "source": [
        "df_country.info()"
      ],
      "execution_count": 78,
      "outputs": [
        {
          "output_type": "stream",
          "text": [
            "<class 'pandas.core.frame.DataFrame'>\n",
            "RangeIndex: 241 entries, 0 to 240\n",
            "Data columns (total 32 columns):\n",
            " #   Column                                             Non-Null Count  Dtype  \n",
            "---  ------                                             --------------  -----  \n",
            " 0   Country Code                                       241 non-null    object \n",
            " 1   Short Name                                         241 non-null    object \n",
            " 2   Table Name                                         241 non-null    object \n",
            " 3   Long Name                                          241 non-null    object \n",
            " 4   2-alpha code                                       238 non-null    object \n",
            " 5   Currency Unit                                      215 non-null    object \n",
            " 6   Special Notes                                      145 non-null    object \n",
            " 7   Region                                             214 non-null    object \n",
            " 8   Income Group                                       214 non-null    object \n",
            " 9   WB-2 code                                          240 non-null    object \n",
            " 10  National accounts base year                        205 non-null    object \n",
            " 11  National accounts reference year                   32 non-null     float64\n",
            " 12  SNA price valuation                                197 non-null    object \n",
            " 13  Lending category                                   144 non-null    object \n",
            " 14  Other groups                                       58 non-null     object \n",
            " 15  System of National Accounts                        215 non-null    object \n",
            " 16  Alternative conversion factor                      47 non-null     object \n",
            " 17  PPP survey year                                    145 non-null    object \n",
            " 18  Balance of Payments Manual in use                  181 non-null    object \n",
            " 19  External debt Reporting status                     124 non-null    object \n",
            " 20  System of trade                                    200 non-null    object \n",
            " 21  Government Accounting concept                      161 non-null    object \n",
            " 22  IMF data dissemination standard                    181 non-null    object \n",
            " 23  Latest population census                           213 non-null    object \n",
            " 24  Latest household survey                            141 non-null    object \n",
            " 25  Source of most recent Income and expenditure data  160 non-null    object \n",
            " 26  Vital registration complete                        111 non-null    object \n",
            " 27  Latest agricultural census                         142 non-null    object \n",
            " 28  Latest industrial data                             107 non-null    float64\n",
            " 29  Latest trade data                                  185 non-null    float64\n",
            " 30  Latest water withdrawal data                       179 non-null    object \n",
            " 31  Unnamed: 31                                        0 non-null      float64\n",
            "dtypes: float64(4), object(28)\n",
            "memory usage: 60.4+ KB\n"
          ],
          "name": "stdout"
        }
      ]
    },
    {
      "cell_type": "code",
      "metadata": {
        "colab": {
          "base_uri": "https://localhost:8080/"
        },
        "id": "sYRLubrNUwpa",
        "outputId": "787181ff-dc29-4770-eb0a-d9b371e5119d"
      },
      "source": [
        "df_country['Country Code'].unique().shape"
      ],
      "execution_count": 79,
      "outputs": [
        {
          "output_type": "execute_result",
          "data": {
            "text/plain": [
              "(241,)"
            ]
          },
          "metadata": {
            "tags": []
          },
          "execution_count": 79
        }
      ]
    },
    {
      "cell_type": "code",
      "metadata": {
        "colab": {
          "base_uri": "https://localhost:8080/"
        },
        "id": "jN3ab3hSU5ns",
        "outputId": "4bbd2770-4791-4dd1-951f-95cde5399512"
      },
      "source": [
        "df_country['Short Name'].unique().shape"
      ],
      "execution_count": 80,
      "outputs": [
        {
          "output_type": "execute_result",
          "data": {
            "text/plain": [
              "(241,)"
            ]
          },
          "metadata": {
            "tags": []
          },
          "execution_count": 80
        }
      ]
    },
    {
      "cell_type": "code",
      "metadata": {
        "colab": {
          "base_uri": "https://localhost:8080/"
        },
        "id": "ToZMPgHvWjqn",
        "outputId": "2918d0d0-a3e5-4a27-f971-02842ced8eab"
      },
      "source": [
        "df_country['Income Group'].unique()"
      ],
      "execution_count": 81,
      "outputs": [
        {
          "output_type": "execute_result",
          "data": {
            "text/plain": [
              "array(['High income: nonOECD', 'Low income', 'Upper middle income', nan,\n",
              "       'Lower middle income', 'High income: OECD'], dtype=object)"
            ]
          },
          "metadata": {
            "tags": []
          },
          "execution_count": 81
        }
      ]
    },
    {
      "cell_type": "code",
      "metadata": {
        "colab": {
          "base_uri": "https://localhost:8080/"
        },
        "id": "GKmS3TJYWzBs",
        "outputId": "6ffb8fd4-3aa1-4f5c-b488-d86a5cadb356"
      },
      "source": [
        "df_country['Region'].unique()"
      ],
      "execution_count": 82,
      "outputs": [
        {
          "output_type": "execute_result",
          "data": {
            "text/plain": [
              "array(['Latin America & Caribbean', 'South Asia', 'Sub-Saharan Africa',\n",
              "       'Europe & Central Asia', nan, 'Middle East & North Africa',\n",
              "       'East Asia & Pacific', 'North America'], dtype=object)"
            ]
          },
          "metadata": {
            "tags": []
          },
          "execution_count": 82
        }
      ]
    },
    {
      "cell_type": "markdown",
      "metadata": {
        "id": "7BPw1d5qXXcI"
      },
      "source": [
        "**Dropping the Unnamed: 31 column as it has all Nan values and columns like National accounts reference year, Alternative conversion factor and Other groups which have maximum Nans and less values**"
      ]
    },
    {
      "cell_type": "code",
      "metadata": {
        "id": "i4dCrKUqbSPD"
      },
      "source": [
        "df_country = df_country.drop(['Unnamed: 31','National accounts reference year','Alternative conversion factor','Other groups'],axis=1)"
      ],
      "execution_count": 83,
      "outputs": []
    },
    {
      "cell_type": "code",
      "metadata": {
        "colab": {
          "base_uri": "https://localhost:8080/"
        },
        "id": "natuZC-hadZR",
        "outputId": "f4eec32e-c004-4ce5-b2ba-b8e7602423e7"
      },
      "source": [
        "df_country.shape"
      ],
      "execution_count": 84,
      "outputs": [
        {
          "output_type": "execute_result",
          "data": {
            "text/plain": [
              "(241, 28)"
            ]
          },
          "metadata": {
            "tags": []
          },
          "execution_count": 84
        }
      ]
    },
    {
      "cell_type": "code",
      "metadata": {
        "colab": {
          "base_uri": "https://localhost:8080/",
          "height": 137
        },
        "id": "gcsn2Rr9bgjI",
        "outputId": "4c7f04d5-19c4-43f1-9720-952089ec6831"
      },
      "source": [
        "df_country[df_country.loc[:,'2-alpha code':'Latest water withdrawal data'].isna().all(axis=1)]"
      ],
      "execution_count": 85,
      "outputs": [
        {
          "output_type": "execute_result",
          "data": {
            "text/html": [
              "<div>\n",
              "<style scoped>\n",
              "    .dataframe tbody tr th:only-of-type {\n",
              "        vertical-align: middle;\n",
              "    }\n",
              "\n",
              "    .dataframe tbody tr th {\n",
              "        vertical-align: top;\n",
              "    }\n",
              "\n",
              "    .dataframe thead th {\n",
              "        text-align: right;\n",
              "    }\n",
              "</style>\n",
              "<table border=\"1\" class=\"dataframe\">\n",
              "  <thead>\n",
              "    <tr style=\"text-align: right;\">\n",
              "      <th></th>\n",
              "      <th>Country Code</th>\n",
              "      <th>Short Name</th>\n",
              "      <th>Table Name</th>\n",
              "      <th>Long Name</th>\n",
              "      <th>2-alpha code</th>\n",
              "      <th>Currency Unit</th>\n",
              "      <th>Special Notes</th>\n",
              "      <th>Region</th>\n",
              "      <th>Income Group</th>\n",
              "      <th>WB-2 code</th>\n",
              "      <th>National accounts base year</th>\n",
              "      <th>SNA price valuation</th>\n",
              "      <th>Lending category</th>\n",
              "      <th>System of National Accounts</th>\n",
              "      <th>PPP survey year</th>\n",
              "      <th>Balance of Payments Manual in use</th>\n",
              "      <th>External debt Reporting status</th>\n",
              "      <th>System of trade</th>\n",
              "      <th>Government Accounting concept</th>\n",
              "      <th>IMF data dissemination standard</th>\n",
              "      <th>Latest population census</th>\n",
              "      <th>Latest household survey</th>\n",
              "      <th>Source of most recent Income and expenditure data</th>\n",
              "      <th>Vital registration complete</th>\n",
              "      <th>Latest agricultural census</th>\n",
              "      <th>Latest industrial data</th>\n",
              "      <th>Latest trade data</th>\n",
              "      <th>Latest water withdrawal data</th>\n",
              "    </tr>\n",
              "  </thead>\n",
              "  <tbody>\n",
              "  </tbody>\n",
              "</table>\n",
              "</div>"
            ],
            "text/plain": [
              "Empty DataFrame\n",
              "Columns: [Country Code, Short Name, Table Name, Long Name, 2-alpha code, Currency Unit, Special Notes, Region, Income Group, WB-2 code, National accounts base year, SNA price valuation, Lending category, System of National Accounts, PPP survey year, Balance of Payments Manual in use, External debt Reporting status, System of trade, Government Accounting concept, IMF data dissemination standard, Latest population census, Latest household survey, Source of most recent Income and expenditure data, Vital registration complete, Latest agricultural census, Latest industrial data, Latest trade data, Latest water withdrawal data]\n",
              "Index: []"
            ]
          },
          "metadata": {
            "tags": []
          },
          "execution_count": 85
        }
      ]
    },
    {
      "cell_type": "markdown",
      "metadata": {
        "id": "9QmGspZuaoG6"
      },
      "source": [
        "### **Basic Analysis of EdStatsFootNote.csv dataset**"
      ]
    },
    {
      "cell_type": "code",
      "metadata": {
        "colab": {
          "base_uri": "https://localhost:8080/",
          "height": 204
        },
        "id": "toMoaQvcS3Ab",
        "outputId": "c1ccc3d7-acf9-4cfe-9b04-cddeb95c93f3"
      },
      "source": [
        "df_footnote.head()"
      ],
      "execution_count": 86,
      "outputs": [
        {
          "output_type": "execute_result",
          "data": {
            "text/html": [
              "<div>\n",
              "<style scoped>\n",
              "    .dataframe tbody tr th:only-of-type {\n",
              "        vertical-align: middle;\n",
              "    }\n",
              "\n",
              "    .dataframe tbody tr th {\n",
              "        vertical-align: top;\n",
              "    }\n",
              "\n",
              "    .dataframe thead th {\n",
              "        text-align: right;\n",
              "    }\n",
              "</style>\n",
              "<table border=\"1\" class=\"dataframe\">\n",
              "  <thead>\n",
              "    <tr style=\"text-align: right;\">\n",
              "      <th></th>\n",
              "      <th>CountryCode</th>\n",
              "      <th>SeriesCode</th>\n",
              "      <th>Year</th>\n",
              "      <th>DESCRIPTION</th>\n",
              "      <th>Unnamed: 4</th>\n",
              "    </tr>\n",
              "  </thead>\n",
              "  <tbody>\n",
              "    <tr>\n",
              "      <th>0</th>\n",
              "      <td>ABW</td>\n",
              "      <td>SE.PRE.ENRL.FE</td>\n",
              "      <td>YR2001</td>\n",
              "      <td>Country estimation.</td>\n",
              "      <td>NaN</td>\n",
              "    </tr>\n",
              "    <tr>\n",
              "      <th>1</th>\n",
              "      <td>ABW</td>\n",
              "      <td>SE.TER.TCHR.FE</td>\n",
              "      <td>YR2005</td>\n",
              "      <td>Country estimation.</td>\n",
              "      <td>NaN</td>\n",
              "    </tr>\n",
              "    <tr>\n",
              "      <th>2</th>\n",
              "      <td>ABW</td>\n",
              "      <td>SE.PRE.TCHR.FE</td>\n",
              "      <td>YR2000</td>\n",
              "      <td>Country estimation.</td>\n",
              "      <td>NaN</td>\n",
              "    </tr>\n",
              "    <tr>\n",
              "      <th>3</th>\n",
              "      <td>ABW</td>\n",
              "      <td>SE.SEC.ENRL.GC</td>\n",
              "      <td>YR2004</td>\n",
              "      <td>Country estimation.</td>\n",
              "      <td>NaN</td>\n",
              "    </tr>\n",
              "    <tr>\n",
              "      <th>4</th>\n",
              "      <td>ABW</td>\n",
              "      <td>SE.PRE.TCHR</td>\n",
              "      <td>YR2006</td>\n",
              "      <td>Country estimation.</td>\n",
              "      <td>NaN</td>\n",
              "    </tr>\n",
              "  </tbody>\n",
              "</table>\n",
              "</div>"
            ],
            "text/plain": [
              "  CountryCode      SeriesCode    Year          DESCRIPTION  Unnamed: 4\n",
              "0         ABW  SE.PRE.ENRL.FE  YR2001  Country estimation.         NaN\n",
              "1         ABW  SE.TER.TCHR.FE  YR2005  Country estimation.         NaN\n",
              "2         ABW  SE.PRE.TCHR.FE  YR2000  Country estimation.         NaN\n",
              "3         ABW  SE.SEC.ENRL.GC  YR2004  Country estimation.         NaN\n",
              "4         ABW     SE.PRE.TCHR  YR2006  Country estimation.         NaN"
            ]
          },
          "metadata": {
            "tags": []
          },
          "execution_count": 86
        }
      ]
    },
    {
      "cell_type": "code",
      "metadata": {
        "colab": {
          "base_uri": "https://localhost:8080/"
        },
        "id": "ijGkku5iTXAl",
        "outputId": "e2ef1758-8644-46cd-ac0e-2bde167a9014"
      },
      "source": [
        "df_footnote.columns"
      ],
      "execution_count": 87,
      "outputs": [
        {
          "output_type": "execute_result",
          "data": {
            "text/plain": [
              "Index(['CountryCode', 'SeriesCode', 'Year', 'DESCRIPTION', 'Unnamed: 4'], dtype='object')"
            ]
          },
          "metadata": {
            "tags": []
          },
          "execution_count": 87
        }
      ]
    },
    {
      "cell_type": "code",
      "metadata": {
        "colab": {
          "base_uri": "https://localhost:8080/"
        },
        "id": "BzvzJngrTZ5k",
        "outputId": "08c0bc0c-3aa5-45c4-9eab-f8bce770ce7f"
      },
      "source": [
        "df_footnote.info()"
      ],
      "execution_count": 88,
      "outputs": [
        {
          "output_type": "stream",
          "text": [
            "<class 'pandas.core.frame.DataFrame'>\n",
            "RangeIndex: 643638 entries, 0 to 643637\n",
            "Data columns (total 5 columns):\n",
            " #   Column       Non-Null Count   Dtype  \n",
            "---  ------       --------------   -----  \n",
            " 0   CountryCode  643638 non-null  object \n",
            " 1   SeriesCode   643638 non-null  object \n",
            " 2   Year         643638 non-null  object \n",
            " 3   DESCRIPTION  643638 non-null  object \n",
            " 4   Unnamed: 4   0 non-null       float64\n",
            "dtypes: float64(1), object(4)\n",
            "memory usage: 24.6+ MB\n"
          ],
          "name": "stdout"
        }
      ]
    },
    {
      "cell_type": "markdown",
      "metadata": {
        "id": "DrwXPKeJbRJh"
      },
      "source": [
        "**Dropping Unnamed: 4 column which has all Nan values**"
      ]
    },
    {
      "cell_type": "code",
      "metadata": {
        "id": "cs8CyxV-bYWS"
      },
      "source": [
        "df_footnote = df_footnote.drop('Unnamed: 4',axis=1)"
      ],
      "execution_count": 89,
      "outputs": []
    },
    {
      "cell_type": "code",
      "metadata": {
        "colab": {
          "base_uri": "https://localhost:8080/"
        },
        "id": "2tiYJGgnbfjn",
        "outputId": "2f1a9edf-8be7-4290-cac7-44ae0148150d"
      },
      "source": [
        "df_footnote.shape"
      ],
      "execution_count": 90,
      "outputs": [
        {
          "output_type": "execute_result",
          "data": {
            "text/plain": [
              "(643638, 4)"
            ]
          },
          "metadata": {
            "tags": []
          },
          "execution_count": 90
        }
      ]
    },
    {
      "cell_type": "code",
      "metadata": {
        "colab": {
          "base_uri": "https://localhost:8080/"
        },
        "id": "gGvtIWdtbnfM",
        "outputId": "7becc495-53fc-4333-c3c0-d844957a672c"
      },
      "source": [
        "df_footnote['CountryCode'].unique().shape"
      ],
      "execution_count": 91,
      "outputs": [
        {
          "output_type": "execute_result",
          "data": {
            "text/plain": [
              "(239,)"
            ]
          },
          "metadata": {
            "tags": []
          },
          "execution_count": 91
        }
      ]
    },
    {
      "cell_type": "code",
      "metadata": {
        "colab": {
          "base_uri": "https://localhost:8080/"
        },
        "id": "egOr8og3buWS",
        "outputId": "41c6b8dc-4724-404c-eeb2-1689c36024f1"
      },
      "source": [
        "df_footnote['SeriesCode'].unique().shape"
      ],
      "execution_count": 92,
      "outputs": [
        {
          "output_type": "execute_result",
          "data": {
            "text/plain": [
              "(1558,)"
            ]
          },
          "metadata": {
            "tags": []
          },
          "execution_count": 92
        }
      ]
    },
    {
      "cell_type": "code",
      "metadata": {
        "colab": {
          "base_uri": "https://localhost:8080/"
        },
        "id": "TAlbOsCkTbY7",
        "outputId": "ab91dd30-e19f-46ac-a174-ed1df8ddfd64"
      },
      "source": [
        "df_footnote['DESCRIPTION'].unique().shape"
      ],
      "execution_count": 93,
      "outputs": [
        {
          "output_type": "execute_result",
          "data": {
            "text/plain": [
              "(9102,)"
            ]
          },
          "metadata": {
            "tags": []
          },
          "execution_count": 93
        }
      ]
    },
    {
      "cell_type": "markdown",
      "metadata": {
        "id": "xhO8ZDOxcaD4"
      },
      "source": [
        "### **Basic Analysis of EdStatsSeries.csv** "
      ]
    },
    {
      "cell_type": "code",
      "metadata": {
        "colab": {
          "base_uri": "https://localhost:8080/",
          "height": 649
        },
        "id": "8ZzOAJktcgDr",
        "outputId": "bbf99978-6f19-43d5-b654-81e322e1f51c"
      },
      "source": [
        "df_stats_series.head()"
      ],
      "execution_count": 94,
      "outputs": [
        {
          "output_type": "execute_result",
          "data": {
            "text/html": [
              "<div>\n",
              "<style scoped>\n",
              "    .dataframe tbody tr th:only-of-type {\n",
              "        vertical-align: middle;\n",
              "    }\n",
              "\n",
              "    .dataframe tbody tr th {\n",
              "        vertical-align: top;\n",
              "    }\n",
              "\n",
              "    .dataframe thead th {\n",
              "        text-align: right;\n",
              "    }\n",
              "</style>\n",
              "<table border=\"1\" class=\"dataframe\">\n",
              "  <thead>\n",
              "    <tr style=\"text-align: right;\">\n",
              "      <th></th>\n",
              "      <th>Series Code</th>\n",
              "      <th>Topic</th>\n",
              "      <th>Indicator Name</th>\n",
              "      <th>Short definition</th>\n",
              "      <th>Long definition</th>\n",
              "      <th>Unit of measure</th>\n",
              "      <th>Periodicity</th>\n",
              "      <th>Base Period</th>\n",
              "      <th>Other notes</th>\n",
              "      <th>Aggregation method</th>\n",
              "      <th>Limitations and exceptions</th>\n",
              "      <th>Notes from original source</th>\n",
              "      <th>General comments</th>\n",
              "      <th>Source</th>\n",
              "      <th>Statistical concept and methodology</th>\n",
              "      <th>Development relevance</th>\n",
              "      <th>Related source links</th>\n",
              "      <th>Other web links</th>\n",
              "      <th>Related indicators</th>\n",
              "      <th>License Type</th>\n",
              "      <th>Unnamed: 20</th>\n",
              "    </tr>\n",
              "  </thead>\n",
              "  <tbody>\n",
              "    <tr>\n",
              "      <th>0</th>\n",
              "      <td>BAR.NOED.1519.FE.ZS</td>\n",
              "      <td>Attainment</td>\n",
              "      <td>Barro-Lee: Percentage of female population age...</td>\n",
              "      <td>Percentage of female population age 15-19 with...</td>\n",
              "      <td>Percentage of female population age 15-19 with...</td>\n",
              "      <td>NaN</td>\n",
              "      <td>NaN</td>\n",
              "      <td>NaN</td>\n",
              "      <td>NaN</td>\n",
              "      <td>NaN</td>\n",
              "      <td>NaN</td>\n",
              "      <td>NaN</td>\n",
              "      <td>NaN</td>\n",
              "      <td>Robert J. Barro and Jong-Wha Lee: http://www.b...</td>\n",
              "      <td>NaN</td>\n",
              "      <td>NaN</td>\n",
              "      <td>NaN</td>\n",
              "      <td>NaN</td>\n",
              "      <td>NaN</td>\n",
              "      <td>NaN</td>\n",
              "      <td>NaN</td>\n",
              "    </tr>\n",
              "    <tr>\n",
              "      <th>1</th>\n",
              "      <td>BAR.NOED.1519.ZS</td>\n",
              "      <td>Attainment</td>\n",
              "      <td>Barro-Lee: Percentage of population age 15-19 ...</td>\n",
              "      <td>Percentage of population age 15-19 with no edu...</td>\n",
              "      <td>Percentage of population age 15-19 with no edu...</td>\n",
              "      <td>NaN</td>\n",
              "      <td>NaN</td>\n",
              "      <td>NaN</td>\n",
              "      <td>NaN</td>\n",
              "      <td>NaN</td>\n",
              "      <td>NaN</td>\n",
              "      <td>NaN</td>\n",
              "      <td>NaN</td>\n",
              "      <td>Robert J. Barro and Jong-Wha Lee: http://www.b...</td>\n",
              "      <td>NaN</td>\n",
              "      <td>NaN</td>\n",
              "      <td>NaN</td>\n",
              "      <td>NaN</td>\n",
              "      <td>NaN</td>\n",
              "      <td>NaN</td>\n",
              "      <td>NaN</td>\n",
              "    </tr>\n",
              "    <tr>\n",
              "      <th>2</th>\n",
              "      <td>BAR.NOED.15UP.FE.ZS</td>\n",
              "      <td>Attainment</td>\n",
              "      <td>Barro-Lee: Percentage of female population age...</td>\n",
              "      <td>Percentage of female population age 15+ with n...</td>\n",
              "      <td>Percentage of female population age 15+ with n...</td>\n",
              "      <td>NaN</td>\n",
              "      <td>NaN</td>\n",
              "      <td>NaN</td>\n",
              "      <td>NaN</td>\n",
              "      <td>NaN</td>\n",
              "      <td>NaN</td>\n",
              "      <td>NaN</td>\n",
              "      <td>NaN</td>\n",
              "      <td>Robert J. Barro and Jong-Wha Lee: http://www.b...</td>\n",
              "      <td>NaN</td>\n",
              "      <td>NaN</td>\n",
              "      <td>NaN</td>\n",
              "      <td>NaN</td>\n",
              "      <td>NaN</td>\n",
              "      <td>NaN</td>\n",
              "      <td>NaN</td>\n",
              "    </tr>\n",
              "    <tr>\n",
              "      <th>3</th>\n",
              "      <td>BAR.NOED.15UP.ZS</td>\n",
              "      <td>Attainment</td>\n",
              "      <td>Barro-Lee: Percentage of population age 15+ wi...</td>\n",
              "      <td>Percentage of population age 15+ with no educa...</td>\n",
              "      <td>Percentage of population age 15+ with no educa...</td>\n",
              "      <td>NaN</td>\n",
              "      <td>NaN</td>\n",
              "      <td>NaN</td>\n",
              "      <td>NaN</td>\n",
              "      <td>NaN</td>\n",
              "      <td>NaN</td>\n",
              "      <td>NaN</td>\n",
              "      <td>NaN</td>\n",
              "      <td>Robert J. Barro and Jong-Wha Lee: http://www.b...</td>\n",
              "      <td>NaN</td>\n",
              "      <td>NaN</td>\n",
              "      <td>NaN</td>\n",
              "      <td>NaN</td>\n",
              "      <td>NaN</td>\n",
              "      <td>NaN</td>\n",
              "      <td>NaN</td>\n",
              "    </tr>\n",
              "    <tr>\n",
              "      <th>4</th>\n",
              "      <td>BAR.NOED.2024.FE.ZS</td>\n",
              "      <td>Attainment</td>\n",
              "      <td>Barro-Lee: Percentage of female population age...</td>\n",
              "      <td>Percentage of female population age 20-24 with...</td>\n",
              "      <td>Percentage of female population age 20-24 with...</td>\n",
              "      <td>NaN</td>\n",
              "      <td>NaN</td>\n",
              "      <td>NaN</td>\n",
              "      <td>NaN</td>\n",
              "      <td>NaN</td>\n",
              "      <td>NaN</td>\n",
              "      <td>NaN</td>\n",
              "      <td>NaN</td>\n",
              "      <td>Robert J. Barro and Jong-Wha Lee: http://www.b...</td>\n",
              "      <td>NaN</td>\n",
              "      <td>NaN</td>\n",
              "      <td>NaN</td>\n",
              "      <td>NaN</td>\n",
              "      <td>NaN</td>\n",
              "      <td>NaN</td>\n",
              "      <td>NaN</td>\n",
              "    </tr>\n",
              "  </tbody>\n",
              "</table>\n",
              "</div>"
            ],
            "text/plain": [
              "           Series Code       Topic  ... License Type Unnamed: 20\n",
              "0  BAR.NOED.1519.FE.ZS  Attainment  ...          NaN         NaN\n",
              "1     BAR.NOED.1519.ZS  Attainment  ...          NaN         NaN\n",
              "2  BAR.NOED.15UP.FE.ZS  Attainment  ...          NaN         NaN\n",
              "3     BAR.NOED.15UP.ZS  Attainment  ...          NaN         NaN\n",
              "4  BAR.NOED.2024.FE.ZS  Attainment  ...          NaN         NaN\n",
              "\n",
              "[5 rows x 21 columns]"
            ]
          },
          "metadata": {
            "tags": []
          },
          "execution_count": 94
        }
      ]
    },
    {
      "cell_type": "code",
      "metadata": {
        "colab": {
          "base_uri": "https://localhost:8080/"
        },
        "id": "cVC6yGCxTikE",
        "outputId": "30a35d16-e7c4-495e-bf4b-e789cd4c1f49"
      },
      "source": [
        "df_stats_series.info()"
      ],
      "execution_count": 95,
      "outputs": [
        {
          "output_type": "stream",
          "text": [
            "<class 'pandas.core.frame.DataFrame'>\n",
            "RangeIndex: 3665 entries, 0 to 3664\n",
            "Data columns (total 21 columns):\n",
            " #   Column                               Non-Null Count  Dtype  \n",
            "---  ------                               --------------  -----  \n",
            " 0   Series Code                          3665 non-null   object \n",
            " 1   Topic                                3665 non-null   object \n",
            " 2   Indicator Name                       3665 non-null   object \n",
            " 3   Short definition                     2156 non-null   object \n",
            " 4   Long definition                      3665 non-null   object \n",
            " 5   Unit of measure                      0 non-null      float64\n",
            " 6   Periodicity                          99 non-null     object \n",
            " 7   Base Period                          314 non-null    object \n",
            " 8   Other notes                          552 non-null    object \n",
            " 9   Aggregation method                   47 non-null     object \n",
            " 10  Limitations and exceptions           14 non-null     object \n",
            " 11  Notes from original source           0 non-null      float64\n",
            " 12  General comments                     14 non-null     object \n",
            " 13  Source                               3665 non-null   object \n",
            " 14  Statistical concept and methodology  23 non-null     object \n",
            " 15  Development relevance                3 non-null      object \n",
            " 16  Related source links                 215 non-null    object \n",
            " 17  Other web links                      0 non-null      float64\n",
            " 18  Related indicators                   0 non-null      float64\n",
            " 19  License Type                         0 non-null      float64\n",
            " 20  Unnamed: 20                          0 non-null      float64\n",
            "dtypes: float64(6), object(15)\n",
            "memory usage: 601.4+ KB\n"
          ],
          "name": "stdout"
        }
      ]
    },
    {
      "cell_type": "markdown",
      "metadata": {
        "id": "zUyk-sYnctom"
      },
      "source": [
        "**Dropping columns like Unnamed: 20, Other web links, Related indicators, License Type, Statistical concept and methodology, Development relevance, General comments, Notes from original source, Limitations and exceptions, Unit of measure,Aggregation method** \r\n",
        "\r\n",
        "\r\n"
      ]
    },
    {
      "cell_type": "code",
      "metadata": {
        "id": "JsfzWVTCT6q-"
      },
      "source": [
        "df_stats_series = df_stats_series.drop(['Unnamed: 20', 'Other web links', 'Related indicators', 'License Type', 'Statistical concept and methodology', 'Development relevance', 'General comments', 'Notes from original source', 'Limitations and exceptions', 'Unit of measure','Aggregation method'],axis=1)"
      ],
      "execution_count": 102,
      "outputs": []
    },
    {
      "cell_type": "code",
      "metadata": {
        "colab": {
          "base_uri": "https://localhost:8080/"
        },
        "id": "7_UbebovUg0j",
        "outputId": "89a06a09-c73f-49d3-a892-adaa60f1b6a9"
      },
      "source": [
        "df_stats_series.info()"
      ],
      "execution_count": 103,
      "outputs": [
        {
          "output_type": "stream",
          "text": [
            "<class 'pandas.core.frame.DataFrame'>\n",
            "RangeIndex: 3665 entries, 0 to 3664\n",
            "Data columns (total 10 columns):\n",
            " #   Column                Non-Null Count  Dtype \n",
            "---  ------                --------------  ----- \n",
            " 0   Series Code           3665 non-null   object\n",
            " 1   Topic                 3665 non-null   object\n",
            " 2   Indicator Name        3665 non-null   object\n",
            " 3   Short definition      2156 non-null   object\n",
            " 4   Long definition       3665 non-null   object\n",
            " 5   Periodicity           99 non-null     object\n",
            " 6   Base Period           314 non-null    object\n",
            " 7   Other notes           552 non-null    object\n",
            " 8   Source                3665 non-null   object\n",
            " 9   Related source links  215 non-null    object\n",
            "dtypes: object(10)\n",
            "memory usage: 286.5+ KB\n"
          ],
          "name": "stdout"
        }
      ]
    },
    {
      "cell_type": "code",
      "metadata": {
        "colab": {
          "base_uri": "https://localhost:8080/"
        },
        "id": "RZj2GFWxUi2j",
        "outputId": "f517fd61-1bf1-4b86-d3b9-2988a4c23258"
      },
      "source": [
        "df_stats_series['Series Code'].unique().shape\r\n"
      ],
      "execution_count": 104,
      "outputs": [
        {
          "output_type": "execute_result",
          "data": {
            "text/plain": [
              "(3665,)"
            ]
          },
          "metadata": {
            "tags": []
          },
          "execution_count": 104
        }
      ]
    },
    {
      "cell_type": "code",
      "metadata": {
        "colab": {
          "base_uri": "https://localhost:8080/"
        },
        "id": "h3152up7gJzh",
        "outputId": "02635bf9-b20e-413e-9f7a-bd5634dd0360"
      },
      "source": [
        "df_stats_series['Topic'].unique()"
      ],
      "execution_count": 107,
      "outputs": [
        {
          "output_type": "execute_result",
          "data": {
            "text/plain": [
              "array(['Attainment', 'Education Equality',\n",
              "       'Infrastructure: Communications', 'Learning Outcomes',\n",
              "       'Economic Policy & Debt: National accounts: US$ at current prices: Aggregate indicators',\n",
              "       'Economic Policy & Debt: National accounts: US$ at constant 2010 prices: Aggregate indicators',\n",
              "       'Economic Policy & Debt: Purchasing power parity',\n",
              "       'Economic Policy & Debt: National accounts: Atlas GNI & GNI per capita',\n",
              "       'Teachers', 'Education Management Information Systems (SABER)',\n",
              "       'Early Child Development (SABER)',\n",
              "       'Engaging the Private Sector (SABER)',\n",
              "       'School Health and School Feeding (SABER)',\n",
              "       'School Autonomy and Accountability (SABER)',\n",
              "       'School Finance (SABER)', 'Student Assessment (SABER)',\n",
              "       'Teachers (SABER)', 'Tertiary Education (SABER)',\n",
              "       'Workforce Development (SABER)', 'Literacy', 'Background',\n",
              "       'Primary', 'Secondary', 'Tertiary', 'Early Childhood Education',\n",
              "       'Pre-Primary', 'Expenditures', 'Health: Risk factors',\n",
              "       'Health: Mortality',\n",
              "       'Social Protection & Labor: Labor force structure', 'Laber',\n",
              "       'Social Protection & Labor: Unemployment',\n",
              "       'Health: Population: Structure', 'Population',\n",
              "       'Health: Population: Dynamics', 'EMIS',\n",
              "       'Post-Secondary/Non-Tertiary'], dtype=object)"
            ]
          },
          "metadata": {
            "tags": []
          },
          "execution_count": 107
        }
      ]
    },
    {
      "cell_type": "code",
      "metadata": {
        "colab": {
          "base_uri": "https://localhost:8080/"
        },
        "id": "Yp9LWCy7gQnj",
        "outputId": "7c47ce94-2c60-4d39-dac1-87a8d890773d"
      },
      "source": [
        "df_stats_series['Indicator Name'].unique().shape"
      ],
      "execution_count": 106,
      "outputs": [
        {
          "output_type": "execute_result",
          "data": {
            "text/plain": [
              "(3665,)"
            ]
          },
          "metadata": {
            "tags": []
          },
          "execution_count": 106
        }
      ]
    },
    {
      "cell_type": "markdown",
      "metadata": {
        "id": "wIWCUITMg47S"
      },
      "source": [
        "**Findings from the Dataset :**\r\n",
        "\r\n",
        "\r\n",
        "\r\n",
        "*   df_country contains a list of all participating countries (total of 241)\r\n",
        "\r\n",
        "* df_stats_data contains a combination of each country and each indicator (total of 3665 indicators) as well as measurment values for these indicators from 1970 to 2016 and projections from 2020 to 2100.\r\n",
        "\r\n",
        "* df_stats_series contains the list of all indicators, their category group and further additional information\r\n",
        "\r\n",
        "* df_country_series contains general information about entire indicators that have been estimated for certain countries\r\n",
        "\r\n",
        "* df_footnote contains informations about the uncertainty and origin of the data series used for the indicators for every single year \r\n",
        "\r\n",
        "\r\n",
        "\r\n"
      ]
    },
    {
      "cell_type": "markdown",
      "metadata": {
        "id": "tc7Ouv9PSCpi"
      },
      "source": [
        "### **Identifying the Indicators which are most important for a country's education scenario**"
      ]
    },
    {
      "cell_type": "code",
      "metadata": {
        "colab": {
          "base_uri": "https://localhost:8080/",
          "height": 669
        },
        "id": "aSrPkc24Vklv",
        "outputId": "e0d96ba8-8276-46a3-9d7b-15fc7cb3d7c2"
      },
      "source": [
        "new_stats_data['Indicator Name'].value_counts().rename_axis('Indicator Name').reset_index(name='Count')[0:20]"
      ],
      "execution_count": 154,
      "outputs": [
        {
          "output_type": "execute_result",
          "data": {
            "text/html": [
              "<div>\n",
              "<style scoped>\n",
              "    .dataframe tbody tr th:only-of-type {\n",
              "        vertical-align: middle;\n",
              "    }\n",
              "\n",
              "    .dataframe tbody tr th {\n",
              "        vertical-align: top;\n",
              "    }\n",
              "\n",
              "    .dataframe thead th {\n",
              "        text-align: right;\n",
              "    }\n",
              "</style>\n",
              "<table border=\"1\" class=\"dataframe\">\n",
              "  <thead>\n",
              "    <tr style=\"text-align: right;\">\n",
              "      <th></th>\n",
              "      <th>Indicator Name</th>\n",
              "      <th>Count</th>\n",
              "    </tr>\n",
              "  </thead>\n",
              "  <tbody>\n",
              "    <tr>\n",
              "      <th>0</th>\n",
              "      <td>Population, total</td>\n",
              "      <td>240</td>\n",
              "    </tr>\n",
              "    <tr>\n",
              "      <th>1</th>\n",
              "      <td>Population growth (annual %)</td>\n",
              "      <td>240</td>\n",
              "    </tr>\n",
              "    <tr>\n",
              "      <th>2</th>\n",
              "      <td>GDP per capita (current US$)</td>\n",
              "      <td>234</td>\n",
              "    </tr>\n",
              "    <tr>\n",
              "      <th>3</th>\n",
              "      <td>GDP at market prices (current US$)</td>\n",
              "      <td>234</td>\n",
              "    </tr>\n",
              "    <tr>\n",
              "      <th>4</th>\n",
              "      <td>Internet users (per 100 people)</td>\n",
              "      <td>230</td>\n",
              "    </tr>\n",
              "    <tr>\n",
              "      <th>5</th>\n",
              "      <td>Enrolment in primary education, female (number)</td>\n",
              "      <td>229</td>\n",
              "    </tr>\n",
              "    <tr>\n",
              "      <th>6</th>\n",
              "      <td>Percentage of students in primary education wh...</td>\n",
              "      <td>229</td>\n",
              "    </tr>\n",
              "    <tr>\n",
              "      <th>7</th>\n",
              "      <td>Enrolment in primary education, both sexes (nu...</td>\n",
              "      <td>229</td>\n",
              "    </tr>\n",
              "    <tr>\n",
              "      <th>8</th>\n",
              "      <td>Percentage of students in secondary general ed...</td>\n",
              "      <td>228</td>\n",
              "    </tr>\n",
              "    <tr>\n",
              "      <th>9</th>\n",
              "      <td>Enrolment in secondary general, female (number)</td>\n",
              "      <td>228</td>\n",
              "    </tr>\n",
              "    <tr>\n",
              "      <th>10</th>\n",
              "      <td>Enrolment in secondary general, both sexes (nu...</td>\n",
              "      <td>228</td>\n",
              "    </tr>\n",
              "    <tr>\n",
              "      <th>11</th>\n",
              "      <td>Enrolment in lower secondary education, both s...</td>\n",
              "      <td>228</td>\n",
              "    </tr>\n",
              "    <tr>\n",
              "      <th>12</th>\n",
              "      <td>GDP at market prices (constant 2005 US$)</td>\n",
              "      <td>227</td>\n",
              "    </tr>\n",
              "    <tr>\n",
              "      <th>13</th>\n",
              "      <td>Enrolment in lower secondary education, female...</td>\n",
              "      <td>227</td>\n",
              "    </tr>\n",
              "    <tr>\n",
              "      <th>14</th>\n",
              "      <td>Enrolment in lower secondary general, both sex...</td>\n",
              "      <td>227</td>\n",
              "    </tr>\n",
              "    <tr>\n",
              "      <th>15</th>\n",
              "      <td>Percentage of students in lower secondary educ...</td>\n",
              "      <td>227</td>\n",
              "    </tr>\n",
              "    <tr>\n",
              "      <th>16</th>\n",
              "      <td>GDP per capita (constant 2005 US$)</td>\n",
              "      <td>227</td>\n",
              "    </tr>\n",
              "    <tr>\n",
              "      <th>17</th>\n",
              "      <td>Percentage of students in lower secondary educ...</td>\n",
              "      <td>227</td>\n",
              "    </tr>\n",
              "    <tr>\n",
              "      <th>18</th>\n",
              "      <td>Enrolment in upper secondary general, both sex...</td>\n",
              "      <td>227</td>\n",
              "    </tr>\n",
              "    <tr>\n",
              "      <th>19</th>\n",
              "      <td>GNI (current US$)</td>\n",
              "      <td>226</td>\n",
              "    </tr>\n",
              "  </tbody>\n",
              "</table>\n",
              "</div>"
            ],
            "text/plain": [
              "                                       Indicator Name  Count\n",
              "0                                   Population, total    240\n",
              "1                        Population growth (annual %)    240\n",
              "2                        GDP per capita (current US$)    234\n",
              "3                  GDP at market prices (current US$)    234\n",
              "4                     Internet users (per 100 people)    230\n",
              "5     Enrolment in primary education, female (number)    229\n",
              "6   Percentage of students in primary education wh...    229\n",
              "7   Enrolment in primary education, both sexes (nu...    229\n",
              "8   Percentage of students in secondary general ed...    228\n",
              "9     Enrolment in secondary general, female (number)    228\n",
              "10  Enrolment in secondary general, both sexes (nu...    228\n",
              "11  Enrolment in lower secondary education, both s...    228\n",
              "12           GDP at market prices (constant 2005 US$)    227\n",
              "13  Enrolment in lower secondary education, female...    227\n",
              "14  Enrolment in lower secondary general, both sex...    227\n",
              "15  Percentage of students in lower secondary educ...    227\n",
              "16                 GDP per capita (constant 2005 US$)    227\n",
              "17  Percentage of students in lower secondary educ...    227\n",
              "18  Enrolment in upper secondary general, both sex...    227\n",
              "19                                  GNI (current US$)    226"
            ]
          },
          "metadata": {
            "tags": []
          },
          "execution_count": 154
        }
      ]
    },
    {
      "cell_type": "code",
      "metadata": {
        "colab": {
          "base_uri": "https://localhost:8080/",
          "height": 819
        },
        "id": "0auMV4WiZ7qz",
        "outputId": "bd8503f5-7543-47e4-b717-b3f26f5755ec"
      },
      "source": [
        "df_country.head()"
      ],
      "execution_count": 156,
      "outputs": [
        {
          "output_type": "execute_result",
          "data": {
            "text/html": [
              "<div>\n",
              "<style scoped>\n",
              "    .dataframe tbody tr th:only-of-type {\n",
              "        vertical-align: middle;\n",
              "    }\n",
              "\n",
              "    .dataframe tbody tr th {\n",
              "        vertical-align: top;\n",
              "    }\n",
              "\n",
              "    .dataframe thead th {\n",
              "        text-align: right;\n",
              "    }\n",
              "</style>\n",
              "<table border=\"1\" class=\"dataframe\">\n",
              "  <thead>\n",
              "    <tr style=\"text-align: right;\">\n",
              "      <th></th>\n",
              "      <th>Country Code</th>\n",
              "      <th>Short Name</th>\n",
              "      <th>Table Name</th>\n",
              "      <th>Long Name</th>\n",
              "      <th>2-alpha code</th>\n",
              "      <th>Currency Unit</th>\n",
              "      <th>Special Notes</th>\n",
              "      <th>Region</th>\n",
              "      <th>Income Group</th>\n",
              "      <th>WB-2 code</th>\n",
              "      <th>National accounts base year</th>\n",
              "      <th>SNA price valuation</th>\n",
              "      <th>Lending category</th>\n",
              "      <th>System of National Accounts</th>\n",
              "      <th>PPP survey year</th>\n",
              "      <th>Balance of Payments Manual in use</th>\n",
              "      <th>External debt Reporting status</th>\n",
              "      <th>System of trade</th>\n",
              "      <th>Government Accounting concept</th>\n",
              "      <th>IMF data dissemination standard</th>\n",
              "      <th>Latest population census</th>\n",
              "      <th>Latest household survey</th>\n",
              "      <th>Source of most recent Income and expenditure data</th>\n",
              "      <th>Vital registration complete</th>\n",
              "      <th>Latest agricultural census</th>\n",
              "      <th>Latest industrial data</th>\n",
              "      <th>Latest trade data</th>\n",
              "      <th>Latest water withdrawal data</th>\n",
              "    </tr>\n",
              "  </thead>\n",
              "  <tbody>\n",
              "    <tr>\n",
              "      <th>0</th>\n",
              "      <td>ABW</td>\n",
              "      <td>Aruba</td>\n",
              "      <td>Aruba</td>\n",
              "      <td>Aruba</td>\n",
              "      <td>AW</td>\n",
              "      <td>Aruban florin</td>\n",
              "      <td>SNA data for 2000-2011 are updated from offici...</td>\n",
              "      <td>Latin America &amp; Caribbean</td>\n",
              "      <td>High income: nonOECD</td>\n",
              "      <td>AW</td>\n",
              "      <td>2000</td>\n",
              "      <td>Value added at basic prices (VAB)</td>\n",
              "      <td>NaN</td>\n",
              "      <td>Country uses the 1993 System of National Accou...</td>\n",
              "      <td>NaN</td>\n",
              "      <td>IMF Balance of Payments Manual, 6th edition.</td>\n",
              "      <td>NaN</td>\n",
              "      <td>Special trade system</td>\n",
              "      <td>NaN</td>\n",
              "      <td>NaN</td>\n",
              "      <td>2010</td>\n",
              "      <td>NaN</td>\n",
              "      <td>NaN</td>\n",
              "      <td>Yes</td>\n",
              "      <td>NaN</td>\n",
              "      <td>NaN</td>\n",
              "      <td>2012.0</td>\n",
              "      <td>NaN</td>\n",
              "    </tr>\n",
              "    <tr>\n",
              "      <th>1</th>\n",
              "      <td>AFG</td>\n",
              "      <td>Afghanistan</td>\n",
              "      <td>Afghanistan</td>\n",
              "      <td>Islamic State of Afghanistan</td>\n",
              "      <td>AF</td>\n",
              "      <td>Afghan afghani</td>\n",
              "      <td>Fiscal year end: March 20; reporting period fo...</td>\n",
              "      <td>South Asia</td>\n",
              "      <td>Low income</td>\n",
              "      <td>AF</td>\n",
              "      <td>2002/03</td>\n",
              "      <td>Value added at basic prices (VAB)</td>\n",
              "      <td>IDA</td>\n",
              "      <td>Country uses the 1993 System of National Accou...</td>\n",
              "      <td>NaN</td>\n",
              "      <td>NaN</td>\n",
              "      <td>Actual</td>\n",
              "      <td>General trade system</td>\n",
              "      <td>Consolidated central government</td>\n",
              "      <td>General Data Dissemination System (GDDS)</td>\n",
              "      <td>1979</td>\n",
              "      <td>Multiple Indicator Cluster Survey (MICS), 2010/11</td>\n",
              "      <td>Integrated household survey (IHS), 2008</td>\n",
              "      <td>NaN</td>\n",
              "      <td>2013/14</td>\n",
              "      <td>NaN</td>\n",
              "      <td>2012.0</td>\n",
              "      <td>2000</td>\n",
              "    </tr>\n",
              "    <tr>\n",
              "      <th>2</th>\n",
              "      <td>AGO</td>\n",
              "      <td>Angola</td>\n",
              "      <td>Angola</td>\n",
              "      <td>People's Republic of Angola</td>\n",
              "      <td>AO</td>\n",
              "      <td>Angolan kwanza</td>\n",
              "      <td>April 2013 database update: Based on IMF data,...</td>\n",
              "      <td>Sub-Saharan Africa</td>\n",
              "      <td>Upper middle income</td>\n",
              "      <td>AO</td>\n",
              "      <td>2002</td>\n",
              "      <td>Value added at producer prices (VAP)</td>\n",
              "      <td>IBRD</td>\n",
              "      <td>Country uses the 1993 System of National Accou...</td>\n",
              "      <td>2005</td>\n",
              "      <td>IMF Balance of Payments Manual, 6th edition.</td>\n",
              "      <td>Actual</td>\n",
              "      <td>Special trade system</td>\n",
              "      <td>Budgetary central government</td>\n",
              "      <td>General Data Dissemination System (GDDS)</td>\n",
              "      <td>1970</td>\n",
              "      <td>Malaria Indicator Survey (MIS), 2011</td>\n",
              "      <td>Integrated household survey (IHS), 2008</td>\n",
              "      <td>NaN</td>\n",
              "      <td>2015</td>\n",
              "      <td>NaN</td>\n",
              "      <td>NaN</td>\n",
              "      <td>2005</td>\n",
              "    </tr>\n",
              "    <tr>\n",
              "      <th>3</th>\n",
              "      <td>ALB</td>\n",
              "      <td>Albania</td>\n",
              "      <td>Albania</td>\n",
              "      <td>Republic of Albania</td>\n",
              "      <td>AL</td>\n",
              "      <td>Albanian lek</td>\n",
              "      <td>NaN</td>\n",
              "      <td>Europe &amp; Central Asia</td>\n",
              "      <td>Upper middle income</td>\n",
              "      <td>AL</td>\n",
              "      <td>Original chained constant price data are resca...</td>\n",
              "      <td>Value added at basic prices (VAB)</td>\n",
              "      <td>IBRD</td>\n",
              "      <td>Country uses the 1993 System of National Accou...</td>\n",
              "      <td>Rolling</td>\n",
              "      <td>IMF Balance of Payments Manual, 6th edition.</td>\n",
              "      <td>Actual</td>\n",
              "      <td>General trade system</td>\n",
              "      <td>Budgetary central government</td>\n",
              "      <td>General Data Dissemination System (GDDS)</td>\n",
              "      <td>2011</td>\n",
              "      <td>Demographic and Health Survey (DHS), 2008/09</td>\n",
              "      <td>Living Standards Measurement Study Survey (LSM...</td>\n",
              "      <td>Yes</td>\n",
              "      <td>2012</td>\n",
              "      <td>2010.0</td>\n",
              "      <td>2012.0</td>\n",
              "      <td>2006</td>\n",
              "    </tr>\n",
              "    <tr>\n",
              "      <th>4</th>\n",
              "      <td>AND</td>\n",
              "      <td>Andorra</td>\n",
              "      <td>Andorra</td>\n",
              "      <td>Principality of Andorra</td>\n",
              "      <td>AD</td>\n",
              "      <td>Euro</td>\n",
              "      <td>NaN</td>\n",
              "      <td>Europe &amp; Central Asia</td>\n",
              "      <td>High income: nonOECD</td>\n",
              "      <td>AD</td>\n",
              "      <td>1990</td>\n",
              "      <td>NaN</td>\n",
              "      <td>NaN</td>\n",
              "      <td>Country uses the 1968 System of National Accou...</td>\n",
              "      <td>NaN</td>\n",
              "      <td>NaN</td>\n",
              "      <td>NaN</td>\n",
              "      <td>Special trade system</td>\n",
              "      <td>NaN</td>\n",
              "      <td>NaN</td>\n",
              "      <td>2011. Population figures compiled from adminis...</td>\n",
              "      <td>NaN</td>\n",
              "      <td>NaN</td>\n",
              "      <td>Yes</td>\n",
              "      <td>NaN</td>\n",
              "      <td>NaN</td>\n",
              "      <td>2006.0</td>\n",
              "      <td>NaN</td>\n",
              "    </tr>\n",
              "  </tbody>\n",
              "</table>\n",
              "</div>"
            ],
            "text/plain": [
              "  Country Code   Short Name  ... Latest trade data Latest water withdrawal data\n",
              "0          ABW        Aruba  ...            2012.0                          NaN\n",
              "1          AFG  Afghanistan  ...            2012.0                         2000\n",
              "2          AGO       Angola  ...               NaN                         2005\n",
              "3          ALB      Albania  ...            2012.0                         2006\n",
              "4          AND      Andorra  ...            2006.0                          NaN\n",
              "\n",
              "[5 rows x 28 columns]"
            ]
          },
          "metadata": {
            "tags": []
          },
          "execution_count": 156
        }
      ]
    },
    {
      "cell_type": "markdown",
      "metadata": {
        "id": "RZiC_6Hh5anW"
      },
      "source": [
        "**Based on Income Group**"
      ]
    },
    {
      "cell_type": "code",
      "metadata": {
        "colab": {
          "base_uri": "https://localhost:8080/",
          "height": 1000
        },
        "id": "q2iIAFo0yGth",
        "outputId": "96457bca-a42c-4502-8e62-5fae36cf755b"
      },
      "source": [
        "df_country.loc[df_country['Income Group'].isna()]\r\n"
      ],
      "execution_count": 163,
      "outputs": [
        {
          "output_type": "execute_result",
          "data": {
            "text/html": [
              "<div>\n",
              "<style scoped>\n",
              "    .dataframe tbody tr th:only-of-type {\n",
              "        vertical-align: middle;\n",
              "    }\n",
              "\n",
              "    .dataframe tbody tr th {\n",
              "        vertical-align: top;\n",
              "    }\n",
              "\n",
              "    .dataframe thead th {\n",
              "        text-align: right;\n",
              "    }\n",
              "</style>\n",
              "<table border=\"1\" class=\"dataframe\">\n",
              "  <thead>\n",
              "    <tr style=\"text-align: right;\">\n",
              "      <th></th>\n",
              "      <th>Country Code</th>\n",
              "      <th>Short Name</th>\n",
              "      <th>Table Name</th>\n",
              "      <th>Long Name</th>\n",
              "      <th>2-alpha code</th>\n",
              "      <th>Currency Unit</th>\n",
              "      <th>Special Notes</th>\n",
              "      <th>Region</th>\n",
              "      <th>Income Group</th>\n",
              "      <th>WB-2 code</th>\n",
              "      <th>National accounts base year</th>\n",
              "      <th>SNA price valuation</th>\n",
              "      <th>Lending category</th>\n",
              "      <th>System of National Accounts</th>\n",
              "      <th>PPP survey year</th>\n",
              "      <th>Balance of Payments Manual in use</th>\n",
              "      <th>External debt Reporting status</th>\n",
              "      <th>System of trade</th>\n",
              "      <th>Government Accounting concept</th>\n",
              "      <th>IMF data dissemination standard</th>\n",
              "      <th>Latest population census</th>\n",
              "      <th>Latest household survey</th>\n",
              "      <th>Source of most recent Income and expenditure data</th>\n",
              "      <th>Vital registration complete</th>\n",
              "      <th>Latest agricultural census</th>\n",
              "      <th>Latest industrial data</th>\n",
              "      <th>Latest trade data</th>\n",
              "      <th>Latest water withdrawal data</th>\n",
              "    </tr>\n",
              "  </thead>\n",
              "  <tbody>\n",
              "    <tr>\n",
              "      <th>5</th>\n",
              "      <td>ARB</td>\n",
              "      <td>Arab World</td>\n",
              "      <td>Arab World</td>\n",
              "      <td>Arab World</td>\n",
              "      <td>1A</td>\n",
              "      <td>NaN</td>\n",
              "      <td>Arab World aggregate. Arab World is composed o...</td>\n",
              "      <td>NaN</td>\n",
              "      <td>NaN</td>\n",
              "      <td>1A</td>\n",
              "      <td>NaN</td>\n",
              "      <td>NaN</td>\n",
              "      <td>NaN</td>\n",
              "      <td>NaN</td>\n",
              "      <td>NaN</td>\n",
              "      <td>NaN</td>\n",
              "      <td>NaN</td>\n",
              "      <td>NaN</td>\n",
              "      <td>NaN</td>\n",
              "      <td>NaN</td>\n",
              "      <td>NaN</td>\n",
              "      <td>NaN</td>\n",
              "      <td>NaN</td>\n",
              "      <td>NaN</td>\n",
              "      <td>NaN</td>\n",
              "      <td>NaN</td>\n",
              "      <td>NaN</td>\n",
              "      <td>NaN</td>\n",
              "    </tr>\n",
              "    <tr>\n",
              "      <th>57</th>\n",
              "      <td>EAP</td>\n",
              "      <td>East Asia &amp; Pacific (developing only)</td>\n",
              "      <td>East Asia &amp; Pacific</td>\n",
              "      <td>East Asia &amp; Pacific (developing only)</td>\n",
              "      <td>4E</td>\n",
              "      <td>NaN</td>\n",
              "      <td>East Asia and Pacific regional aggregate (does...</td>\n",
              "      <td>NaN</td>\n",
              "      <td>NaN</td>\n",
              "      <td>4E</td>\n",
              "      <td>NaN</td>\n",
              "      <td>NaN</td>\n",
              "      <td>NaN</td>\n",
              "      <td>NaN</td>\n",
              "      <td>NaN</td>\n",
              "      <td>NaN</td>\n",
              "      <td>NaN</td>\n",
              "      <td>NaN</td>\n",
              "      <td>NaN</td>\n",
              "      <td>NaN</td>\n",
              "      <td>NaN</td>\n",
              "      <td>NaN</td>\n",
              "      <td>NaN</td>\n",
              "      <td>NaN</td>\n",
              "      <td>NaN</td>\n",
              "      <td>NaN</td>\n",
              "      <td>NaN</td>\n",
              "      <td>NaN</td>\n",
              "    </tr>\n",
              "    <tr>\n",
              "      <th>58</th>\n",
              "      <td>EAS</td>\n",
              "      <td>East Asia &amp; Pacific (all income levels)</td>\n",
              "      <td>East Asia &amp; Pacific (all income levels)</td>\n",
              "      <td>East Asia &amp; Pacific (all income levels)</td>\n",
              "      <td>Z4</td>\n",
              "      <td>NaN</td>\n",
              "      <td>East Asia and Pacific regional aggregate (incl...</td>\n",
              "      <td>NaN</td>\n",
              "      <td>NaN</td>\n",
              "      <td>Z4</td>\n",
              "      <td>NaN</td>\n",
              "      <td>NaN</td>\n",
              "      <td>NaN</td>\n",
              "      <td>NaN</td>\n",
              "      <td>NaN</td>\n",
              "      <td>NaN</td>\n",
              "      <td>NaN</td>\n",
              "      <td>NaN</td>\n",
              "      <td>NaN</td>\n",
              "      <td>NaN</td>\n",
              "      <td>NaN</td>\n",
              "      <td>NaN</td>\n",
              "      <td>NaN</td>\n",
              "      <td>NaN</td>\n",
              "      <td>NaN</td>\n",
              "      <td>NaN</td>\n",
              "      <td>NaN</td>\n",
              "      <td>NaN</td>\n",
              "    </tr>\n",
              "    <tr>\n",
              "      <th>59</th>\n",
              "      <td>ECA</td>\n",
              "      <td>Europe &amp; Central Asia (developing only)</td>\n",
              "      <td>Europe &amp; Central Asia</td>\n",
              "      <td>Europe &amp; Central Asia (developing only)</td>\n",
              "      <td>7E</td>\n",
              "      <td>NaN</td>\n",
              "      <td>Europe and Central Asia regional aggregate (do...</td>\n",
              "      <td>NaN</td>\n",
              "      <td>NaN</td>\n",
              "      <td>7E</td>\n",
              "      <td>NaN</td>\n",
              "      <td>NaN</td>\n",
              "      <td>NaN</td>\n",
              "      <td>NaN</td>\n",
              "      <td>NaN</td>\n",
              "      <td>NaN</td>\n",
              "      <td>NaN</td>\n",
              "      <td>NaN</td>\n",
              "      <td>NaN</td>\n",
              "      <td>NaN</td>\n",
              "      <td>NaN</td>\n",
              "      <td>NaN</td>\n",
              "      <td>NaN</td>\n",
              "      <td>NaN</td>\n",
              "      <td>NaN</td>\n",
              "      <td>NaN</td>\n",
              "      <td>NaN</td>\n",
              "      <td>NaN</td>\n",
              "    </tr>\n",
              "    <tr>\n",
              "      <th>60</th>\n",
              "      <td>ECS</td>\n",
              "      <td>Europe &amp; Central Asia (all income levels)</td>\n",
              "      <td>Europe &amp; Central Asia (all income levels)</td>\n",
              "      <td>Europe &amp; Central Asia (all income levels)</td>\n",
              "      <td>Z7</td>\n",
              "      <td>NaN</td>\n",
              "      <td>Europe and Central Asia regional aggregate (in...</td>\n",
              "      <td>NaN</td>\n",
              "      <td>NaN</td>\n",
              "      <td>Z7</td>\n",
              "      <td>NaN</td>\n",
              "      <td>NaN</td>\n",
              "      <td>NaN</td>\n",
              "      <td>NaN</td>\n",
              "      <td>NaN</td>\n",
              "      <td>NaN</td>\n",
              "      <td>NaN</td>\n",
              "      <td>NaN</td>\n",
              "      <td>NaN</td>\n",
              "      <td>NaN</td>\n",
              "      <td>NaN</td>\n",
              "      <td>NaN</td>\n",
              "      <td>NaN</td>\n",
              "      <td>NaN</td>\n",
              "      <td>NaN</td>\n",
              "      <td>NaN</td>\n",
              "      <td>NaN</td>\n",
              "      <td>NaN</td>\n",
              "    </tr>\n",
              "    <tr>\n",
              "      <th>63</th>\n",
              "      <td>EMU</td>\n",
              "      <td>Euro area</td>\n",
              "      <td>Euro area</td>\n",
              "      <td>Euro area</td>\n",
              "      <td>XC</td>\n",
              "      <td>NaN</td>\n",
              "      <td>Euro area aggregate.</td>\n",
              "      <td>NaN</td>\n",
              "      <td>NaN</td>\n",
              "      <td>XC</td>\n",
              "      <td>NaN</td>\n",
              "      <td>NaN</td>\n",
              "      <td>NaN</td>\n",
              "      <td>NaN</td>\n",
              "      <td>NaN</td>\n",
              "      <td>NaN</td>\n",
              "      <td>NaN</td>\n",
              "      <td>NaN</td>\n",
              "      <td>NaN</td>\n",
              "      <td>NaN</td>\n",
              "      <td>NaN</td>\n",
              "      <td>NaN</td>\n",
              "      <td>NaN</td>\n",
              "      <td>NaN</td>\n",
              "      <td>NaN</td>\n",
              "      <td>NaN</td>\n",
              "      <td>NaN</td>\n",
              "      <td>NaN</td>\n",
              "    </tr>\n",
              "    <tr>\n",
              "      <th>68</th>\n",
              "      <td>EUU</td>\n",
              "      <td>European Union</td>\n",
              "      <td>European Union</td>\n",
              "      <td>European Union</td>\n",
              "      <td>EU</td>\n",
              "      <td>NaN</td>\n",
              "      <td>European Union aggregate.</td>\n",
              "      <td>NaN</td>\n",
              "      <td>NaN</td>\n",
              "      <td>EU</td>\n",
              "      <td>NaN</td>\n",
              "      <td>NaN</td>\n",
              "      <td>NaN</td>\n",
              "      <td>NaN</td>\n",
              "      <td>NaN</td>\n",
              "      <td>NaN</td>\n",
              "      <td>NaN</td>\n",
              "      <td>NaN</td>\n",
              "      <td>NaN</td>\n",
              "      <td>NaN</td>\n",
              "      <td>NaN</td>\n",
              "      <td>NaN</td>\n",
              "      <td>NaN</td>\n",
              "      <td>NaN</td>\n",
              "      <td>NaN</td>\n",
              "      <td>NaN</td>\n",
              "      <td>NaN</td>\n",
              "      <td>NaN</td>\n",
              "    </tr>\n",
              "    <tr>\n",
              "      <th>78</th>\n",
              "      <td>GIB</td>\n",
              "      <td>Gibraltar</td>\n",
              "      <td>Gibraltar</td>\n",
              "      <td>Gibraltar</td>\n",
              "      <td>GI</td>\n",
              "      <td>Gibraltar pound</td>\n",
              "      <td>NaN</td>\n",
              "      <td>NaN</td>\n",
              "      <td>NaN</td>\n",
              "      <td>GI</td>\n",
              "      <td>NaN</td>\n",
              "      <td>NaN</td>\n",
              "      <td>NaN</td>\n",
              "      <td>Country uses the 1968 System of National Accou...</td>\n",
              "      <td>NaN</td>\n",
              "      <td>NaN</td>\n",
              "      <td>NaN</td>\n",
              "      <td>NaN</td>\n",
              "      <td>NaN</td>\n",
              "      <td>NaN</td>\n",
              "      <td>2012</td>\n",
              "      <td>NaN</td>\n",
              "      <td>NaN</td>\n",
              "      <td>NaN</td>\n",
              "      <td>NaN</td>\n",
              "      <td>NaN</td>\n",
              "      <td>NaN</td>\n",
              "      <td>NaN</td>\n",
              "    </tr>\n",
              "    <tr>\n",
              "      <th>89</th>\n",
              "      <td>HIC</td>\n",
              "      <td>High income</td>\n",
              "      <td>High income</td>\n",
              "      <td>High income</td>\n",
              "      <td>XD</td>\n",
              "      <td>NaN</td>\n",
              "      <td>High income group aggregate. High-income econo...</td>\n",
              "      <td>NaN</td>\n",
              "      <td>NaN</td>\n",
              "      <td>XD</td>\n",
              "      <td>NaN</td>\n",
              "      <td>NaN</td>\n",
              "      <td>NaN</td>\n",
              "      <td>NaN</td>\n",
              "      <td>NaN</td>\n",
              "      <td>NaN</td>\n",
              "      <td>NaN</td>\n",
              "      <td>NaN</td>\n",
              "      <td>NaN</td>\n",
              "      <td>NaN</td>\n",
              "      <td>NaN</td>\n",
              "      <td>NaN</td>\n",
              "      <td>NaN</td>\n",
              "      <td>NaN</td>\n",
              "      <td>NaN</td>\n",
              "      <td>NaN</td>\n",
              "      <td>NaN</td>\n",
              "      <td>NaN</td>\n",
              "    </tr>\n",
              "    <tr>\n",
              "      <th>92</th>\n",
              "      <td>HPC</td>\n",
              "      <td>Heavily indebted poor countries (HIPC)</td>\n",
              "      <td>Heavily indebted poor countries (HIPC)</td>\n",
              "      <td>Heavily indebted poor countries (HIPC)</td>\n",
              "      <td>XE</td>\n",
              "      <td>NaN</td>\n",
              "      <td>Heavily indebted poor countries aggregate.</td>\n",
              "      <td>NaN</td>\n",
              "      <td>NaN</td>\n",
              "      <td>XE</td>\n",
              "      <td>NaN</td>\n",
              "      <td>NaN</td>\n",
              "      <td>NaN</td>\n",
              "      <td>NaN</td>\n",
              "      <td>NaN</td>\n",
              "      <td>NaN</td>\n",
              "      <td>NaN</td>\n",
              "      <td>NaN</td>\n",
              "      <td>NaN</td>\n",
              "      <td>NaN</td>\n",
              "      <td>NaN</td>\n",
              "      <td>NaN</td>\n",
              "      <td>NaN</td>\n",
              "      <td>NaN</td>\n",
              "      <td>NaN</td>\n",
              "      <td>NaN</td>\n",
              "      <td>NaN</td>\n",
              "      <td>NaN</td>\n",
              "    </tr>\n",
              "    <tr>\n",
              "      <th>116</th>\n",
              "      <td>LAC</td>\n",
              "      <td>Latin America &amp; Caribbean (developing only)</td>\n",
              "      <td>Latin America &amp; Caribbean</td>\n",
              "      <td>Latin America &amp; Caribbean (developing only)</td>\n",
              "      <td>XJ</td>\n",
              "      <td>NaN</td>\n",
              "      <td>Latin America and Caribbean regional aggregate...</td>\n",
              "      <td>NaN</td>\n",
              "      <td>NaN</td>\n",
              "      <td>XJ</td>\n",
              "      <td>NaN</td>\n",
              "      <td>NaN</td>\n",
              "      <td>NaN</td>\n",
              "      <td>NaN</td>\n",
              "      <td>NaN</td>\n",
              "      <td>NaN</td>\n",
              "      <td>NaN</td>\n",
              "      <td>NaN</td>\n",
              "      <td>NaN</td>\n",
              "      <td>NaN</td>\n",
              "      <td>NaN</td>\n",
              "      <td>NaN</td>\n",
              "      <td>NaN</td>\n",
              "      <td>NaN</td>\n",
              "      <td>NaN</td>\n",
              "      <td>NaN</td>\n",
              "      <td>NaN</td>\n",
              "      <td>NaN</td>\n",
              "    </tr>\n",
              "    <tr>\n",
              "      <th>122</th>\n",
              "      <td>LCN</td>\n",
              "      <td>Latin America &amp; Caribbean (all income levels)</td>\n",
              "      <td>Latin America &amp; Caribbean (all income levels)</td>\n",
              "      <td>Latin America &amp; Caribbean (all income levels)</td>\n",
              "      <td>ZJ</td>\n",
              "      <td>NaN</td>\n",
              "      <td>Latin America and Caribbean regional aggregate...</td>\n",
              "      <td>NaN</td>\n",
              "      <td>NaN</td>\n",
              "      <td>ZJ</td>\n",
              "      <td>NaN</td>\n",
              "      <td>NaN</td>\n",
              "      <td>NaN</td>\n",
              "      <td>NaN</td>\n",
              "      <td>NaN</td>\n",
              "      <td>NaN</td>\n",
              "      <td>NaN</td>\n",
              "      <td>NaN</td>\n",
              "      <td>NaN</td>\n",
              "      <td>NaN</td>\n",
              "      <td>NaN</td>\n",
              "      <td>NaN</td>\n",
              "      <td>NaN</td>\n",
              "      <td>NaN</td>\n",
              "      <td>NaN</td>\n",
              "      <td>NaN</td>\n",
              "      <td>NaN</td>\n",
              "      <td>NaN</td>\n",
              "    </tr>\n",
              "    <tr>\n",
              "      <th>123</th>\n",
              "      <td>LDC</td>\n",
              "      <td>Least developed countries: UN classification</td>\n",
              "      <td>Least developed countries: UN classification</td>\n",
              "      <td>Least developed countries: UN classification</td>\n",
              "      <td>XL</td>\n",
              "      <td>NaN</td>\n",
              "      <td>Least developed countries (UN classification) ...</td>\n",
              "      <td>NaN</td>\n",
              "      <td>NaN</td>\n",
              "      <td>XL</td>\n",
              "      <td>NaN</td>\n",
              "      <td>NaN</td>\n",
              "      <td>NaN</td>\n",
              "      <td>NaN</td>\n",
              "      <td>NaN</td>\n",
              "      <td>NaN</td>\n",
              "      <td>NaN</td>\n",
              "      <td>NaN</td>\n",
              "      <td>NaN</td>\n",
              "      <td>NaN</td>\n",
              "      <td>NaN</td>\n",
              "      <td>NaN</td>\n",
              "      <td>NaN</td>\n",
              "      <td>NaN</td>\n",
              "      <td>NaN</td>\n",
              "      <td>NaN</td>\n",
              "      <td>NaN</td>\n",
              "      <td>NaN</td>\n",
              "    </tr>\n",
              "    <tr>\n",
              "      <th>124</th>\n",
              "      <td>LIC</td>\n",
              "      <td>Low income</td>\n",
              "      <td>Low income</td>\n",
              "      <td>Low income</td>\n",
              "      <td>XM</td>\n",
              "      <td>NaN</td>\n",
              "      <td>Low income group aggregate. Low-income economi...</td>\n",
              "      <td>NaN</td>\n",
              "      <td>NaN</td>\n",
              "      <td>XM</td>\n",
              "      <td>NaN</td>\n",
              "      <td>NaN</td>\n",
              "      <td>NaN</td>\n",
              "      <td>NaN</td>\n",
              "      <td>NaN</td>\n",
              "      <td>NaN</td>\n",
              "      <td>NaN</td>\n",
              "      <td>NaN</td>\n",
              "      <td>NaN</td>\n",
              "      <td>NaN</td>\n",
              "      <td>NaN</td>\n",
              "      <td>NaN</td>\n",
              "      <td>NaN</td>\n",
              "      <td>NaN</td>\n",
              "      <td>NaN</td>\n",
              "      <td>NaN</td>\n",
              "      <td>NaN</td>\n",
              "      <td>NaN</td>\n",
              "    </tr>\n",
              "    <tr>\n",
              "      <th>127</th>\n",
              "      <td>LMC</td>\n",
              "      <td>Lower middle income</td>\n",
              "      <td>Lower middle income</td>\n",
              "      <td>Lower middle income</td>\n",
              "      <td>XN</td>\n",
              "      <td>NaN</td>\n",
              "      <td>Lower middle income group aggregate. Lower-mid...</td>\n",
              "      <td>NaN</td>\n",
              "      <td>NaN</td>\n",
              "      <td>XN</td>\n",
              "      <td>NaN</td>\n",
              "      <td>NaN</td>\n",
              "      <td>NaN</td>\n",
              "      <td>NaN</td>\n",
              "      <td>NaN</td>\n",
              "      <td>NaN</td>\n",
              "      <td>NaN</td>\n",
              "      <td>NaN</td>\n",
              "      <td>NaN</td>\n",
              "      <td>NaN</td>\n",
              "      <td>NaN</td>\n",
              "      <td>NaN</td>\n",
              "      <td>NaN</td>\n",
              "      <td>NaN</td>\n",
              "      <td>NaN</td>\n",
              "      <td>NaN</td>\n",
              "      <td>NaN</td>\n",
              "      <td>NaN</td>\n",
              "    </tr>\n",
              "    <tr>\n",
              "      <th>128</th>\n",
              "      <td>LMY</td>\n",
              "      <td>Low &amp; middle income</td>\n",
              "      <td>Low &amp; middle income</td>\n",
              "      <td>Low &amp; middle income</td>\n",
              "      <td>XO</td>\n",
              "      <td>NaN</td>\n",
              "      <td>Low and middle income group aggregate (all dev...</td>\n",
              "      <td>NaN</td>\n",
              "      <td>NaN</td>\n",
              "      <td>XO</td>\n",
              "      <td>NaN</td>\n",
              "      <td>NaN</td>\n",
              "      <td>NaN</td>\n",
              "      <td>NaN</td>\n",
              "      <td>NaN</td>\n",
              "      <td>NaN</td>\n",
              "      <td>NaN</td>\n",
              "      <td>NaN</td>\n",
              "      <td>NaN</td>\n",
              "      <td>NaN</td>\n",
              "      <td>NaN</td>\n",
              "      <td>NaN</td>\n",
              "      <td>NaN</td>\n",
              "      <td>NaN</td>\n",
              "      <td>NaN</td>\n",
              "      <td>NaN</td>\n",
              "      <td>NaN</td>\n",
              "      <td>NaN</td>\n",
              "    </tr>\n",
              "    <tr>\n",
              "      <th>140</th>\n",
              "      <td>MEA</td>\n",
              "      <td>Middle East &amp; North Africa (all income levels)</td>\n",
              "      <td>Middle East &amp; North Africa (all income levels)</td>\n",
              "      <td>Middle East &amp; North Africa (all income levels)</td>\n",
              "      <td>ZQ</td>\n",
              "      <td>NaN</td>\n",
              "      <td>Middle East and North Africa regional aggregat...</td>\n",
              "      <td>NaN</td>\n",
              "      <td>NaN</td>\n",
              "      <td>ZQ</td>\n",
              "      <td>NaN</td>\n",
              "      <td>NaN</td>\n",
              "      <td>NaN</td>\n",
              "      <td>NaN</td>\n",
              "      <td>NaN</td>\n",
              "      <td>NaN</td>\n",
              "      <td>NaN</td>\n",
              "      <td>NaN</td>\n",
              "      <td>NaN</td>\n",
              "      <td>NaN</td>\n",
              "      <td>NaN</td>\n",
              "      <td>NaN</td>\n",
              "      <td>NaN</td>\n",
              "      <td>NaN</td>\n",
              "      <td>NaN</td>\n",
              "      <td>NaN</td>\n",
              "      <td>NaN</td>\n",
              "      <td>NaN</td>\n",
              "    </tr>\n",
              "    <tr>\n",
              "      <th>143</th>\n",
              "      <td>MIC</td>\n",
              "      <td>Middle income</td>\n",
              "      <td>Middle income</td>\n",
              "      <td>Middle income</td>\n",
              "      <td>XP</td>\n",
              "      <td>NaN</td>\n",
              "      <td>Middle income group aggregate. Middle-income e...</td>\n",
              "      <td>NaN</td>\n",
              "      <td>NaN</td>\n",
              "      <td>XP</td>\n",
              "      <td>NaN</td>\n",
              "      <td>NaN</td>\n",
              "      <td>NaN</td>\n",
              "      <td>NaN</td>\n",
              "      <td>NaN</td>\n",
              "      <td>NaN</td>\n",
              "      <td>NaN</td>\n",
              "      <td>NaN</td>\n",
              "      <td>NaN</td>\n",
              "      <td>NaN</td>\n",
              "      <td>NaN</td>\n",
              "      <td>NaN</td>\n",
              "      <td>NaN</td>\n",
              "      <td>NaN</td>\n",
              "      <td>NaN</td>\n",
              "      <td>NaN</td>\n",
              "      <td>NaN</td>\n",
              "      <td>NaN</td>\n",
              "    </tr>\n",
              "    <tr>\n",
              "      <th>148</th>\n",
              "      <td>MNA</td>\n",
              "      <td>Middle East &amp; North Africa (developing only)</td>\n",
              "      <td>Middle East &amp; North Africa</td>\n",
              "      <td>Middle East &amp; North Africa (developing only)</td>\n",
              "      <td>XQ</td>\n",
              "      <td>NaN</td>\n",
              "      <td>Middle East and North Africa regional aggregat...</td>\n",
              "      <td>NaN</td>\n",
              "      <td>NaN</td>\n",
              "      <td>XQ</td>\n",
              "      <td>NaN</td>\n",
              "      <td>NaN</td>\n",
              "      <td>NaN</td>\n",
              "      <td>NaN</td>\n",
              "      <td>NaN</td>\n",
              "      <td>NaN</td>\n",
              "      <td>NaN</td>\n",
              "      <td>NaN</td>\n",
              "      <td>NaN</td>\n",
              "      <td>NaN</td>\n",
              "      <td>NaN</td>\n",
              "      <td>NaN</td>\n",
              "      <td>NaN</td>\n",
              "      <td>NaN</td>\n",
              "      <td>NaN</td>\n",
              "      <td>NaN</td>\n",
              "      <td>NaN</td>\n",
              "      <td>NaN</td>\n",
              "    </tr>\n",
              "    <tr>\n",
              "      <th>157</th>\n",
              "      <td>NAC</td>\n",
              "      <td>North America</td>\n",
              "      <td>North America</td>\n",
              "      <td>North America</td>\n",
              "      <td>XU</td>\n",
              "      <td>NaN</td>\n",
              "      <td>North America regional aggregate. There are no...</td>\n",
              "      <td>NaN</td>\n",
              "      <td>NaN</td>\n",
              "      <td>XU</td>\n",
              "      <td>NaN</td>\n",
              "      <td>NaN</td>\n",
              "      <td>NaN</td>\n",
              "      <td>NaN</td>\n",
              "      <td>NaN</td>\n",
              "      <td>NaN</td>\n",
              "      <td>NaN</td>\n",
              "      <td>NaN</td>\n",
              "      <td>NaN</td>\n",
              "      <td>NaN</td>\n",
              "      <td>NaN</td>\n",
              "      <td>NaN</td>\n",
              "      <td>NaN</td>\n",
              "      <td>NaN</td>\n",
              "      <td>NaN</td>\n",
              "      <td>NaN</td>\n",
              "      <td>NaN</td>\n",
              "      <td>NaN</td>\n",
              "    </tr>\n",
              "    <tr>\n",
              "      <th>166</th>\n",
              "      <td>NRU</td>\n",
              "      <td>Nauru</td>\n",
              "      <td>Nauru</td>\n",
              "      <td>Nauru</td>\n",
              "      <td>NR</td>\n",
              "      <td>NaN</td>\n",
              "      <td>NaN</td>\n",
              "      <td>NaN</td>\n",
              "      <td>NaN</td>\n",
              "      <td>NR</td>\n",
              "      <td>NaN</td>\n",
              "      <td>NaN</td>\n",
              "      <td>NaN</td>\n",
              "      <td>NaN</td>\n",
              "      <td>NaN</td>\n",
              "      <td>NaN</td>\n",
              "      <td>NaN</td>\n",
              "      <td>NaN</td>\n",
              "      <td>NaN</td>\n",
              "      <td>NaN</td>\n",
              "      <td>NaN</td>\n",
              "      <td>NaN</td>\n",
              "      <td>NaN</td>\n",
              "      <td>NaN</td>\n",
              "      <td>NaN</td>\n",
              "      <td>NaN</td>\n",
              "      <td>NaN</td>\n",
              "      <td>NaN</td>\n",
              "    </tr>\n",
              "    <tr>\n",
              "      <th>168</th>\n",
              "      <td>OED</td>\n",
              "      <td>OECD members</td>\n",
              "      <td>OECD members</td>\n",
              "      <td>OECD members</td>\n",
              "      <td>OE</td>\n",
              "      <td>NaN</td>\n",
              "      <td>OECD members aggregate (all, including develop...</td>\n",
              "      <td>NaN</td>\n",
              "      <td>NaN</td>\n",
              "      <td>OE</td>\n",
              "      <td>NaN</td>\n",
              "      <td>NaN</td>\n",
              "      <td>NaN</td>\n",
              "      <td>NaN</td>\n",
              "      <td>NaN</td>\n",
              "      <td>NaN</td>\n",
              "      <td>NaN</td>\n",
              "      <td>NaN</td>\n",
              "      <td>NaN</td>\n",
              "      <td>NaN</td>\n",
              "      <td>NaN</td>\n",
              "      <td>NaN</td>\n",
              "      <td>NaN</td>\n",
              "      <td>NaN</td>\n",
              "      <td>NaN</td>\n",
              "      <td>NaN</td>\n",
              "      <td>NaN</td>\n",
              "      <td>NaN</td>\n",
              "    </tr>\n",
              "    <tr>\n",
              "      <th>187</th>\n",
              "      <td>SAS</td>\n",
              "      <td>South Asia</td>\n",
              "      <td>South Asia</td>\n",
              "      <td>South Asia</td>\n",
              "      <td>8S</td>\n",
              "      <td>NaN</td>\n",
              "      <td>South Asia regional aggregate. There are no ec...</td>\n",
              "      <td>NaN</td>\n",
              "      <td>NaN</td>\n",
              "      <td>8S</td>\n",
              "      <td>NaN</td>\n",
              "      <td>NaN</td>\n",
              "      <td>NaN</td>\n",
              "      <td>NaN</td>\n",
              "      <td>NaN</td>\n",
              "      <td>NaN</td>\n",
              "      <td>NaN</td>\n",
              "      <td>NaN</td>\n",
              "      <td>NaN</td>\n",
              "      <td>NaN</td>\n",
              "      <td>NaN</td>\n",
              "      <td>NaN</td>\n",
              "      <td>NaN</td>\n",
              "      <td>NaN</td>\n",
              "      <td>NaN</td>\n",
              "      <td>NaN</td>\n",
              "      <td>NaN</td>\n",
              "      <td>NaN</td>\n",
              "    </tr>\n",
              "    <tr>\n",
              "      <th>198</th>\n",
              "      <td>SSA</td>\n",
              "      <td>Sub-Saharan Africa (developing only)</td>\n",
              "      <td>Sub-Saharan Africa</td>\n",
              "      <td>Sub-Saharan Africa (developing only)</td>\n",
              "      <td>ZF</td>\n",
              "      <td>NaN</td>\n",
              "      <td>Sub-Saharan Africa regional aggregate (does no...</td>\n",
              "      <td>NaN</td>\n",
              "      <td>NaN</td>\n",
              "      <td>ZF</td>\n",
              "      <td>NaN</td>\n",
              "      <td>NaN</td>\n",
              "      <td>NaN</td>\n",
              "      <td>NaN</td>\n",
              "      <td>NaN</td>\n",
              "      <td>NaN</td>\n",
              "      <td>NaN</td>\n",
              "      <td>NaN</td>\n",
              "      <td>NaN</td>\n",
              "      <td>NaN</td>\n",
              "      <td>NaN</td>\n",
              "      <td>NaN</td>\n",
              "      <td>NaN</td>\n",
              "      <td>NaN</td>\n",
              "      <td>NaN</td>\n",
              "      <td>NaN</td>\n",
              "      <td>NaN</td>\n",
              "      <td>NaN</td>\n",
              "    </tr>\n",
              "    <tr>\n",
              "      <th>200</th>\n",
              "      <td>SSF</td>\n",
              "      <td>Sub-Saharan Africa (all income levels)</td>\n",
              "      <td>Sub-Saharan Africa (all income levels)</td>\n",
              "      <td>Sub-Saharan Africa (all income levels)</td>\n",
              "      <td>ZG</td>\n",
              "      <td>NaN</td>\n",
              "      <td>Sub-Saharan Africa regional aggregate (includi...</td>\n",
              "      <td>NaN</td>\n",
              "      <td>NaN</td>\n",
              "      <td>ZG</td>\n",
              "      <td>NaN</td>\n",
              "      <td>NaN</td>\n",
              "      <td>NaN</td>\n",
              "      <td>NaN</td>\n",
              "      <td>NaN</td>\n",
              "      <td>NaN</td>\n",
              "      <td>NaN</td>\n",
              "      <td>NaN</td>\n",
              "      <td>NaN</td>\n",
              "      <td>NaN</td>\n",
              "      <td>NaN</td>\n",
              "      <td>NaN</td>\n",
              "      <td>NaN</td>\n",
              "      <td>NaN</td>\n",
              "      <td>NaN</td>\n",
              "      <td>NaN</td>\n",
              "      <td>NaN</td>\n",
              "      <td>NaN</td>\n",
              "    </tr>\n",
              "    <tr>\n",
              "      <th>225</th>\n",
              "      <td>UMC</td>\n",
              "      <td>Upper middle income</td>\n",
              "      <td>Upper middle income</td>\n",
              "      <td>Upper middle income</td>\n",
              "      <td>XT</td>\n",
              "      <td>NaN</td>\n",
              "      <td>Upper middle income group aggregate. Upper-mid...</td>\n",
              "      <td>NaN</td>\n",
              "      <td>NaN</td>\n",
              "      <td>XT</td>\n",
              "      <td>NaN</td>\n",
              "      <td>NaN</td>\n",
              "      <td>NaN</td>\n",
              "      <td>NaN</td>\n",
              "      <td>NaN</td>\n",
              "      <td>NaN</td>\n",
              "      <td>NaN</td>\n",
              "      <td>NaN</td>\n",
              "      <td>NaN</td>\n",
              "      <td>NaN</td>\n",
              "      <td>NaN</td>\n",
              "      <td>NaN</td>\n",
              "      <td>NaN</td>\n",
              "      <td>NaN</td>\n",
              "      <td>NaN</td>\n",
              "      <td>NaN</td>\n",
              "      <td>NaN</td>\n",
              "      <td>NaN</td>\n",
              "    </tr>\n",
              "    <tr>\n",
              "      <th>234</th>\n",
              "      <td>WLD</td>\n",
              "      <td>World</td>\n",
              "      <td>World</td>\n",
              "      <td>World</td>\n",
              "      <td>1W</td>\n",
              "      <td>NaN</td>\n",
              "      <td>World aggregate.</td>\n",
              "      <td>NaN</td>\n",
              "      <td>NaN</td>\n",
              "      <td>1W</td>\n",
              "      <td>NaN</td>\n",
              "      <td>NaN</td>\n",
              "      <td>NaN</td>\n",
              "      <td>NaN</td>\n",
              "      <td>NaN</td>\n",
              "      <td>NaN</td>\n",
              "      <td>NaN</td>\n",
              "      <td>NaN</td>\n",
              "      <td>NaN</td>\n",
              "      <td>NaN</td>\n",
              "      <td>NaN</td>\n",
              "      <td>NaN</td>\n",
              "      <td>NaN</td>\n",
              "      <td>NaN</td>\n",
              "      <td>NaN</td>\n",
              "      <td>NaN</td>\n",
              "      <td>NaN</td>\n",
              "      <td>NaN</td>\n",
              "    </tr>\n",
              "  </tbody>\n",
              "</table>\n",
              "</div>"
            ],
            "text/plain": [
              "    Country Code  ... Latest water withdrawal data\n",
              "5            ARB  ...                          NaN\n",
              "57           EAP  ...                          NaN\n",
              "58           EAS  ...                          NaN\n",
              "59           ECA  ...                          NaN\n",
              "60           ECS  ...                          NaN\n",
              "63           EMU  ...                          NaN\n",
              "68           EUU  ...                          NaN\n",
              "78           GIB  ...                          NaN\n",
              "89           HIC  ...                          NaN\n",
              "92           HPC  ...                          NaN\n",
              "116          LAC  ...                          NaN\n",
              "122          LCN  ...                          NaN\n",
              "123          LDC  ...                          NaN\n",
              "124          LIC  ...                          NaN\n",
              "127          LMC  ...                          NaN\n",
              "128          LMY  ...                          NaN\n",
              "140          MEA  ...                          NaN\n",
              "143          MIC  ...                          NaN\n",
              "148          MNA  ...                          NaN\n",
              "157          NAC  ...                          NaN\n",
              "166          NRU  ...                          NaN\n",
              "168          OED  ...                          NaN\n",
              "187          SAS  ...                          NaN\n",
              "198          SSA  ...                          NaN\n",
              "200          SSF  ...                          NaN\n",
              "225          UMC  ...                          NaN\n",
              "234          WLD  ...                          NaN\n",
              "\n",
              "[27 rows x 28 columns]"
            ]
          },
          "metadata": {
            "tags": []
          },
          "execution_count": 163
        }
      ]
    },
    {
      "cell_type": "code",
      "metadata": {
        "colab": {
          "base_uri": "https://localhost:8080/"
        },
        "id": "elSNZFHPyZW3",
        "outputId": "717dd851-a290-4a31-b217-2f68373c4edb"
      },
      "source": [
        "df_country['Income Group'].unique()"
      ],
      "execution_count": 47,
      "outputs": [
        {
          "output_type": "execute_result",
          "data": {
            "text/plain": [
              "array(['High income: nonOECD', 'Low income', 'Upper middle income', nan,\n",
              "       'Lower middle income', 'High income: OECD'], dtype=object)"
            ]
          },
          "metadata": {
            "tags": []
          },
          "execution_count": 47
        }
      ]
    },
    {
      "cell_type": "code",
      "metadata": {
        "id": "xWysUV5rybYZ"
      },
      "source": [
        "low_income_df = df_country[df_country['Income Group'] == 'Low income']"
      ],
      "execution_count": 43,
      "outputs": []
    },
    {
      "cell_type": "code",
      "metadata": {
        "colab": {
          "base_uri": "https://localhost:8080/",
          "height": 819
        },
        "id": "8ddICbH64wxC",
        "outputId": "bbe6250a-7792-4f7c-c91f-32648e678e79"
      },
      "source": [
        "low_income_df.head()"
      ],
      "execution_count": 56,
      "outputs": [
        {
          "output_type": "execute_result",
          "data": {
            "text/html": [
              "<div>\n",
              "<style scoped>\n",
              "    .dataframe tbody tr th:only-of-type {\n",
              "        vertical-align: middle;\n",
              "    }\n",
              "\n",
              "    .dataframe tbody tr th {\n",
              "        vertical-align: top;\n",
              "    }\n",
              "\n",
              "    .dataframe thead th {\n",
              "        text-align: right;\n",
              "    }\n",
              "</style>\n",
              "<table border=\"1\" class=\"dataframe\">\n",
              "  <thead>\n",
              "    <tr style=\"text-align: right;\">\n",
              "      <th></th>\n",
              "      <th>Country Code</th>\n",
              "      <th>Short Name</th>\n",
              "      <th>Table Name</th>\n",
              "      <th>Long Name</th>\n",
              "      <th>2-alpha code</th>\n",
              "      <th>Currency Unit</th>\n",
              "      <th>Special Notes</th>\n",
              "      <th>Region</th>\n",
              "      <th>Income Group</th>\n",
              "      <th>WB-2 code</th>\n",
              "      <th>National accounts base year</th>\n",
              "      <th>National accounts reference year</th>\n",
              "      <th>SNA price valuation</th>\n",
              "      <th>Lending category</th>\n",
              "      <th>Other groups</th>\n",
              "      <th>System of National Accounts</th>\n",
              "      <th>Alternative conversion factor</th>\n",
              "      <th>PPP survey year</th>\n",
              "      <th>Balance of Payments Manual in use</th>\n",
              "      <th>External debt Reporting status</th>\n",
              "      <th>System of trade</th>\n",
              "      <th>Government Accounting concept</th>\n",
              "      <th>IMF data dissemination standard</th>\n",
              "      <th>Latest population census</th>\n",
              "      <th>Latest household survey</th>\n",
              "      <th>Source of most recent Income and expenditure data</th>\n",
              "      <th>Vital registration complete</th>\n",
              "      <th>Latest agricultural census</th>\n",
              "      <th>Latest industrial data</th>\n",
              "      <th>Latest trade data</th>\n",
              "      <th>Latest water withdrawal data</th>\n",
              "      <th>Unnamed: 31</th>\n",
              "    </tr>\n",
              "  </thead>\n",
              "  <tbody>\n",
              "    <tr>\n",
              "      <th>1</th>\n",
              "      <td>AFG</td>\n",
              "      <td>Afghanistan</td>\n",
              "      <td>Afghanistan</td>\n",
              "      <td>Islamic State of Afghanistan</td>\n",
              "      <td>AF</td>\n",
              "      <td>Afghan afghani</td>\n",
              "      <td>Fiscal year end: March 20; reporting period fo...</td>\n",
              "      <td>South Asia</td>\n",
              "      <td>Low income</td>\n",
              "      <td>AF</td>\n",
              "      <td>2002/03</td>\n",
              "      <td>NaN</td>\n",
              "      <td>Value added at basic prices (VAB)</td>\n",
              "      <td>IDA</td>\n",
              "      <td>HIPC</td>\n",
              "      <td>Country uses the 1993 System of National Accou...</td>\n",
              "      <td>NaN</td>\n",
              "      <td>NaN</td>\n",
              "      <td>NaN</td>\n",
              "      <td>Actual</td>\n",
              "      <td>General trade system</td>\n",
              "      <td>Consolidated central government</td>\n",
              "      <td>General Data Dissemination System (GDDS)</td>\n",
              "      <td>1979</td>\n",
              "      <td>Multiple Indicator Cluster Survey (MICS), 2010/11</td>\n",
              "      <td>Integrated household survey (IHS), 2008</td>\n",
              "      <td>NaN</td>\n",
              "      <td>2013/14</td>\n",
              "      <td>NaN</td>\n",
              "      <td>2012.0</td>\n",
              "      <td>2000</td>\n",
              "      <td>NaN</td>\n",
              "    </tr>\n",
              "    <tr>\n",
              "      <th>14</th>\n",
              "      <td>BDI</td>\n",
              "      <td>Burundi</td>\n",
              "      <td>Burundi</td>\n",
              "      <td>Republic of Burundi</td>\n",
              "      <td>BI</td>\n",
              "      <td>Burundi franc</td>\n",
              "      <td>NaN</td>\n",
              "      <td>Sub-Saharan Africa</td>\n",
              "      <td>Low income</td>\n",
              "      <td>BI</td>\n",
              "      <td>2005</td>\n",
              "      <td>NaN</td>\n",
              "      <td>Value added at basic prices (VAB)</td>\n",
              "      <td>IDA</td>\n",
              "      <td>HIPC</td>\n",
              "      <td>Country uses the 1993 System of National Accou...</td>\n",
              "      <td>NaN</td>\n",
              "      <td>2005</td>\n",
              "      <td>IMF Balance of Payments Manual, 6th edition.</td>\n",
              "      <td>Actual</td>\n",
              "      <td>Special trade system</td>\n",
              "      <td>Consolidated central government</td>\n",
              "      <td>General Data Dissemination System (GDDS)</td>\n",
              "      <td>2008</td>\n",
              "      <td>Malaria Indicator Survey (MIS), 2012</td>\n",
              "      <td>Core Welfare Indicator Questionnaire Survey (C...</td>\n",
              "      <td>NaN</td>\n",
              "      <td>NaN</td>\n",
              "      <td>NaN</td>\n",
              "      <td>2012.0</td>\n",
              "      <td>2000</td>\n",
              "      <td>NaN</td>\n",
              "    </tr>\n",
              "    <tr>\n",
              "      <th>16</th>\n",
              "      <td>BEN</td>\n",
              "      <td>Benin</td>\n",
              "      <td>Benin</td>\n",
              "      <td>Republic of Benin</td>\n",
              "      <td>BJ</td>\n",
              "      <td>CFA franc</td>\n",
              "      <td>NaN</td>\n",
              "      <td>Sub-Saharan Africa</td>\n",
              "      <td>Low income</td>\n",
              "      <td>BJ</td>\n",
              "      <td>1985</td>\n",
              "      <td>NaN</td>\n",
              "      <td>Value added at producer prices (VAP)</td>\n",
              "      <td>IDA</td>\n",
              "      <td>HIPC</td>\n",
              "      <td>Country uses the 1968 System of National Accou...</td>\n",
              "      <td>1992</td>\n",
              "      <td>2005</td>\n",
              "      <td>IMF Balance of Payments Manual, 6th edition.</td>\n",
              "      <td>Actual</td>\n",
              "      <td>Special trade system</td>\n",
              "      <td>Budgetary central government</td>\n",
              "      <td>General Data Dissemination System (GDDS)</td>\n",
              "      <td>2013</td>\n",
              "      <td>Demographic and Health Survey (DHS), 2011/12</td>\n",
              "      <td>Core Welfare Indicator Questionnaire Survey (C...</td>\n",
              "      <td>NaN</td>\n",
              "      <td>2011/12</td>\n",
              "      <td>NaN</td>\n",
              "      <td>2010.0</td>\n",
              "      <td>2001</td>\n",
              "      <td>NaN</td>\n",
              "    </tr>\n",
              "    <tr>\n",
              "      <th>17</th>\n",
              "      <td>BFA</td>\n",
              "      <td>Burkina Faso</td>\n",
              "      <td>Burkina Faso</td>\n",
              "      <td>Burkina Faso</td>\n",
              "      <td>BF</td>\n",
              "      <td>CFA franc</td>\n",
              "      <td>NaN</td>\n",
              "      <td>Sub-Saharan Africa</td>\n",
              "      <td>Low income</td>\n",
              "      <td>BF</td>\n",
              "      <td>1999</td>\n",
              "      <td>NaN</td>\n",
              "      <td>Value added at basic prices (VAB)</td>\n",
              "      <td>IDA</td>\n",
              "      <td>HIPC</td>\n",
              "      <td>Country uses the 1993 System of National Accou...</td>\n",
              "      <td>1992–93</td>\n",
              "      <td>2005</td>\n",
              "      <td>IMF Balance of Payments Manual, 6th edition.</td>\n",
              "      <td>Actual</td>\n",
              "      <td>General trade system</td>\n",
              "      <td>Budgetary central government</td>\n",
              "      <td>General Data Dissemination System (GDDS)</td>\n",
              "      <td>2006</td>\n",
              "      <td>Demographic and Health Survey (DHS), 2010</td>\n",
              "      <td>Core Welfare Indicator Questionnaire Survey (C...</td>\n",
              "      <td>NaN</td>\n",
              "      <td>2010</td>\n",
              "      <td>NaN</td>\n",
              "      <td>2011.0</td>\n",
              "      <td>2001</td>\n",
              "      <td>NaN</td>\n",
              "    </tr>\n",
              "    <tr>\n",
              "      <th>18</th>\n",
              "      <td>BGD</td>\n",
              "      <td>Bangladesh</td>\n",
              "      <td>Bangladesh</td>\n",
              "      <td>People's Republic of Bangladesh</td>\n",
              "      <td>BD</td>\n",
              "      <td>Bangladeshi taka</td>\n",
              "      <td>Fiscal year end: June 30; reporting period for...</td>\n",
              "      <td>South Asia</td>\n",
              "      <td>Low income</td>\n",
              "      <td>BD</td>\n",
              "      <td>1995/96</td>\n",
              "      <td>NaN</td>\n",
              "      <td>Value added at basic prices (VAB)</td>\n",
              "      <td>IDA</td>\n",
              "      <td>NaN</td>\n",
              "      <td>Country uses the 1993 System of National Accou...</td>\n",
              "      <td>NaN</td>\n",
              "      <td>2005</td>\n",
              "      <td>IMF Balance of Payments Manual, 6th edition.</td>\n",
              "      <td>Actual</td>\n",
              "      <td>General trade system</td>\n",
              "      <td>Consolidated central government</td>\n",
              "      <td>General Data Dissemination System (GDDS)</td>\n",
              "      <td>2011</td>\n",
              "      <td>Demographic and Health Survey (DHS), 2011</td>\n",
              "      <td>Integrated household survey (IHS), 2010</td>\n",
              "      <td>NaN</td>\n",
              "      <td>2008</td>\n",
              "      <td>NaN</td>\n",
              "      <td>2007.0</td>\n",
              "      <td>2008</td>\n",
              "      <td>NaN</td>\n",
              "    </tr>\n",
              "  </tbody>\n",
              "</table>\n",
              "</div>"
            ],
            "text/plain": [
              "   Country Code    Short Name  ... Latest water withdrawal data Unnamed: 31\n",
              "1           AFG   Afghanistan  ...                         2000         NaN\n",
              "14          BDI       Burundi  ...                         2000         NaN\n",
              "16          BEN         Benin  ...                         2001         NaN\n",
              "17          BFA  Burkina Faso  ...                         2001         NaN\n",
              "18          BGD    Bangladesh  ...                         2008         NaN\n",
              "\n",
              "[5 rows x 32 columns]"
            ]
          },
          "metadata": {
            "tags": []
          },
          "execution_count": 56
        }
      ]
    },
    {
      "cell_type": "code",
      "metadata": {
        "colab": {
          "base_uri": "https://localhost:8080/"
        },
        "id": "qncY-u6D44ko",
        "outputId": "fee832ac-8795-41ad-d08b-aac9c1645959"
      },
      "source": [
        "low_income_df.info()"
      ],
      "execution_count": 57,
      "outputs": [
        {
          "output_type": "stream",
          "text": [
            "<class 'pandas.core.frame.DataFrame'>\n",
            "Int64Index: 34 entries, 1 to 240\n",
            "Data columns (total 32 columns):\n",
            " #   Column                                             Non-Null Count  Dtype  \n",
            "---  ------                                             --------------  -----  \n",
            " 0   Country Code                                       34 non-null     object \n",
            " 1   Short Name                                         34 non-null     object \n",
            " 2   Table Name                                         34 non-null     object \n",
            " 3   Long Name                                          34 non-null     object \n",
            " 4   2-alpha code                                       34 non-null     object \n",
            " 5   Currency Unit                                      34 non-null     object \n",
            " 6   Special Notes                                      20 non-null     object \n",
            " 7   Region                                             34 non-null     object \n",
            " 8   Income Group                                       34 non-null     object \n",
            " 9   WB-2 code                                          34 non-null     object \n",
            " 10  National accounts base year                        33 non-null     object \n",
            " 11  National accounts reference year                   2 non-null      float64\n",
            " 12  SNA price valuation                                33 non-null     object \n",
            " 13  Lending category                                   33 non-null     object \n",
            " 14  Other groups                                       26 non-null     object \n",
            " 15  System of National Accounts                        34 non-null     object \n",
            " 16  Alternative conversion factor                      10 non-null     object \n",
            " 17  PPP survey year                                    28 non-null     object \n",
            " 18  Balance of Payments Manual in use                  31 non-null     object \n",
            " 19  External debt Reporting status                     33 non-null     object \n",
            " 20  System of trade                                    31 non-null     object \n",
            " 21  Government Accounting concept                      26 non-null     object \n",
            " 22  IMF data dissemination standard                    31 non-null     object \n",
            " 23  Latest population census                           34 non-null     object \n",
            " 24  Latest household survey                            34 non-null     object \n",
            " 25  Source of most recent Income and expenditure data  31 non-null     object \n",
            " 26  Vital registration complete                        0 non-null      object \n",
            " 27  Latest agricultural census                         19 non-null     object \n",
            " 28  Latest industrial data                             12 non-null     float64\n",
            " 29  Latest trade data                                  30 non-null     float64\n",
            " 30  Latest water withdrawal data                       34 non-null     object \n",
            " 31  Unnamed: 31                                        0 non-null      float64\n",
            "dtypes: float64(4), object(28)\n",
            "memory usage: 8.8+ KB\n"
          ],
          "name": "stdout"
        }
      ]
    },
    {
      "cell_type": "code",
      "metadata": {
        "id": "Cr32ppRg2inx"
      },
      "source": [
        "high_income_df_nonoecd =  df_country[df_country['Income Group'] == 'High income: nonOECD']"
      ],
      "execution_count": 44,
      "outputs": []
    },
    {
      "cell_type": "code",
      "metadata": {
        "id": "cxuG83ry3Yp2"
      },
      "source": [
        "high_income_df_oecd = df_country[df_country['Income Group'] == 'High income: OECD']"
      ],
      "execution_count": 45,
      "outputs": []
    },
    {
      "cell_type": "code",
      "metadata": {
        "id": "KNfigkVZ3fM-"
      },
      "source": [
        "lower_middle_income_df = df_country[df_country['Income Group'] == 'Lower middle income'] \r\n",
        "upper_middle_income_df = df_country[df_country['Income Group'] == 'Upper middle income'] "
      ],
      "execution_count": 46,
      "outputs": []
    },
    {
      "cell_type": "code",
      "metadata": {
        "colab": {
          "base_uri": "https://localhost:8080/"
        },
        "id": "ezyUdQUw3z6s",
        "outputId": "f596a7ac-44ba-4892-cde1-2a755a1e28b1"
      },
      "source": [
        "high_income_df_nonoecd.shape"
      ],
      "execution_count": 48,
      "outputs": [
        {
          "output_type": "execute_result",
          "data": {
            "text/plain": [
              "(44, 32)"
            ]
          },
          "metadata": {
            "tags": []
          },
          "execution_count": 48
        }
      ]
    },
    {
      "cell_type": "code",
      "metadata": {
        "colab": {
          "base_uri": "https://localhost:8080/",
          "height": 802
        },
        "id": "94f0zfxu4p4r",
        "outputId": "ac08126a-0ca3-4891-8b7b-cc192b6140f8"
      },
      "source": [
        "high_income_df_nonoecd.head()"
      ],
      "execution_count": 55,
      "outputs": [
        {
          "output_type": "execute_result",
          "data": {
            "text/html": [
              "<div>\n",
              "<style scoped>\n",
              "    .dataframe tbody tr th:only-of-type {\n",
              "        vertical-align: middle;\n",
              "    }\n",
              "\n",
              "    .dataframe tbody tr th {\n",
              "        vertical-align: top;\n",
              "    }\n",
              "\n",
              "    .dataframe thead th {\n",
              "        text-align: right;\n",
              "    }\n",
              "</style>\n",
              "<table border=\"1\" class=\"dataframe\">\n",
              "  <thead>\n",
              "    <tr style=\"text-align: right;\">\n",
              "      <th></th>\n",
              "      <th>Country Code</th>\n",
              "      <th>Short Name</th>\n",
              "      <th>Table Name</th>\n",
              "      <th>Long Name</th>\n",
              "      <th>2-alpha code</th>\n",
              "      <th>Currency Unit</th>\n",
              "      <th>Special Notes</th>\n",
              "      <th>Region</th>\n",
              "      <th>Income Group</th>\n",
              "      <th>WB-2 code</th>\n",
              "      <th>National accounts base year</th>\n",
              "      <th>National accounts reference year</th>\n",
              "      <th>SNA price valuation</th>\n",
              "      <th>Lending category</th>\n",
              "      <th>Other groups</th>\n",
              "      <th>System of National Accounts</th>\n",
              "      <th>Alternative conversion factor</th>\n",
              "      <th>PPP survey year</th>\n",
              "      <th>Balance of Payments Manual in use</th>\n",
              "      <th>External debt Reporting status</th>\n",
              "      <th>System of trade</th>\n",
              "      <th>Government Accounting concept</th>\n",
              "      <th>IMF data dissemination standard</th>\n",
              "      <th>Latest population census</th>\n",
              "      <th>Latest household survey</th>\n",
              "      <th>Source of most recent Income and expenditure data</th>\n",
              "      <th>Vital registration complete</th>\n",
              "      <th>Latest agricultural census</th>\n",
              "      <th>Latest industrial data</th>\n",
              "      <th>Latest trade data</th>\n",
              "      <th>Latest water withdrawal data</th>\n",
              "      <th>Unnamed: 31</th>\n",
              "    </tr>\n",
              "  </thead>\n",
              "  <tbody>\n",
              "    <tr>\n",
              "      <th>0</th>\n",
              "      <td>ABW</td>\n",
              "      <td>Aruba</td>\n",
              "      <td>Aruba</td>\n",
              "      <td>Aruba</td>\n",
              "      <td>AW</td>\n",
              "      <td>Aruban florin</td>\n",
              "      <td>SNA data for 2000-2011 are updated from offici...</td>\n",
              "      <td>Latin America &amp; Caribbean</td>\n",
              "      <td>High income: nonOECD</td>\n",
              "      <td>AW</td>\n",
              "      <td>2000</td>\n",
              "      <td>NaN</td>\n",
              "      <td>Value added at basic prices (VAB)</td>\n",
              "      <td>NaN</td>\n",
              "      <td>NaN</td>\n",
              "      <td>Country uses the 1993 System of National Accou...</td>\n",
              "      <td>NaN</td>\n",
              "      <td>NaN</td>\n",
              "      <td>IMF Balance of Payments Manual, 6th edition.</td>\n",
              "      <td>NaN</td>\n",
              "      <td>Special trade system</td>\n",
              "      <td>NaN</td>\n",
              "      <td>NaN</td>\n",
              "      <td>2010</td>\n",
              "      <td>NaN</td>\n",
              "      <td>NaN</td>\n",
              "      <td>Yes</td>\n",
              "      <td>NaN</td>\n",
              "      <td>NaN</td>\n",
              "      <td>2012.0</td>\n",
              "      <td>NaN</td>\n",
              "      <td>NaN</td>\n",
              "    </tr>\n",
              "    <tr>\n",
              "      <th>4</th>\n",
              "      <td>AND</td>\n",
              "      <td>Andorra</td>\n",
              "      <td>Andorra</td>\n",
              "      <td>Principality of Andorra</td>\n",
              "      <td>AD</td>\n",
              "      <td>Euro</td>\n",
              "      <td>NaN</td>\n",
              "      <td>Europe &amp; Central Asia</td>\n",
              "      <td>High income: nonOECD</td>\n",
              "      <td>AD</td>\n",
              "      <td>1990</td>\n",
              "      <td>NaN</td>\n",
              "      <td>NaN</td>\n",
              "      <td>NaN</td>\n",
              "      <td>NaN</td>\n",
              "      <td>Country uses the 1968 System of National Accou...</td>\n",
              "      <td>NaN</td>\n",
              "      <td>NaN</td>\n",
              "      <td>NaN</td>\n",
              "      <td>NaN</td>\n",
              "      <td>Special trade system</td>\n",
              "      <td>NaN</td>\n",
              "      <td>NaN</td>\n",
              "      <td>2011. Population figures compiled from adminis...</td>\n",
              "      <td>NaN</td>\n",
              "      <td>NaN</td>\n",
              "      <td>Yes</td>\n",
              "      <td>NaN</td>\n",
              "      <td>NaN</td>\n",
              "      <td>2006.0</td>\n",
              "      <td>NaN</td>\n",
              "      <td>NaN</td>\n",
              "    </tr>\n",
              "    <tr>\n",
              "      <th>6</th>\n",
              "      <td>ARE</td>\n",
              "      <td>United Arab Emirates</td>\n",
              "      <td>United Arab Emirates</td>\n",
              "      <td>United Arab Emirates</td>\n",
              "      <td>AE</td>\n",
              "      <td>U.A.E. dirham</td>\n",
              "      <td>April 2013 database update: Based on data from...</td>\n",
              "      <td>Middle East &amp; North Africa</td>\n",
              "      <td>High income: nonOECD</td>\n",
              "      <td>AE</td>\n",
              "      <td>2007</td>\n",
              "      <td>NaN</td>\n",
              "      <td>Value added at producer prices (VAP)</td>\n",
              "      <td>NaN</td>\n",
              "      <td>NaN</td>\n",
              "      <td>Country uses the 1993 System of National Accou...</td>\n",
              "      <td>NaN</td>\n",
              "      <td>NaN</td>\n",
              "      <td>IMF Balance of Payments Manual, 6th edition.</td>\n",
              "      <td>NaN</td>\n",
              "      <td>General trade system</td>\n",
              "      <td>Consolidated central government</td>\n",
              "      <td>General Data Dissemination System (GDDS)</td>\n",
              "      <td>2010</td>\n",
              "      <td>NaN</td>\n",
              "      <td>NaN</td>\n",
              "      <td>NaN</td>\n",
              "      <td>2012</td>\n",
              "      <td>NaN</td>\n",
              "      <td>2011.0</td>\n",
              "      <td>2005</td>\n",
              "      <td>NaN</td>\n",
              "    </tr>\n",
              "    <tr>\n",
              "      <th>10</th>\n",
              "      <td>ATG</td>\n",
              "      <td>Antigua and Barbuda</td>\n",
              "      <td>Antigua and Barbuda</td>\n",
              "      <td>Antigua and Barbuda</td>\n",
              "      <td>AG</td>\n",
              "      <td>East Caribbean dollar</td>\n",
              "      <td>April 2012 database update: Based on official ...</td>\n",
              "      <td>Latin America &amp; Caribbean</td>\n",
              "      <td>High income: nonOECD</td>\n",
              "      <td>AG</td>\n",
              "      <td>2006</td>\n",
              "      <td>NaN</td>\n",
              "      <td>Value added at basic prices (VAB)</td>\n",
              "      <td>IBRD</td>\n",
              "      <td>NaN</td>\n",
              "      <td>Country uses the 1968 System of National Accou...</td>\n",
              "      <td>NaN</td>\n",
              "      <td>NaN</td>\n",
              "      <td>IMF Balance of Payments Manual, 6th edition.</td>\n",
              "      <td>NaN</td>\n",
              "      <td>General trade system</td>\n",
              "      <td>Budgetary central government</td>\n",
              "      <td>General Data Dissemination System (GDDS)</td>\n",
              "      <td>2011</td>\n",
              "      <td>NaN</td>\n",
              "      <td>NaN</td>\n",
              "      <td>Yes</td>\n",
              "      <td>2007</td>\n",
              "      <td>NaN</td>\n",
              "      <td>2012.0</td>\n",
              "      <td>2005</td>\n",
              "      <td>NaN</td>\n",
              "    </tr>\n",
              "    <tr>\n",
              "      <th>20</th>\n",
              "      <td>BHR</td>\n",
              "      <td>Bahrain</td>\n",
              "      <td>Bahrain</td>\n",
              "      <td>Kingdom of Bahrain</td>\n",
              "      <td>BH</td>\n",
              "      <td>Bahraini dinar</td>\n",
              "      <td>NaN</td>\n",
              "      <td>Middle East &amp; North Africa</td>\n",
              "      <td>High income: nonOECD</td>\n",
              "      <td>BH</td>\n",
              "      <td>1985</td>\n",
              "      <td>NaN</td>\n",
              "      <td>Value added at producer prices (VAP)</td>\n",
              "      <td>NaN</td>\n",
              "      <td>NaN</td>\n",
              "      <td>Country uses the 1968 System of National Accou...</td>\n",
              "      <td>NaN</td>\n",
              "      <td>2005</td>\n",
              "      <td>IMF Balance of Payments Manual, 6th edition.</td>\n",
              "      <td>NaN</td>\n",
              "      <td>General trade system</td>\n",
              "      <td>Budgetary central government</td>\n",
              "      <td>General Data Dissemination System (GDDS)</td>\n",
              "      <td>2010</td>\n",
              "      <td>NaN</td>\n",
              "      <td>NaN</td>\n",
              "      <td>Yes</td>\n",
              "      <td>NaN</td>\n",
              "      <td>NaN</td>\n",
              "      <td>2011.0</td>\n",
              "      <td>2003</td>\n",
              "      <td>NaN</td>\n",
              "    </tr>\n",
              "  </tbody>\n",
              "</table>\n",
              "</div>"
            ],
            "text/plain": [
              "   Country Code            Short Name  ... Latest water withdrawal data Unnamed: 31\n",
              "0           ABW                 Aruba  ...                          NaN         NaN\n",
              "4           AND               Andorra  ...                          NaN         NaN\n",
              "6           ARE  United Arab Emirates  ...                         2005         NaN\n",
              "10          ATG   Antigua and Barbuda  ...                         2005         NaN\n",
              "20          BHR               Bahrain  ...                         2003         NaN\n",
              "\n",
              "[5 rows x 32 columns]"
            ]
          },
          "metadata": {
            "tags": []
          },
          "execution_count": 55
        }
      ]
    },
    {
      "cell_type": "code",
      "metadata": {
        "colab": {
          "base_uri": "https://localhost:8080/"
        },
        "id": "SW3c5dpQ4A6u",
        "outputId": "2e1fff25-effe-493d-fd36-6ff21037561a"
      },
      "source": [
        "high_income_df_oecd.shape"
      ],
      "execution_count": 49,
      "outputs": [
        {
          "output_type": "execute_result",
          "data": {
            "text/plain": [
              "(31, 32)"
            ]
          },
          "metadata": {
            "tags": []
          },
          "execution_count": 49
        }
      ]
    },
    {
      "cell_type": "code",
      "metadata": {
        "colab": {
          "base_uri": "https://localhost:8080/",
          "height": 819
        },
        "id": "06aA7tVH4V4D",
        "outputId": "0a297b68-0ef7-4548-9df8-0a173aa1e41f"
      },
      "source": [
        "high_income_df_oecd.head()"
      ],
      "execution_count": 54,
      "outputs": [
        {
          "output_type": "execute_result",
          "data": {
            "text/html": [
              "<div>\n",
              "<style scoped>\n",
              "    .dataframe tbody tr th:only-of-type {\n",
              "        vertical-align: middle;\n",
              "    }\n",
              "\n",
              "    .dataframe tbody tr th {\n",
              "        vertical-align: top;\n",
              "    }\n",
              "\n",
              "    .dataframe thead th {\n",
              "        text-align: right;\n",
              "    }\n",
              "</style>\n",
              "<table border=\"1\" class=\"dataframe\">\n",
              "  <thead>\n",
              "    <tr style=\"text-align: right;\">\n",
              "      <th></th>\n",
              "      <th>Country Code</th>\n",
              "      <th>Short Name</th>\n",
              "      <th>Table Name</th>\n",
              "      <th>Long Name</th>\n",
              "      <th>2-alpha code</th>\n",
              "      <th>Currency Unit</th>\n",
              "      <th>Special Notes</th>\n",
              "      <th>Region</th>\n",
              "      <th>Income Group</th>\n",
              "      <th>WB-2 code</th>\n",
              "      <th>National accounts base year</th>\n",
              "      <th>National accounts reference year</th>\n",
              "      <th>SNA price valuation</th>\n",
              "      <th>Lending category</th>\n",
              "      <th>Other groups</th>\n",
              "      <th>System of National Accounts</th>\n",
              "      <th>Alternative conversion factor</th>\n",
              "      <th>PPP survey year</th>\n",
              "      <th>Balance of Payments Manual in use</th>\n",
              "      <th>External debt Reporting status</th>\n",
              "      <th>System of trade</th>\n",
              "      <th>Government Accounting concept</th>\n",
              "      <th>IMF data dissemination standard</th>\n",
              "      <th>Latest population census</th>\n",
              "      <th>Latest household survey</th>\n",
              "      <th>Source of most recent Income and expenditure data</th>\n",
              "      <th>Vital registration complete</th>\n",
              "      <th>Latest agricultural census</th>\n",
              "      <th>Latest industrial data</th>\n",
              "      <th>Latest trade data</th>\n",
              "      <th>Latest water withdrawal data</th>\n",
              "      <th>Unnamed: 31</th>\n",
              "    </tr>\n",
              "  </thead>\n",
              "  <tbody>\n",
              "    <tr>\n",
              "      <th>11</th>\n",
              "      <td>AUS</td>\n",
              "      <td>Australia</td>\n",
              "      <td>Australia</td>\n",
              "      <td>Commonwealth of Australia</td>\n",
              "      <td>AU</td>\n",
              "      <td>Australian dollar</td>\n",
              "      <td>Fiscal year end: June 30; reporting period for...</td>\n",
              "      <td>East Asia &amp; Pacific</td>\n",
              "      <td>High income: OECD</td>\n",
              "      <td>AU</td>\n",
              "      <td>Original chained constant price data are resca...</td>\n",
              "      <td>2012.0</td>\n",
              "      <td>Value added at basic prices (VAB)</td>\n",
              "      <td>NaN</td>\n",
              "      <td>NaN</td>\n",
              "      <td>Country uses the 2008 System of National Accou...</td>\n",
              "      <td>NaN</td>\n",
              "      <td>2011</td>\n",
              "      <td>IMF Balance of Payments Manual, 6th edition.</td>\n",
              "      <td>NaN</td>\n",
              "      <td>General trade system</td>\n",
              "      <td>Consolidated central government</td>\n",
              "      <td>Special Data Dissemination Standard (SDDS)</td>\n",
              "      <td>2011</td>\n",
              "      <td>NaN</td>\n",
              "      <td>Expenditure survey/budget survey (ES/BS), 1994</td>\n",
              "      <td>Yes</td>\n",
              "      <td>2011</td>\n",
              "      <td>2010.0</td>\n",
              "      <td>2012.0</td>\n",
              "      <td>2000</td>\n",
              "      <td>NaN</td>\n",
              "    </tr>\n",
              "    <tr>\n",
              "      <th>12</th>\n",
              "      <td>AUT</td>\n",
              "      <td>Austria</td>\n",
              "      <td>Austria</td>\n",
              "      <td>Republic of Austria</td>\n",
              "      <td>AT</td>\n",
              "      <td>Euro</td>\n",
              "      <td>A simple multiplier is used to convert the nat...</td>\n",
              "      <td>Europe &amp; Central Asia</td>\n",
              "      <td>High income: OECD</td>\n",
              "      <td>AT</td>\n",
              "      <td>2005</td>\n",
              "      <td>NaN</td>\n",
              "      <td>Value added at basic prices (VAB)</td>\n",
              "      <td>NaN</td>\n",
              "      <td>Euro area</td>\n",
              "      <td>Country uses the 1993 System of National Accou...</td>\n",
              "      <td>NaN</td>\n",
              "      <td>Rolling</td>\n",
              "      <td>IMF Balance of Payments Manual, 6th edition.</td>\n",
              "      <td>NaN</td>\n",
              "      <td>Special trade system</td>\n",
              "      <td>Consolidated central government</td>\n",
              "      <td>Special Data Dissemination Standard (SDDS)</td>\n",
              "      <td>2011. Population figures compiled from adminis...</td>\n",
              "      <td>NaN</td>\n",
              "      <td>Income survey (IS), 2000</td>\n",
              "      <td>Yes</td>\n",
              "      <td>2010</td>\n",
              "      <td>2009.0</td>\n",
              "      <td>2012.0</td>\n",
              "      <td>2002</td>\n",
              "      <td>NaN</td>\n",
              "    </tr>\n",
              "    <tr>\n",
              "      <th>15</th>\n",
              "      <td>BEL</td>\n",
              "      <td>Belgium</td>\n",
              "      <td>Belgium</td>\n",
              "      <td>Kingdom of Belgium</td>\n",
              "      <td>BE</td>\n",
              "      <td>Euro</td>\n",
              "      <td>A simple multiplier is used to convert the nat...</td>\n",
              "      <td>Europe &amp; Central Asia</td>\n",
              "      <td>High income: OECD</td>\n",
              "      <td>BE</td>\n",
              "      <td>2005</td>\n",
              "      <td>NaN</td>\n",
              "      <td>Value added at basic prices (VAB)</td>\n",
              "      <td>NaN</td>\n",
              "      <td>Euro area</td>\n",
              "      <td>Country uses the 1993 System of National Accou...</td>\n",
              "      <td>NaN</td>\n",
              "      <td>Rolling</td>\n",
              "      <td>IMF Balance of Payments Manual, 6th edition.</td>\n",
              "      <td>NaN</td>\n",
              "      <td>Special trade system</td>\n",
              "      <td>Consolidated central government</td>\n",
              "      <td>Special Data Dissemination Standard (SDDS)</td>\n",
              "      <td>2011</td>\n",
              "      <td>NaN</td>\n",
              "      <td>Integrated household survey (IHS), 2000</td>\n",
              "      <td>Yes</td>\n",
              "      <td>2010</td>\n",
              "      <td>2009.0</td>\n",
              "      <td>2012.0</td>\n",
              "      <td>2007</td>\n",
              "      <td>NaN</td>\n",
              "    </tr>\n",
              "    <tr>\n",
              "      <th>33</th>\n",
              "      <td>CAN</td>\n",
              "      <td>Canada</td>\n",
              "      <td>Canada</td>\n",
              "      <td>Canada</td>\n",
              "      <td>CA</td>\n",
              "      <td>Canadian dollar</td>\n",
              "      <td>Fiscal year end: March 31; reporting period fo...</td>\n",
              "      <td>North America</td>\n",
              "      <td>High income: OECD</td>\n",
              "      <td>CA</td>\n",
              "      <td>2005</td>\n",
              "      <td>NaN</td>\n",
              "      <td>Value added at basic prices (VAB)</td>\n",
              "      <td>NaN</td>\n",
              "      <td>NaN</td>\n",
              "      <td>Country uses the 2008 System of National Accou...</td>\n",
              "      <td>NaN</td>\n",
              "      <td>2011</td>\n",
              "      <td>IMF Balance of Payments Manual, 6th edition.</td>\n",
              "      <td>NaN</td>\n",
              "      <td>General trade system</td>\n",
              "      <td>Consolidated central government</td>\n",
              "      <td>Special Data Dissemination Standard (SDDS)</td>\n",
              "      <td>2011</td>\n",
              "      <td>NaN</td>\n",
              "      <td>Labor force survey (LFS), 2000</td>\n",
              "      <td>Yes</td>\n",
              "      <td>2011</td>\n",
              "      <td>2010.0</td>\n",
              "      <td>2012.0</td>\n",
              "      <td>1986</td>\n",
              "      <td>NaN</td>\n",
              "    </tr>\n",
              "    <tr>\n",
              "      <th>34</th>\n",
              "      <td>CHE</td>\n",
              "      <td>Switzerland</td>\n",
              "      <td>Switzerland</td>\n",
              "      <td>Switzerland</td>\n",
              "      <td>CH</td>\n",
              "      <td>Swiss franc</td>\n",
              "      <td>NaN</td>\n",
              "      <td>Europe &amp; Central Asia</td>\n",
              "      <td>High income: OECD</td>\n",
              "      <td>CH</td>\n",
              "      <td>2005</td>\n",
              "      <td>NaN</td>\n",
              "      <td>Value added at basic prices (VAB)</td>\n",
              "      <td>NaN</td>\n",
              "      <td>NaN</td>\n",
              "      <td>Country uses the 1993 System of National Accou...</td>\n",
              "      <td>NaN</td>\n",
              "      <td>Rolling</td>\n",
              "      <td>IMF Balance of Payments Manual, 6th edition.</td>\n",
              "      <td>NaN</td>\n",
              "      <td>Special trade system</td>\n",
              "      <td>Consolidated central government</td>\n",
              "      <td>Special Data Dissemination Standard (SDDS)</td>\n",
              "      <td>2010</td>\n",
              "      <td>NaN</td>\n",
              "      <td>Expenditure survey/budget survey (ES/BS), 2000</td>\n",
              "      <td>Yes</td>\n",
              "      <td>2008</td>\n",
              "      <td>2007.0</td>\n",
              "      <td>2012.0</td>\n",
              "      <td>2000</td>\n",
              "      <td>NaN</td>\n",
              "    </tr>\n",
              "  </tbody>\n",
              "</table>\n",
              "</div>"
            ],
            "text/plain": [
              "   Country Code   Short Name  ... Latest water withdrawal data Unnamed: 31\n",
              "11          AUS    Australia  ...                         2000         NaN\n",
              "12          AUT      Austria  ...                         2002         NaN\n",
              "15          BEL      Belgium  ...                         2007         NaN\n",
              "33          CAN       Canada  ...                         1986         NaN\n",
              "34          CHE  Switzerland  ...                         2000         NaN\n",
              "\n",
              "[5 rows x 32 columns]"
            ]
          },
          "metadata": {
            "tags": []
          },
          "execution_count": 54
        }
      ]
    },
    {
      "cell_type": "code",
      "metadata": {
        "colab": {
          "base_uri": "https://localhost:8080/"
        },
        "id": "xWkCgkSI4EFa",
        "outputId": "276a9665-500a-4488-e059-7205923d6c4f"
      },
      "source": [
        "lower_middle_income_df.shape"
      ],
      "execution_count": 50,
      "outputs": [
        {
          "output_type": "execute_result",
          "data": {
            "text/plain": [
              "(50, 32)"
            ]
          },
          "metadata": {
            "tags": []
          },
          "execution_count": 50
        }
      ]
    },
    {
      "cell_type": "code",
      "metadata": {
        "colab": {
          "base_uri": "https://localhost:8080/",
          "height": 819
        },
        "id": "4Rc5TdT037To",
        "outputId": "fcdbe1b3-2179-4b8c-c6e2-32b97a9c49bb"
      },
      "source": [
        "lower_middle_income_df.head()\r\n"
      ],
      "execution_count": 53,
      "outputs": [
        {
          "output_type": "execute_result",
          "data": {
            "text/html": [
              "<div>\n",
              "<style scoped>\n",
              "    .dataframe tbody tr th:only-of-type {\n",
              "        vertical-align: middle;\n",
              "    }\n",
              "\n",
              "    .dataframe tbody tr th {\n",
              "        vertical-align: top;\n",
              "    }\n",
              "\n",
              "    .dataframe thead th {\n",
              "        text-align: right;\n",
              "    }\n",
              "</style>\n",
              "<table border=\"1\" class=\"dataframe\">\n",
              "  <thead>\n",
              "    <tr style=\"text-align: right;\">\n",
              "      <th></th>\n",
              "      <th>Country Code</th>\n",
              "      <th>Short Name</th>\n",
              "      <th>Table Name</th>\n",
              "      <th>Long Name</th>\n",
              "      <th>2-alpha code</th>\n",
              "      <th>Currency Unit</th>\n",
              "      <th>Special Notes</th>\n",
              "      <th>Region</th>\n",
              "      <th>Income Group</th>\n",
              "      <th>WB-2 code</th>\n",
              "      <th>National accounts base year</th>\n",
              "      <th>National accounts reference year</th>\n",
              "      <th>SNA price valuation</th>\n",
              "      <th>Lending category</th>\n",
              "      <th>Other groups</th>\n",
              "      <th>System of National Accounts</th>\n",
              "      <th>Alternative conversion factor</th>\n",
              "      <th>PPP survey year</th>\n",
              "      <th>Balance of Payments Manual in use</th>\n",
              "      <th>External debt Reporting status</th>\n",
              "      <th>System of trade</th>\n",
              "      <th>Government Accounting concept</th>\n",
              "      <th>IMF data dissemination standard</th>\n",
              "      <th>Latest population census</th>\n",
              "      <th>Latest household survey</th>\n",
              "      <th>Source of most recent Income and expenditure data</th>\n",
              "      <th>Vital registration complete</th>\n",
              "      <th>Latest agricultural census</th>\n",
              "      <th>Latest industrial data</th>\n",
              "      <th>Latest trade data</th>\n",
              "      <th>Latest water withdrawal data</th>\n",
              "      <th>Unnamed: 31</th>\n",
              "    </tr>\n",
              "  </thead>\n",
              "  <tbody>\n",
              "    <tr>\n",
              "      <th>8</th>\n",
              "      <td>ARM</td>\n",
              "      <td>Armenia</td>\n",
              "      <td>Armenia</td>\n",
              "      <td>Republic of Armenia</td>\n",
              "      <td>AM</td>\n",
              "      <td>Armenian dram</td>\n",
              "      <td>NaN</td>\n",
              "      <td>Europe &amp; Central Asia</td>\n",
              "      <td>Lower middle income</td>\n",
              "      <td>AM</td>\n",
              "      <td>Original chained constant price data are resca...</td>\n",
              "      <td>1996.0</td>\n",
              "      <td>Value added at basic prices (VAB)</td>\n",
              "      <td>IBRD</td>\n",
              "      <td>NaN</td>\n",
              "      <td>Country uses the 1993 System of National Accou...</td>\n",
              "      <td>1990–95</td>\n",
              "      <td>2005</td>\n",
              "      <td>IMF Balance of Payments Manual, 6th edition.</td>\n",
              "      <td>Actual</td>\n",
              "      <td>Special trade system</td>\n",
              "      <td>Consolidated central government</td>\n",
              "      <td>Special Data Dissemination Standard (SDDS)</td>\n",
              "      <td>2011</td>\n",
              "      <td>Demographic and Health Survey (DHS), 2010</td>\n",
              "      <td>Integrated household survey (IHS), 2012</td>\n",
              "      <td>Yes</td>\n",
              "      <td>2013/14</td>\n",
              "      <td>NaN</td>\n",
              "      <td>2012.0</td>\n",
              "      <td>2007</td>\n",
              "      <td>NaN</td>\n",
              "    </tr>\n",
              "    <tr>\n",
              "      <th>26</th>\n",
              "      <td>BOL</td>\n",
              "      <td>Bolivia</td>\n",
              "      <td>Bolivia</td>\n",
              "      <td>Plurinational State of Bolivia</td>\n",
              "      <td>BO</td>\n",
              "      <td>Bolivian Boliviano</td>\n",
              "      <td>NaN</td>\n",
              "      <td>Latin America &amp; Caribbean</td>\n",
              "      <td>Lower middle income</td>\n",
              "      <td>BO</td>\n",
              "      <td>1990</td>\n",
              "      <td>NaN</td>\n",
              "      <td>Value added at basic prices (VAB)</td>\n",
              "      <td>Blend</td>\n",
              "      <td>HIPC</td>\n",
              "      <td>Country uses the 1968 System of National Accou...</td>\n",
              "      <td>1960–85</td>\n",
              "      <td>2005</td>\n",
              "      <td>IMF Balance of Payments Manual, 6th edition.</td>\n",
              "      <td>Actual</td>\n",
              "      <td>General trade system</td>\n",
              "      <td>Consolidated central government</td>\n",
              "      <td>General Data Dissemination System (GDDS)</td>\n",
              "      <td>2012</td>\n",
              "      <td>Demographic and Health Survey (DHS), 2008</td>\n",
              "      <td>Integrated household survey (IHS), 2009</td>\n",
              "      <td>NaN</td>\n",
              "      <td>2013</td>\n",
              "      <td>2001.0</td>\n",
              "      <td>2012.0</td>\n",
              "      <td>2000</td>\n",
              "      <td>NaN</td>\n",
              "    </tr>\n",
              "    <tr>\n",
              "      <th>30</th>\n",
              "      <td>BTN</td>\n",
              "      <td>Bhutan</td>\n",
              "      <td>Bhutan</td>\n",
              "      <td>Kingdom of Bhutan</td>\n",
              "      <td>BT</td>\n",
              "      <td>Bhutanese ngultrum</td>\n",
              "      <td>April 2013 database update: Data were updated ...</td>\n",
              "      <td>South Asia</td>\n",
              "      <td>Lower middle income</td>\n",
              "      <td>BT</td>\n",
              "      <td>2000</td>\n",
              "      <td>NaN</td>\n",
              "      <td>Value added at basic prices (VAB)</td>\n",
              "      <td>IDA</td>\n",
              "      <td>NaN</td>\n",
              "      <td>Country uses the 1993 System of National Accou...</td>\n",
              "      <td>NaN</td>\n",
              "      <td>2005</td>\n",
              "      <td>IMF Balance of Payments Manual, 6th edition.</td>\n",
              "      <td>Actual</td>\n",
              "      <td>General trade system</td>\n",
              "      <td>Consolidated central government</td>\n",
              "      <td>General Data Dissemination System (GDDS)</td>\n",
              "      <td>2005</td>\n",
              "      <td>Multiple Indicator Cluster Survey (MICS), 2010</td>\n",
              "      <td>Integrated household survey (IHS), 2012</td>\n",
              "      <td>NaN</td>\n",
              "      <td>2009</td>\n",
              "      <td>NaN</td>\n",
              "      <td>2011.0</td>\n",
              "      <td>2008</td>\n",
              "      <td>NaN</td>\n",
              "    </tr>\n",
              "    <tr>\n",
              "      <th>38</th>\n",
              "      <td>CIV</td>\n",
              "      <td>Côte d'Ivoire</td>\n",
              "      <td>Côte d'Ivoire</td>\n",
              "      <td>Republic of Côte d'Ivoire</td>\n",
              "      <td>CI</td>\n",
              "      <td>CFA franc</td>\n",
              "      <td>NaN</td>\n",
              "      <td>Sub-Saharan Africa</td>\n",
              "      <td>Lower middle income</td>\n",
              "      <td>CI</td>\n",
              "      <td>1996</td>\n",
              "      <td>NaN</td>\n",
              "      <td>Value added at producer prices (VAP)</td>\n",
              "      <td>IDA</td>\n",
              "      <td>HIPC</td>\n",
              "      <td>Country uses the 1968 System of National Accou...</td>\n",
              "      <td>NaN</td>\n",
              "      <td>2005</td>\n",
              "      <td>IMF Balance of Payments Manual, 6th edition.</td>\n",
              "      <td>Estimate</td>\n",
              "      <td>Special trade system</td>\n",
              "      <td>Budgetary central government</td>\n",
              "      <td>General Data Dissemination System (GDDS)</td>\n",
              "      <td>1998</td>\n",
              "      <td>Demographic and Health Survey (DHS), 2011/12</td>\n",
              "      <td>Integrated household survey (IHS), 2008</td>\n",
              "      <td>NaN</td>\n",
              "      <td>2014</td>\n",
              "      <td>NaN</td>\n",
              "      <td>2012.0</td>\n",
              "      <td>2005</td>\n",
              "      <td>NaN</td>\n",
              "    </tr>\n",
              "    <tr>\n",
              "      <th>39</th>\n",
              "      <td>CMR</td>\n",
              "      <td>Cameroon</td>\n",
              "      <td>Cameroon</td>\n",
              "      <td>Republic of Cameroon</td>\n",
              "      <td>CM</td>\n",
              "      <td>CFA franc</td>\n",
              "      <td>NaN</td>\n",
              "      <td>Sub-Saharan Africa</td>\n",
              "      <td>Lower middle income</td>\n",
              "      <td>CM</td>\n",
              "      <td>2000</td>\n",
              "      <td>NaN</td>\n",
              "      <td>Value added at basic prices (VAB)</td>\n",
              "      <td>Blend</td>\n",
              "      <td>HIPC</td>\n",
              "      <td>Country uses the 1993 System of National Accou...</td>\n",
              "      <td>NaN</td>\n",
              "      <td>2005</td>\n",
              "      <td>IMF Balance of Payments Manual, 6th edition.</td>\n",
              "      <td>Actual</td>\n",
              "      <td>Special trade system</td>\n",
              "      <td>Budgetary central government</td>\n",
              "      <td>General Data Dissemination System (GDDS)</td>\n",
              "      <td>2005</td>\n",
              "      <td>Demographic and Health Survey (DHS), 2011</td>\n",
              "      <td>Priority survey (PS), 2007</td>\n",
              "      <td>NaN</td>\n",
              "      <td>NaN</td>\n",
              "      <td>2002.0</td>\n",
              "      <td>2012.0</td>\n",
              "      <td>2000</td>\n",
              "      <td>NaN</td>\n",
              "    </tr>\n",
              "  </tbody>\n",
              "</table>\n",
              "</div>"
            ],
            "text/plain": [
              "   Country Code     Short Name  ... Latest water withdrawal data Unnamed: 31\n",
              "8           ARM        Armenia  ...                         2007         NaN\n",
              "26          BOL        Bolivia  ...                         2000         NaN\n",
              "30          BTN         Bhutan  ...                         2008         NaN\n",
              "38          CIV  Côte d'Ivoire  ...                         2005         NaN\n",
              "39          CMR       Cameroon  ...                         2000         NaN\n",
              "\n",
              "[5 rows x 32 columns]"
            ]
          },
          "metadata": {
            "tags": []
          },
          "execution_count": 53
        }
      ]
    },
    {
      "cell_type": "code",
      "metadata": {
        "colab": {
          "base_uri": "https://localhost:8080/"
        },
        "id": "tD4fu0z25GBu",
        "outputId": "30ccc3ae-f22c-4909-eb24-cf6a93f05e76"
      },
      "source": [
        "upper_middle_income_df.shape"
      ],
      "execution_count": 51,
      "outputs": [
        {
          "output_type": "execute_result",
          "data": {
            "text/plain": [
              "(55, 32)"
            ]
          },
          "metadata": {
            "tags": []
          },
          "execution_count": 51
        }
      ]
    },
    {
      "cell_type": "code",
      "metadata": {
        "colab": {
          "base_uri": "https://localhost:8080/",
          "height": 802
        },
        "id": "sMS0RlP23u0N",
        "outputId": "700cf93f-c86e-46b7-9814-ffb69c88332d"
      },
      "source": [
        "upper_middle_income_df.head()"
      ],
      "execution_count": 52,
      "outputs": [
        {
          "output_type": "execute_result",
          "data": {
            "text/html": [
              "<div>\n",
              "<style scoped>\n",
              "    .dataframe tbody tr th:only-of-type {\n",
              "        vertical-align: middle;\n",
              "    }\n",
              "\n",
              "    .dataframe tbody tr th {\n",
              "        vertical-align: top;\n",
              "    }\n",
              "\n",
              "    .dataframe thead th {\n",
              "        text-align: right;\n",
              "    }\n",
              "</style>\n",
              "<table border=\"1\" class=\"dataframe\">\n",
              "  <thead>\n",
              "    <tr style=\"text-align: right;\">\n",
              "      <th></th>\n",
              "      <th>Country Code</th>\n",
              "      <th>Short Name</th>\n",
              "      <th>Table Name</th>\n",
              "      <th>Long Name</th>\n",
              "      <th>2-alpha code</th>\n",
              "      <th>Currency Unit</th>\n",
              "      <th>Special Notes</th>\n",
              "      <th>Region</th>\n",
              "      <th>Income Group</th>\n",
              "      <th>WB-2 code</th>\n",
              "      <th>National accounts base year</th>\n",
              "      <th>National accounts reference year</th>\n",
              "      <th>SNA price valuation</th>\n",
              "      <th>Lending category</th>\n",
              "      <th>Other groups</th>\n",
              "      <th>System of National Accounts</th>\n",
              "      <th>Alternative conversion factor</th>\n",
              "      <th>PPP survey year</th>\n",
              "      <th>Balance of Payments Manual in use</th>\n",
              "      <th>External debt Reporting status</th>\n",
              "      <th>System of trade</th>\n",
              "      <th>Government Accounting concept</th>\n",
              "      <th>IMF data dissemination standard</th>\n",
              "      <th>Latest population census</th>\n",
              "      <th>Latest household survey</th>\n",
              "      <th>Source of most recent Income and expenditure data</th>\n",
              "      <th>Vital registration complete</th>\n",
              "      <th>Latest agricultural census</th>\n",
              "      <th>Latest industrial data</th>\n",
              "      <th>Latest trade data</th>\n",
              "      <th>Latest water withdrawal data</th>\n",
              "      <th>Unnamed: 31</th>\n",
              "    </tr>\n",
              "  </thead>\n",
              "  <tbody>\n",
              "    <tr>\n",
              "      <th>2</th>\n",
              "      <td>AGO</td>\n",
              "      <td>Angola</td>\n",
              "      <td>Angola</td>\n",
              "      <td>People's Republic of Angola</td>\n",
              "      <td>AO</td>\n",
              "      <td>Angolan kwanza</td>\n",
              "      <td>April 2013 database update: Based on IMF data,...</td>\n",
              "      <td>Sub-Saharan Africa</td>\n",
              "      <td>Upper middle income</td>\n",
              "      <td>AO</td>\n",
              "      <td>2002</td>\n",
              "      <td>NaN</td>\n",
              "      <td>Value added at producer prices (VAP)</td>\n",
              "      <td>IBRD</td>\n",
              "      <td>NaN</td>\n",
              "      <td>Country uses the 1993 System of National Accou...</td>\n",
              "      <td>1991–96</td>\n",
              "      <td>2005</td>\n",
              "      <td>IMF Balance of Payments Manual, 6th edition.</td>\n",
              "      <td>Actual</td>\n",
              "      <td>Special trade system</td>\n",
              "      <td>Budgetary central government</td>\n",
              "      <td>General Data Dissemination System (GDDS)</td>\n",
              "      <td>1970</td>\n",
              "      <td>Malaria Indicator Survey (MIS), 2011</td>\n",
              "      <td>Integrated household survey (IHS), 2008</td>\n",
              "      <td>NaN</td>\n",
              "      <td>2015</td>\n",
              "      <td>NaN</td>\n",
              "      <td>NaN</td>\n",
              "      <td>2005</td>\n",
              "      <td>NaN</td>\n",
              "    </tr>\n",
              "    <tr>\n",
              "      <th>3</th>\n",
              "      <td>ALB</td>\n",
              "      <td>Albania</td>\n",
              "      <td>Albania</td>\n",
              "      <td>Republic of Albania</td>\n",
              "      <td>AL</td>\n",
              "      <td>Albanian lek</td>\n",
              "      <td>NaN</td>\n",
              "      <td>Europe &amp; Central Asia</td>\n",
              "      <td>Upper middle income</td>\n",
              "      <td>AL</td>\n",
              "      <td>Original chained constant price data are resca...</td>\n",
              "      <td>1996.0</td>\n",
              "      <td>Value added at basic prices (VAB)</td>\n",
              "      <td>IBRD</td>\n",
              "      <td>NaN</td>\n",
              "      <td>Country uses the 1993 System of National Accou...</td>\n",
              "      <td>NaN</td>\n",
              "      <td>Rolling</td>\n",
              "      <td>IMF Balance of Payments Manual, 6th edition.</td>\n",
              "      <td>Actual</td>\n",
              "      <td>General trade system</td>\n",
              "      <td>Budgetary central government</td>\n",
              "      <td>General Data Dissemination System (GDDS)</td>\n",
              "      <td>2011</td>\n",
              "      <td>Demographic and Health Survey (DHS), 2008/09</td>\n",
              "      <td>Living Standards Measurement Study Survey (LSM...</td>\n",
              "      <td>Yes</td>\n",
              "      <td>2012</td>\n",
              "      <td>2010.0</td>\n",
              "      <td>2012.0</td>\n",
              "      <td>2006</td>\n",
              "      <td>NaN</td>\n",
              "    </tr>\n",
              "    <tr>\n",
              "      <th>7</th>\n",
              "      <td>ARG</td>\n",
              "      <td>Argentina</td>\n",
              "      <td>Argentina</td>\n",
              "      <td>Argentine Republic</td>\n",
              "      <td>AR</td>\n",
              "      <td>Argentine peso</td>\n",
              "      <td>NaN</td>\n",
              "      <td>Latin America &amp; Caribbean</td>\n",
              "      <td>Upper middle income</td>\n",
              "      <td>AR</td>\n",
              "      <td>2004</td>\n",
              "      <td>NaN</td>\n",
              "      <td>Value added at basic prices (VAB)</td>\n",
              "      <td>IBRD</td>\n",
              "      <td>NaN</td>\n",
              "      <td>Country uses the 1993 System of National Accou...</td>\n",
              "      <td>1971–84</td>\n",
              "      <td>2005</td>\n",
              "      <td>IMF Balance of Payments Manual, 6th edition.</td>\n",
              "      <td>Actual</td>\n",
              "      <td>Special trade system</td>\n",
              "      <td>Consolidated central government</td>\n",
              "      <td>Special Data Dissemination Standard (SDDS)</td>\n",
              "      <td>2010</td>\n",
              "      <td>Multiple Indicator Cluster Survey (MICS), 2011/12</td>\n",
              "      <td>Integrated household survey (IHS), 2012</td>\n",
              "      <td>Yes</td>\n",
              "      <td>2013</td>\n",
              "      <td>2002.0</td>\n",
              "      <td>2012.0</td>\n",
              "      <td>2000</td>\n",
              "      <td>NaN</td>\n",
              "    </tr>\n",
              "    <tr>\n",
              "      <th>9</th>\n",
              "      <td>ASM</td>\n",
              "      <td>American Samoa</td>\n",
              "      <td>American Samoa</td>\n",
              "      <td>American Samoa</td>\n",
              "      <td>AS</td>\n",
              "      <td>U.S. dollar</td>\n",
              "      <td>NaN</td>\n",
              "      <td>East Asia &amp; Pacific</td>\n",
              "      <td>Upper middle income</td>\n",
              "      <td>AS</td>\n",
              "      <td>NaN</td>\n",
              "      <td>NaN</td>\n",
              "      <td>NaN</td>\n",
              "      <td>NaN</td>\n",
              "      <td>NaN</td>\n",
              "      <td>Country uses the 1968 System of National Accou...</td>\n",
              "      <td>NaN</td>\n",
              "      <td>NaN</td>\n",
              "      <td>NaN</td>\n",
              "      <td>NaN</td>\n",
              "      <td>Special trade system</td>\n",
              "      <td>NaN</td>\n",
              "      <td>NaN</td>\n",
              "      <td>2010</td>\n",
              "      <td>NaN</td>\n",
              "      <td>NaN</td>\n",
              "      <td>Yes</td>\n",
              "      <td>2007</td>\n",
              "      <td>NaN</td>\n",
              "      <td>NaN</td>\n",
              "      <td>NaN</td>\n",
              "      <td>NaN</td>\n",
              "    </tr>\n",
              "    <tr>\n",
              "      <th>13</th>\n",
              "      <td>AZE</td>\n",
              "      <td>Azerbaijan</td>\n",
              "      <td>Azerbaijan</td>\n",
              "      <td>Republic of Azerbaijan</td>\n",
              "      <td>AZ</td>\n",
              "      <td>New Azeri manat</td>\n",
              "      <td>April 2012 database update: National accounts ...</td>\n",
              "      <td>Europe &amp; Central Asia</td>\n",
              "      <td>Upper middle income</td>\n",
              "      <td>AZ</td>\n",
              "      <td>2000</td>\n",
              "      <td>NaN</td>\n",
              "      <td>Value added at basic prices (VAB)</td>\n",
              "      <td>IBRD</td>\n",
              "      <td>NaN</td>\n",
              "      <td>Country uses the 1993 System of National Accou...</td>\n",
              "      <td>1992–95</td>\n",
              "      <td>2005</td>\n",
              "      <td>IMF Balance of Payments Manual, 6th edition.</td>\n",
              "      <td>Actual</td>\n",
              "      <td>General trade system</td>\n",
              "      <td>Consolidated central government</td>\n",
              "      <td>General Data Dissemination System (GDDS)</td>\n",
              "      <td>2009</td>\n",
              "      <td>Demographic and Health Survey (DHS), 2006</td>\n",
              "      <td>Expenditure survey/budget survey (ES/BS), 2012</td>\n",
              "      <td>Yes</td>\n",
              "      <td>2015</td>\n",
              "      <td>2010.0</td>\n",
              "      <td>2012.0</td>\n",
              "      <td>2005</td>\n",
              "      <td>NaN</td>\n",
              "    </tr>\n",
              "  </tbody>\n",
              "</table>\n",
              "</div>"
            ],
            "text/plain": [
              "   Country Code      Short Name  ... Latest water withdrawal data Unnamed: 31\n",
              "2           AGO          Angola  ...                         2005         NaN\n",
              "3           ALB         Albania  ...                         2006         NaN\n",
              "7           ARG       Argentina  ...                         2000         NaN\n",
              "9           ASM  American Samoa  ...                          NaN         NaN\n",
              "13          AZE      Azerbaijan  ...                         2005         NaN\n",
              "\n",
              "[5 rows x 32 columns]"
            ]
          },
          "metadata": {
            "tags": []
          },
          "execution_count": 52
        }
      ]
    },
    {
      "cell_type": "code",
      "metadata": {
        "colab": {
          "base_uri": "https://localhost:8080/"
        },
        "id": "OS1mN_ts5MZn",
        "outputId": "377e4a23-dd63-46a0-9764-49af1e036f2f"
      },
      "source": [
        "low_income_df['Region'].unique()"
      ],
      "execution_count": 186,
      "outputs": [
        {
          "output_type": "execute_result",
          "data": {
            "text/plain": [
              "array(['South Asia', 'Sub-Saharan Africa', 'Latin America & Caribbean',\n",
              "       'East Asia & Pacific', 'Europe & Central Asia'], dtype=object)"
            ]
          },
          "metadata": {
            "tags": []
          },
          "execution_count": 186
        }
      ]
    },
    {
      "cell_type": "code",
      "metadata": {
        "colab": {
          "base_uri": "https://localhost:8080/",
          "height": 819
        },
        "id": "VNNcMQ3z7x2R",
        "outputId": "049612e3-749a-4ff6-ee3e-027aa485d63a"
      },
      "source": [
        "low_income_df.head()"
      ],
      "execution_count": 187,
      "outputs": [
        {
          "output_type": "execute_result",
          "data": {
            "text/html": [
              "<div>\n",
              "<style scoped>\n",
              "    .dataframe tbody tr th:only-of-type {\n",
              "        vertical-align: middle;\n",
              "    }\n",
              "\n",
              "    .dataframe tbody tr th {\n",
              "        vertical-align: top;\n",
              "    }\n",
              "\n",
              "    .dataframe thead th {\n",
              "        text-align: right;\n",
              "    }\n",
              "</style>\n",
              "<table border=\"1\" class=\"dataframe\">\n",
              "  <thead>\n",
              "    <tr style=\"text-align: right;\">\n",
              "      <th></th>\n",
              "      <th>Country Code</th>\n",
              "      <th>Short Name</th>\n",
              "      <th>Table Name</th>\n",
              "      <th>Long Name</th>\n",
              "      <th>2-alpha code</th>\n",
              "      <th>Currency Unit</th>\n",
              "      <th>Special Notes</th>\n",
              "      <th>Region</th>\n",
              "      <th>Income Group</th>\n",
              "      <th>WB-2 code</th>\n",
              "      <th>National accounts base year</th>\n",
              "      <th>SNA price valuation</th>\n",
              "      <th>Lending category</th>\n",
              "      <th>System of National Accounts</th>\n",
              "      <th>PPP survey year</th>\n",
              "      <th>Balance of Payments Manual in use</th>\n",
              "      <th>External debt Reporting status</th>\n",
              "      <th>System of trade</th>\n",
              "      <th>Government Accounting concept</th>\n",
              "      <th>IMF data dissemination standard</th>\n",
              "      <th>Latest population census</th>\n",
              "      <th>Latest household survey</th>\n",
              "      <th>Source of most recent Income and expenditure data</th>\n",
              "      <th>Vital registration complete</th>\n",
              "      <th>Latest agricultural census</th>\n",
              "      <th>Latest industrial data</th>\n",
              "      <th>Latest trade data</th>\n",
              "      <th>Latest water withdrawal data</th>\n",
              "    </tr>\n",
              "  </thead>\n",
              "  <tbody>\n",
              "    <tr>\n",
              "      <th>1</th>\n",
              "      <td>AFG</td>\n",
              "      <td>Afghanistan</td>\n",
              "      <td>Afghanistan</td>\n",
              "      <td>Islamic State of Afghanistan</td>\n",
              "      <td>AF</td>\n",
              "      <td>Afghan afghani</td>\n",
              "      <td>Fiscal year end: March 20; reporting period fo...</td>\n",
              "      <td>South Asia</td>\n",
              "      <td>Low income</td>\n",
              "      <td>AF</td>\n",
              "      <td>2002/03</td>\n",
              "      <td>Value added at basic prices (VAB)</td>\n",
              "      <td>IDA</td>\n",
              "      <td>Country uses the 1993 System of National Accou...</td>\n",
              "      <td>NaN</td>\n",
              "      <td>NaN</td>\n",
              "      <td>Actual</td>\n",
              "      <td>General trade system</td>\n",
              "      <td>Consolidated central government</td>\n",
              "      <td>General Data Dissemination System (GDDS)</td>\n",
              "      <td>1979</td>\n",
              "      <td>Multiple Indicator Cluster Survey (MICS), 2010/11</td>\n",
              "      <td>Integrated household survey (IHS), 2008</td>\n",
              "      <td>NaN</td>\n",
              "      <td>2013/14</td>\n",
              "      <td>NaN</td>\n",
              "      <td>2012.0</td>\n",
              "      <td>2000</td>\n",
              "    </tr>\n",
              "    <tr>\n",
              "      <th>14</th>\n",
              "      <td>BDI</td>\n",
              "      <td>Burundi</td>\n",
              "      <td>Burundi</td>\n",
              "      <td>Republic of Burundi</td>\n",
              "      <td>BI</td>\n",
              "      <td>Burundi franc</td>\n",
              "      <td>NaN</td>\n",
              "      <td>Sub-Saharan Africa</td>\n",
              "      <td>Low income</td>\n",
              "      <td>BI</td>\n",
              "      <td>2005</td>\n",
              "      <td>Value added at basic prices (VAB)</td>\n",
              "      <td>IDA</td>\n",
              "      <td>Country uses the 1993 System of National Accou...</td>\n",
              "      <td>2005</td>\n",
              "      <td>IMF Balance of Payments Manual, 6th edition.</td>\n",
              "      <td>Actual</td>\n",
              "      <td>Special trade system</td>\n",
              "      <td>Consolidated central government</td>\n",
              "      <td>General Data Dissemination System (GDDS)</td>\n",
              "      <td>2008</td>\n",
              "      <td>Malaria Indicator Survey (MIS), 2012</td>\n",
              "      <td>Core Welfare Indicator Questionnaire Survey (C...</td>\n",
              "      <td>NaN</td>\n",
              "      <td>NaN</td>\n",
              "      <td>NaN</td>\n",
              "      <td>2012.0</td>\n",
              "      <td>2000</td>\n",
              "    </tr>\n",
              "    <tr>\n",
              "      <th>16</th>\n",
              "      <td>BEN</td>\n",
              "      <td>Benin</td>\n",
              "      <td>Benin</td>\n",
              "      <td>Republic of Benin</td>\n",
              "      <td>BJ</td>\n",
              "      <td>CFA franc</td>\n",
              "      <td>NaN</td>\n",
              "      <td>Sub-Saharan Africa</td>\n",
              "      <td>Low income</td>\n",
              "      <td>BJ</td>\n",
              "      <td>1985</td>\n",
              "      <td>Value added at producer prices (VAP)</td>\n",
              "      <td>IDA</td>\n",
              "      <td>Country uses the 1968 System of National Accou...</td>\n",
              "      <td>2005</td>\n",
              "      <td>IMF Balance of Payments Manual, 6th edition.</td>\n",
              "      <td>Actual</td>\n",
              "      <td>Special trade system</td>\n",
              "      <td>Budgetary central government</td>\n",
              "      <td>General Data Dissemination System (GDDS)</td>\n",
              "      <td>2013</td>\n",
              "      <td>Demographic and Health Survey (DHS), 2011/12</td>\n",
              "      <td>Core Welfare Indicator Questionnaire Survey (C...</td>\n",
              "      <td>NaN</td>\n",
              "      <td>2011/12</td>\n",
              "      <td>NaN</td>\n",
              "      <td>2010.0</td>\n",
              "      <td>2001</td>\n",
              "    </tr>\n",
              "    <tr>\n",
              "      <th>17</th>\n",
              "      <td>BFA</td>\n",
              "      <td>Burkina Faso</td>\n",
              "      <td>Burkina Faso</td>\n",
              "      <td>Burkina Faso</td>\n",
              "      <td>BF</td>\n",
              "      <td>CFA franc</td>\n",
              "      <td>NaN</td>\n",
              "      <td>Sub-Saharan Africa</td>\n",
              "      <td>Low income</td>\n",
              "      <td>BF</td>\n",
              "      <td>1999</td>\n",
              "      <td>Value added at basic prices (VAB)</td>\n",
              "      <td>IDA</td>\n",
              "      <td>Country uses the 1993 System of National Accou...</td>\n",
              "      <td>2005</td>\n",
              "      <td>IMF Balance of Payments Manual, 6th edition.</td>\n",
              "      <td>Actual</td>\n",
              "      <td>General trade system</td>\n",
              "      <td>Budgetary central government</td>\n",
              "      <td>General Data Dissemination System (GDDS)</td>\n",
              "      <td>2006</td>\n",
              "      <td>Demographic and Health Survey (DHS), 2010</td>\n",
              "      <td>Core Welfare Indicator Questionnaire Survey (C...</td>\n",
              "      <td>NaN</td>\n",
              "      <td>2010</td>\n",
              "      <td>NaN</td>\n",
              "      <td>2011.0</td>\n",
              "      <td>2001</td>\n",
              "    </tr>\n",
              "    <tr>\n",
              "      <th>18</th>\n",
              "      <td>BGD</td>\n",
              "      <td>Bangladesh</td>\n",
              "      <td>Bangladesh</td>\n",
              "      <td>People's Republic of Bangladesh</td>\n",
              "      <td>BD</td>\n",
              "      <td>Bangladeshi taka</td>\n",
              "      <td>Fiscal year end: June 30; reporting period for...</td>\n",
              "      <td>South Asia</td>\n",
              "      <td>Low income</td>\n",
              "      <td>BD</td>\n",
              "      <td>1995/96</td>\n",
              "      <td>Value added at basic prices (VAB)</td>\n",
              "      <td>IDA</td>\n",
              "      <td>Country uses the 1993 System of National Accou...</td>\n",
              "      <td>2005</td>\n",
              "      <td>IMF Balance of Payments Manual, 6th edition.</td>\n",
              "      <td>Actual</td>\n",
              "      <td>General trade system</td>\n",
              "      <td>Consolidated central government</td>\n",
              "      <td>General Data Dissemination System (GDDS)</td>\n",
              "      <td>2011</td>\n",
              "      <td>Demographic and Health Survey (DHS), 2011</td>\n",
              "      <td>Integrated household survey (IHS), 2010</td>\n",
              "      <td>NaN</td>\n",
              "      <td>2008</td>\n",
              "      <td>NaN</td>\n",
              "      <td>2007.0</td>\n",
              "      <td>2008</td>\n",
              "    </tr>\n",
              "  </tbody>\n",
              "</table>\n",
              "</div>"
            ],
            "text/plain": [
              "   Country Code    Short Name  ... Latest trade data Latest water withdrawal data\n",
              "1           AFG   Afghanistan  ...            2012.0                         2000\n",
              "14          BDI       Burundi  ...            2012.0                         2000\n",
              "16          BEN         Benin  ...            2010.0                         2001\n",
              "17          BFA  Burkina Faso  ...            2011.0                         2001\n",
              "18          BGD    Bangladesh  ...            2007.0                         2008\n",
              "\n",
              "[5 rows x 28 columns]"
            ]
          },
          "metadata": {
            "tags": []
          },
          "execution_count": 187
        }
      ]
    },
    {
      "cell_type": "markdown",
      "metadata": {
        "id": "zHdjmXpmU6od"
      },
      "source": [
        "**Analysis on Indentifying the indicators based on following important factors**\r\n",
        "\r\n",
        "\r\n",
        "\r\n",
        "*   Expenditure on education\r\n",
        "*   Quality of education\r\n",
        "*   Enrolment to schools\r\n",
        "*   Teachers \r\n",
        "*   Literacy\r\n",
        "*   Progression\r\n",
        "*   Population\r\n"
      ]
    },
    {
      "cell_type": "code",
      "metadata": {
        "id": "b8mA0CM5DHdC"
      },
      "source": [
        "def get_vals_indicator(indicator):\r\n",
        "    '''\r\n",
        "      This function takes string as an input and returns a dataframe, having the string indicator in the Indicator column \r\n",
        "    '''\r\n",
        "\r\n",
        "    subset = new_stats_data[new_stats_data['Indicator Name'].str.contains(indicator)]\r\n",
        "    country = subset['Country Name'].values\r\n",
        "\r\n",
        "    indicator_code = subset['Indicator Code'].values\r\n",
        "\r\n",
        "    val_df = pd.DataFrame()\r\n",
        "    \r\n",
        "    \r\n",
        "    # between 2000 and 2015 (inclusive)\r\n",
        "    \r\n",
        "    for i in range(2000,2016):\r\n",
        "        val_df[str(i)] = subset[str(i)]\r\n",
        "    val_df['Country Name'] = country\r\n",
        "    val_df['Indicator Code'] = indicator_code\r\n",
        "    val_df['Indicator Name'] = subset['Indicator Name']\r\n",
        "    return val_df\r\n"
      ],
      "execution_count": 34,
      "outputs": []
    },
    {
      "cell_type": "markdown",
      "metadata": {
        "id": "5SJ87aLF7LXn"
      },
      "source": [
        "**Get the rows from new_stats_data having string 'net enrolment' in Indicator Name**"
      ]
    },
    {
      "cell_type": "code",
      "metadata": {
        "id": "AL9SkA2aEmfw"
      },
      "source": [
        "extracted_df= get_vals_indicator(\" net enrolment\")"
      ],
      "execution_count": 74,
      "outputs": []
    },
    {
      "cell_type": "code",
      "metadata": {
        "colab": {
          "base_uri": "https://localhost:8080/",
          "height": 649
        },
        "id": "s-58EiQlXyue",
        "outputId": "ccc6758b-626d-4c65-90eb-df3f1c88c2f5"
      },
      "source": [
        "extracted_df.head()"
      ],
      "execution_count": 75,
      "outputs": [
        {
          "output_type": "execute_result",
          "data": {
            "text/html": [
              "<div>\n",
              "<style scoped>\n",
              "    .dataframe tbody tr th:only-of-type {\n",
              "        vertical-align: middle;\n",
              "    }\n",
              "\n",
              "    .dataframe tbody tr th {\n",
              "        vertical-align: top;\n",
              "    }\n",
              "\n",
              "    .dataframe thead th {\n",
              "        text-align: right;\n",
              "    }\n",
              "</style>\n",
              "<table border=\"1\" class=\"dataframe\">\n",
              "  <thead>\n",
              "    <tr style=\"text-align: right;\">\n",
              "      <th></th>\n",
              "      <th>2000</th>\n",
              "      <th>2001</th>\n",
              "      <th>2002</th>\n",
              "      <th>2003</th>\n",
              "      <th>2004</th>\n",
              "      <th>2005</th>\n",
              "      <th>2006</th>\n",
              "      <th>2007</th>\n",
              "      <th>2008</th>\n",
              "      <th>2009</th>\n",
              "      <th>2010</th>\n",
              "      <th>2011</th>\n",
              "      <th>2012</th>\n",
              "      <th>2013</th>\n",
              "      <th>2014</th>\n",
              "      <th>2015</th>\n",
              "      <th>Country Name</th>\n",
              "      <th>Indicator Code</th>\n",
              "      <th>Indicator Name</th>\n",
              "    </tr>\n",
              "  </thead>\n",
              "  <tbody>\n",
              "    <tr>\n",
              "      <th>4</th>\n",
              "      <td>77.245682</td>\n",
              "      <td>78.800522</td>\n",
              "      <td>80.051399</td>\n",
              "      <td>80.805389</td>\n",
              "      <td>81.607063</td>\n",
              "      <td>82.489487</td>\n",
              "      <td>82.685509</td>\n",
              "      <td>83.280342</td>\n",
              "      <td>84.011871</td>\n",
              "      <td>84.195961</td>\n",
              "      <td>85.211998</td>\n",
              "      <td>85.245140</td>\n",
              "      <td>86.101669</td>\n",
              "      <td>85.511940</td>\n",
              "      <td>85.320152</td>\n",
              "      <td>85.320152</td>\n",
              "      <td>Arab World</td>\n",
              "      <td>SE.PRM.TENR</td>\n",
              "      <td>Adjusted net enrolment rate, primary, both sex...</td>\n",
              "    </tr>\n",
              "    <tr>\n",
              "      <th>5</th>\n",
              "      <td>73.275620</td>\n",
              "      <td>75.132980</td>\n",
              "      <td>76.641022</td>\n",
              "      <td>77.653580</td>\n",
              "      <td>78.485397</td>\n",
              "      <td>79.475769</td>\n",
              "      <td>79.608330</td>\n",
              "      <td>80.582420</td>\n",
              "      <td>81.473801</td>\n",
              "      <td>81.695686</td>\n",
              "      <td>82.871651</td>\n",
              "      <td>82.861389</td>\n",
              "      <td>84.401413</td>\n",
              "      <td>83.914032</td>\n",
              "      <td>83.820831</td>\n",
              "      <td>83.820831</td>\n",
              "      <td>Arab World</td>\n",
              "      <td>SE.PRM.TENR.FE</td>\n",
              "      <td>Adjusted net enrolment rate, primary, female (%)</td>\n",
              "    </tr>\n",
              "    <tr>\n",
              "      <th>6</th>\n",
              "      <td>0.904060</td>\n",
              "      <td>0.912750</td>\n",
              "      <td>0.919790</td>\n",
              "      <td>0.926300</td>\n",
              "      <td>0.927680</td>\n",
              "      <td>0.930840</td>\n",
              "      <td>0.929620</td>\n",
              "      <td>0.938460</td>\n",
              "      <td>0.942500</td>\n",
              "      <td>0.943470</td>\n",
              "      <td>0.947620</td>\n",
              "      <td>0.946700</td>\n",
              "      <td>0.962080</td>\n",
              "      <td>0.964090</td>\n",
              "      <td>0.966200</td>\n",
              "      <td>0.966200</td>\n",
              "      <td>Arab World</td>\n",
              "      <td>UIS.NERA.1.GPI</td>\n",
              "      <td>Adjusted net enrolment rate, primary, gender p...</td>\n",
              "    </tr>\n",
              "    <tr>\n",
              "      <th>7</th>\n",
              "      <td>81.051369</td>\n",
              "      <td>82.315048</td>\n",
              "      <td>83.324059</td>\n",
              "      <td>83.832230</td>\n",
              "      <td>84.604393</td>\n",
              "      <td>85.380287</td>\n",
              "      <td>85.635078</td>\n",
              "      <td>85.866692</td>\n",
              "      <td>86.444138</td>\n",
              "      <td>86.590691</td>\n",
              "      <td>87.452583</td>\n",
              "      <td>87.526520</td>\n",
              "      <td>87.728172</td>\n",
              "      <td>87.039879</td>\n",
              "      <td>86.753387</td>\n",
              "      <td>86.753387</td>\n",
              "      <td>Arab World</td>\n",
              "      <td>SE.PRM.TENR.MA</td>\n",
              "      <td>Adjusted net enrolment rate, primary, male (%)</td>\n",
              "    </tr>\n",
              "    <tr>\n",
              "      <th>3090</th>\n",
              "      <td>72.530357</td>\n",
              "      <td>73.583229</td>\n",
              "      <td>75.090561</td>\n",
              "      <td>76.478180</td>\n",
              "      <td>77.786163</td>\n",
              "      <td>79.131622</td>\n",
              "      <td>79.680557</td>\n",
              "      <td>80.291153</td>\n",
              "      <td>81.559517</td>\n",
              "      <td>83.350853</td>\n",
              "      <td>83.666893</td>\n",
              "      <td>84.284782</td>\n",
              "      <td>84.896942</td>\n",
              "      <td>81.021553</td>\n",
              "      <td>81.547546</td>\n",
              "      <td>62.439279</td>\n",
              "      <td>Arab World</td>\n",
              "      <td>UIS.NERT.2</td>\n",
              "      <td>Total net enrolment rate, lower secondary, bot...</td>\n",
              "    </tr>\n",
              "  </tbody>\n",
              "</table>\n",
              "</div>"
            ],
            "text/plain": [
              "           2000  ...                                     Indicator Name\n",
              "4     77.245682  ...  Adjusted net enrolment rate, primary, both sex...\n",
              "5     73.275620  ...   Adjusted net enrolment rate, primary, female (%)\n",
              "6      0.904060  ...  Adjusted net enrolment rate, primary, gender p...\n",
              "7     81.051369  ...     Adjusted net enrolment rate, primary, male (%)\n",
              "3090  72.530357  ...  Total net enrolment rate, lower secondary, bot...\n",
              "\n",
              "[5 rows x 19 columns]"
            ]
          },
          "metadata": {
            "tags": []
          },
          "execution_count": 75
        }
      ]
    },
    {
      "cell_type": "code",
      "metadata": {
        "colab": {
          "base_uri": "https://localhost:8080/",
          "height": 669
        },
        "id": "xBH5zYPnINaq",
        "outputId": "170648ca-4094-4ff9-c5f4-a94807ed54fd"
      },
      "source": [
        "extracted_df['Indicator Name'].value_counts().rename_axis('Indicator Name').reset_index(name='Count')[:20]\r\n"
      ],
      "execution_count": 77,
      "outputs": [
        {
          "output_type": "execute_result",
          "data": {
            "text/html": [
              "<div>\n",
              "<style scoped>\n",
              "    .dataframe tbody tr th:only-of-type {\n",
              "        vertical-align: middle;\n",
              "    }\n",
              "\n",
              "    .dataframe tbody tr th {\n",
              "        vertical-align: top;\n",
              "    }\n",
              "\n",
              "    .dataframe thead th {\n",
              "        text-align: right;\n",
              "    }\n",
              "</style>\n",
              "<table border=\"1\" class=\"dataframe\">\n",
              "  <thead>\n",
              "    <tr style=\"text-align: right;\">\n",
              "      <th></th>\n",
              "      <th>Indicator Name</th>\n",
              "      <th>Count</th>\n",
              "    </tr>\n",
              "  </thead>\n",
              "  <tbody>\n",
              "    <tr>\n",
              "      <th>0</th>\n",
              "      <td>Total net enrolment rate, primary, gender pari...</td>\n",
              "      <td>208</td>\n",
              "    </tr>\n",
              "    <tr>\n",
              "      <th>1</th>\n",
              "      <td>Adjusted net enrolment rate, primary, both sex...</td>\n",
              "      <td>207</td>\n",
              "    </tr>\n",
              "    <tr>\n",
              "      <th>2</th>\n",
              "      <td>Adjusted net enrolment rate, primary, female (%)</td>\n",
              "      <td>202</td>\n",
              "    </tr>\n",
              "    <tr>\n",
              "      <th>3</th>\n",
              "      <td>Adjusted net enrolment rate, primary, male (%)</td>\n",
              "      <td>202</td>\n",
              "    </tr>\n",
              "    <tr>\n",
              "      <th>4</th>\n",
              "      <td>Adjusted net enrolment rate, primary, gender p...</td>\n",
              "      <td>201</td>\n",
              "    </tr>\n",
              "    <tr>\n",
              "      <th>5</th>\n",
              "      <td>Total net enrolment rate, lower secondary, bot...</td>\n",
              "      <td>190</td>\n",
              "    </tr>\n",
              "    <tr>\n",
              "      <th>6</th>\n",
              "      <td>Total net enrolment rate, primary, both sexes (%)</td>\n",
              "      <td>184</td>\n",
              "    </tr>\n",
              "    <tr>\n",
              "      <th>7</th>\n",
              "      <td>Total net enrolment rate, primary, female (%)</td>\n",
              "      <td>183</td>\n",
              "    </tr>\n",
              "    <tr>\n",
              "      <th>8</th>\n",
              "      <td>Total net enrolment rate, primary, male (%)</td>\n",
              "      <td>183</td>\n",
              "    </tr>\n",
              "    <tr>\n",
              "      <th>9</th>\n",
              "      <td>Total net enrolment rate, lower secondary, mal...</td>\n",
              "      <td>180</td>\n",
              "    </tr>\n",
              "    <tr>\n",
              "      <th>10</th>\n",
              "      <td>Total net enrolment rate, lower secondary, fem...</td>\n",
              "      <td>180</td>\n",
              "    </tr>\n",
              "    <tr>\n",
              "      <th>11</th>\n",
              "      <td>Total net enrolment rate, lower secondary, gen...</td>\n",
              "      <td>180</td>\n",
              "    </tr>\n",
              "    <tr>\n",
              "      <th>12</th>\n",
              "      <td>Adjusted net enrolment rate, lower secondary, ...</td>\n",
              "      <td>168</td>\n",
              "    </tr>\n",
              "    <tr>\n",
              "      <th>13</th>\n",
              "      <td>Adjusted net enrolment rate, lower secondary, ...</td>\n",
              "      <td>166</td>\n",
              "    </tr>\n",
              "    <tr>\n",
              "      <th>14</th>\n",
              "      <td>Adjusted net enrolment rate, lower secondary, ...</td>\n",
              "      <td>166</td>\n",
              "    </tr>\n",
              "    <tr>\n",
              "      <th>15</th>\n",
              "      <td>Adjusted net enrolment rate, lower secondary, ...</td>\n",
              "      <td>166</td>\n",
              "    </tr>\n",
              "    <tr>\n",
              "      <th>16</th>\n",
              "      <td>Adjusted net enrolment rate, upper secondary, ...</td>\n",
              "      <td>155</td>\n",
              "    </tr>\n",
              "    <tr>\n",
              "      <th>17</th>\n",
              "      <td>Adjusted net enrolment rate, upper secondary, ...</td>\n",
              "      <td>154</td>\n",
              "    </tr>\n",
              "    <tr>\n",
              "      <th>18</th>\n",
              "      <td>Adjusted net enrolment rate, upper secondary, ...</td>\n",
              "      <td>154</td>\n",
              "    </tr>\n",
              "    <tr>\n",
              "      <th>19</th>\n",
              "      <td>Adjusted net enrolment rate, upper secondary, ...</td>\n",
              "      <td>154</td>\n",
              "    </tr>\n",
              "  </tbody>\n",
              "</table>\n",
              "</div>"
            ],
            "text/plain": [
              "                                       Indicator Name  Count\n",
              "0   Total net enrolment rate, primary, gender pari...    208\n",
              "1   Adjusted net enrolment rate, primary, both sex...    207\n",
              "2    Adjusted net enrolment rate, primary, female (%)    202\n",
              "3      Adjusted net enrolment rate, primary, male (%)    202\n",
              "4   Adjusted net enrolment rate, primary, gender p...    201\n",
              "5   Total net enrolment rate, lower secondary, bot...    190\n",
              "6   Total net enrolment rate, primary, both sexes (%)    184\n",
              "7       Total net enrolment rate, primary, female (%)    183\n",
              "8         Total net enrolment rate, primary, male (%)    183\n",
              "9   Total net enrolment rate, lower secondary, mal...    180\n",
              "10  Total net enrolment rate, lower secondary, fem...    180\n",
              "11  Total net enrolment rate, lower secondary, gen...    180\n",
              "12  Adjusted net enrolment rate, lower secondary, ...    168\n",
              "13  Adjusted net enrolment rate, lower secondary, ...    166\n",
              "14  Adjusted net enrolment rate, lower secondary, ...    166\n",
              "15  Adjusted net enrolment rate, lower secondary, ...    166\n",
              "16  Adjusted net enrolment rate, upper secondary, ...    155\n",
              "17  Adjusted net enrolment rate, upper secondary, ...    154\n",
              "18  Adjusted net enrolment rate, upper secondary, ...    154\n",
              "19  Adjusted net enrolment rate, upper secondary, ...    154"
            ]
          },
          "metadata": {
            "tags": []
          },
          "execution_count": 77
        }
      ]
    },
    {
      "cell_type": "markdown",
      "metadata": {
        "id": "RHpZPZHB90ry"
      },
      "source": [
        "**We will look at the enrollment rate in primary schools for both of the genders provided in the dataset.**\r\n",
        "\r\n",
        "**Because that is the first level of schooling and directly effects the enrollment rate in secondary and tertiary school levels.**\r\n"
      ]
    },
    {
      "cell_type": "code",
      "metadata": {
        "colab": {
          "base_uri": "https://localhost:8080/"
        },
        "id": "IoDq9A5X_Mcj",
        "outputId": "8c893f6e-9fbe-4549-fbe2-1fecd51636e2"
      },
      "source": [
        "extracted_df['Indicator Name'].unique()"
      ],
      "execution_count": 80,
      "outputs": [
        {
          "output_type": "execute_result",
          "data": {
            "text/plain": [
              "array(['Adjusted net enrolment rate, primary, both sexes (%)',\n",
              "       'Adjusted net enrolment rate, primary, female (%)',\n",
              "       'Adjusted net enrolment rate, primary, gender parity index (GPI)',\n",
              "       'Adjusted net enrolment rate, primary, male (%)',\n",
              "       'Total net enrolment rate, lower secondary, both sexes (%)',\n",
              "       'Total net enrolment rate, lower secondary, female (%)',\n",
              "       'Total net enrolment rate, lower secondary, gender parity index (GPI)',\n",
              "       'Total net enrolment rate, lower secondary, male (%)',\n",
              "       'Total net enrolment rate, primary, gender parity index (GPI)',\n",
              "       'Adjusted net enrolment rate, lower secondary, both sexes (%)',\n",
              "       'Adjusted net enrolment rate, lower secondary, female (%)',\n",
              "       'Adjusted net enrolment rate, lower secondary, gender parity index (GPI)',\n",
              "       'Adjusted net enrolment rate, lower secondary, male (%)',\n",
              "       'Adjusted net enrolment rate, upper secondary, both sexes (%)',\n",
              "       'Adjusted net enrolment rate, upper secondary, female (%)',\n",
              "       'Adjusted net enrolment rate, upper secondary, gender parity index (GPI)',\n",
              "       'Adjusted net enrolment rate, upper secondary, male (%)',\n",
              "       'Total net enrolment rate, primary, both sexes (%)',\n",
              "       'Total net enrolment rate, primary, female (%)',\n",
              "       'Total net enrolment rate, primary, male (%)'], dtype=object)"
            ]
          },
          "metadata": {
            "tags": []
          },
          "execution_count": 80
        }
      ]
    },
    {
      "cell_type": "code",
      "metadata": {
        "id": "tOtFk2SQ-JTL"
      },
      "source": [
        "measure = \"Adjusted net enrolment rate, \"\r\n",
        "school_level = ['primary', 'lower secondary', 'upper secondary']\r\n",
        "gender = ['both sexes (%)', 'female (%)', 'gender parity index (GPI)', 'male (%)']"
      ],
      "execution_count": 130,
      "outputs": []
    },
    {
      "cell_type": "code",
      "metadata": {
        "id": "xOoCWYVGIfiB"
      },
      "source": [
        "adj_net_enrolment_df = extracted_df"
      ],
      "execution_count": 78,
      "outputs": []
    },
    {
      "cell_type": "code",
      "metadata": {
        "id": "wH9igUMy_Ago"
      },
      "source": [
        "xdf = adj_net_enrolment_df[adj_net_enrolment_df['Indicator Name'] == 'Adjusted net enrolment rate, primary, both sexes (%)']"
      ],
      "execution_count": 84,
      "outputs": []
    },
    {
      "cell_type": "code",
      "metadata": {
        "colab": {
          "base_uri": "https://localhost:8080/"
        },
        "id": "cv0z86pu_0U_",
        "outputId": "6f70f18a-2649-4af9-d05f-775e637c5087"
      },
      "source": [
        "xdf['Country Name'].values"
      ],
      "execution_count": 86,
      "outputs": [
        {
          "output_type": "execute_result",
          "data": {
            "text/plain": [
              "array(['Arab World', 'East Asia & Pacific',\n",
              "       'East Asia & Pacific (excluding high income)', 'Euro area',\n",
              "       'Europe & Central Asia',\n",
              "       'Europe & Central Asia (excluding high income)', 'European Union',\n",
              "       'Heavily indebted poor countries (HIPC)', 'High income',\n",
              "       'Latin America & Caribbean',\n",
              "       'Latin America & Caribbean (excluding high income)',\n",
              "       'Least developed countries: UN classification',\n",
              "       'Low & middle income', 'Low income', 'Lower middle income',\n",
              "       'Middle East & North Africa',\n",
              "       'Middle East & North Africa (excluding high income)',\n",
              "       'Middle income', 'North America', 'OECD members', 'South Asia',\n",
              "       'Sub-Saharan Africa', 'Sub-Saharan Africa (excluding high income)',\n",
              "       'Upper middle income', 'World', 'Albania', 'Algeria', 'Angola',\n",
              "       'Antigua and Barbuda', 'Argentina', 'Armenia', 'Aruba',\n",
              "       'Australia', 'Azerbaijan', 'Bahamas, The', 'Bahrain', 'Bangladesh',\n",
              "       'Barbados', 'Belarus', 'Belgium', 'Belize', 'Benin', 'Bermuda',\n",
              "       'Bhutan', 'Bolivia', 'Botswana', 'Brazil', 'Bulgaria',\n",
              "       'Burkina Faso', 'Burundi', 'Cabo Verde', 'Cambodia', 'Cameroon',\n",
              "       'Canada', 'Central African Republic', 'Chad', 'Chile', 'Colombia',\n",
              "       'Comoros', 'Congo, Rep.', 'Costa Rica', \"Cote d'Ivoire\", 'Croatia',\n",
              "       'Cuba', 'Cyprus', 'Denmark', 'Djibouti', 'Dominica',\n",
              "       'Dominican Republic', 'Ecuador', 'Egypt, Arab Rep.', 'El Salvador',\n",
              "       'Equatorial Guinea', 'Eritrea', 'Estonia', 'Ethiopia', 'Fiji',\n",
              "       'Finland', 'France', 'Gambia, The', 'Georgia', 'Germany', 'Ghana',\n",
              "       'Greece', 'Grenada', 'Guatemala', 'Guinea', 'Guinea-Bissau',\n",
              "       'Guyana', 'Honduras', 'Hungary', 'Iceland', 'India', 'Indonesia',\n",
              "       'Iran, Islamic Rep.', 'Iraq', 'Ireland', 'Israel', 'Italy',\n",
              "       'Jamaica', 'Japan', 'Jordan', 'Kazakhstan', 'Kenya', 'Kiribati',\n",
              "       'Korea, Dem. People’s Rep.', 'Korea, Rep.', 'Kuwait',\n",
              "       'Kyrgyz Republic', 'Lao PDR', 'Latvia', 'Lebanon', 'Lesotho',\n",
              "       'Liberia', 'Liechtenstein', 'Lithuania', 'Luxembourg',\n",
              "       'Macao SAR, China', 'Macedonia, FYR', 'Madagascar', 'Malawi',\n",
              "       'Malaysia', 'Maldives', 'Mali', 'Malta', 'Marshall Islands',\n",
              "       'Mauritania', 'Mauritius', 'Mexico', 'Micronesia, Fed. Sts.',\n",
              "       'Moldova', 'Mongolia', 'Montenegro', 'Morocco', 'Mozambique',\n",
              "       'Myanmar', 'Namibia', 'Nauru', 'Nepal', 'Netherlands',\n",
              "       'New Zealand', 'Nicaragua', 'Niger', 'Nigeria', 'Norway', 'Oman',\n",
              "       'Pakistan', 'Palau', 'Panama', 'Papua New Guinea', 'Paraguay',\n",
              "       'Peru', 'Philippines', 'Poland', 'Portugal', 'Puerto Rico',\n",
              "       'Qatar', 'Romania', 'Russian Federation', 'Rwanda', 'Samoa',\n",
              "       'San Marino', 'Sao Tome and Principe', 'Saudi Arabia', 'Senegal',\n",
              "       'Serbia', 'Seychelles', 'Sierra Leone', 'Slovenia',\n",
              "       'Solomon Islands', 'South Africa', 'South Sudan', 'Spain',\n",
              "       'Sri Lanka', 'St. Kitts and Nevis', 'St. Lucia',\n",
              "       'St. Vincent and the Grenadines', 'Sudan', 'Suriname', 'Swaziland',\n",
              "       'Sweden', 'Switzerland', 'Syrian Arab Republic', 'Tajikistan',\n",
              "       'Tanzania', 'Thailand', 'Timor-Leste', 'Togo', 'Tonga',\n",
              "       'Trinidad and Tobago', 'Tunisia', 'Turkey', 'Tuvalu', 'Uganda',\n",
              "       'Ukraine', 'United Arab Emirates', 'United Kingdom',\n",
              "       'United States', 'Uruguay', 'Uzbekistan', 'Vanuatu',\n",
              "       'Venezuela, RB', 'Vietnam', 'West Bank and Gaza', 'Yemen, Rep.',\n",
              "       'Zambia', 'Zimbabwe'], dtype=object)"
            ]
          },
          "metadata": {
            "tags": []
          },
          "execution_count": 86
        }
      ]
    },
    {
      "cell_type": "markdown",
      "metadata": {
        "id": "R-12DFRTVegt"
      },
      "source": [
        "**Let's choose India firstly.**\r\n"
      ]
    },
    {
      "cell_type": "code",
      "metadata": {
        "id": "QR9vXo5W__oc"
      },
      "source": [
        "india_xdf = xdf[xdf['Country Name'] == 'India']"
      ],
      "execution_count": 92,
      "outputs": []
    },
    {
      "cell_type": "markdown",
      "metadata": {
        "id": "p13jpC54Cyzv"
      },
      "source": [
        "**Variation of Adjusted net enrolment rate in primary school level for both sexes in India from 2000 to 2015**"
      ]
    },
    {
      "cell_type": "code",
      "metadata": {
        "id": "vj0CSydBAFiO"
      },
      "source": [
        "import matplotlib.pyplot as plt\r\n",
        "%matplotlib inline\r\n"
      ],
      "execution_count": 88,
      "outputs": []
    },
    {
      "cell_type": "code",
      "metadata": {
        "id": "c-A842eEBzAv"
      },
      "source": [
        "plt.rcParams['figure.figsize'] = (10, 5)"
      ],
      "execution_count": 98,
      "outputs": []
    },
    {
      "cell_type": "code",
      "metadata": {
        "colab": {
          "base_uri": "https://localhost:8080/",
          "height": 367
        },
        "id": "mg1fLNmUANFy",
        "outputId": "75bc1d29-ef07-454b-d588-391d99272f60"
      },
      "source": [
        "plt.plot(india_xdf.loc[:,'2000':'2015'].T)\r\n",
        "plt.xlabel('Years')\r\n",
        "plt.ylabel('Adjusted net enrolment rate, primary, both sexes (%)')\r\n",
        "plt.title('Variation of Adjusted net enrolment rate in primary school level for both sexes in India')"
      ],
      "execution_count": 101,
      "outputs": [
        {
          "output_type": "execute_result",
          "data": {
            "text/plain": [
              "Text(0.5, 1.0, 'Variation of Adjusted net enrolment rate in primary school level for both sexes in India')"
            ]
          },
          "metadata": {
            "tags": []
          },
          "execution_count": 101
        },
        {
          "output_type": "display_data",
          "data": {
            "image/png": "[encoded data removed]",
            "text/plain": [
              "<Figure size 720x360 with 1 Axes>"
            ]
          },
          "metadata": {
            "tags": [],
            "needs_background": "light"
          }
        }
      ]
    },
    {
      "cell_type": "markdown",
      "metadata": {
        "id": "baHvCOjZQoJv"
      },
      "source": [
        "**Variation of Adjusted net enrolment rate in lower secondary school level for both sexes in India from 2000 to 2015**"
      ]
    },
    {
      "cell_type": "code",
      "metadata": {
        "id": "L1zg9woeNjA0"
      },
      "source": [
        "indicator1 = measure + school_level[1] + ', ' + gender[0]\r\n",
        "x1df = extracted_df[extracted_df['Indicator Name']==indicator1]"
      ],
      "execution_count": 131,
      "outputs": []
    },
    {
      "cell_type": "code",
      "metadata": {
        "id": "yVAVxtK9RMIC"
      },
      "source": [
        "india_x1df = x1df[x1df['Country Name']=='India']"
      ],
      "execution_count": 135,
      "outputs": []
    },
    {
      "cell_type": "code",
      "metadata": {
        "colab": {
          "base_uri": "https://localhost:8080/",
          "height": 370
        },
        "id": "uvZ18NxKRw-m",
        "outputId": "cbaececd-2b32-4f72-be28-dfa141f9440c"
      },
      "source": [
        "plt.plot(india_x1df.loc[:,'2000':'2015'].T)\r\n",
        "plt.xlabel('Years')\r\n",
        "plt.ylabel('Adjusted net enrolment rate, lower secondary, both sexes (%)')\r\n",
        "plt.title('Variation of Adjusted net enrolment rate in lower secondary school level for both sexes in India')"
      ],
      "execution_count": 137,
      "outputs": [
        {
          "output_type": "execute_result",
          "data": {
            "text/plain": [
              "Text(0.5, 1.0, 'Variation of Adjusted net enrolment rate in lower secondary school level for both sexes in India')"
            ]
          },
          "metadata": {
            "tags": []
          },
          "execution_count": 137
        },
        {
          "output_type": "display_data",
          "data": {
            "image/png": "[encoded data removed]",
            "text/plain": [
              "<Figure size 720x360 with 1 Axes>"
            ]
          },
          "metadata": {
            "tags": [],
            "needs_background": "light"
          }
        }
      ]
    },
    {
      "cell_type": "code",
      "metadata": {
        "colab": {
          "base_uri": "https://localhost:8080/"
        },
        "id": "WuNS5JWouyKa",
        "outputId": "25337e56-90aa-4449-ff34-94545ca8613a"
      },
      "source": [
        "df_country[df_country['Short Name'] == 'India']['Income Group']"
      ],
      "execution_count": 104,
      "outputs": [
        {
          "output_type": "execute_result",
          "data": {
            "text/plain": [
              "98    Lower middle income\n",
              "Name: Income Group, dtype: object"
            ]
          },
          "metadata": {
            "tags": []
          },
          "execution_count": 104
        }
      ]
    },
    {
      "cell_type": "markdown",
      "metadata": {
        "id": "m-PGPGlISHKr"
      },
      "source": [
        "**Variation of Adjusted net enrolment rate in higher secondary school level for both sexes in India from 2000 to 2015**"
      ]
    },
    {
      "cell_type": "code",
      "metadata": {
        "id": "P1hhTYiTGNOM"
      },
      "source": [
        "indicator2 = measure + school_level[2] + ', ' + gender[0]\r\n",
        "x2df = extracted_df[extracted_df['Indicator Name']==indicator2]"
      ],
      "execution_count": 139,
      "outputs": []
    },
    {
      "cell_type": "code",
      "metadata": {
        "id": "vFTVgR6ANPIC"
      },
      "source": [
        "india_x2df = x2df[x2df['Country Name']=='India']"
      ],
      "execution_count": 141,
      "outputs": []
    },
    {
      "cell_type": "code",
      "metadata": {
        "colab": {
          "base_uri": "https://localhost:8080/",
          "height": 372
        },
        "id": "e7Xy3KM-SbQG",
        "outputId": "c1172bec-4dea-4dda-d6da-e59c65f3718e"
      },
      "source": [
        "plt.plot(india_x2df.loc[:,'2000':'2015'].T)\r\n",
        "plt.xlabel('Years')\r\n",
        "plt.ylabel('Adjusted net enrolment rate, higher secondary, both sexes (%)')\r\n",
        "plt.title('Variation of Adjusted net enrolment rate in higher secondary school level for both sexes in India')"
      ],
      "execution_count": 143,
      "outputs": [
        {
          "output_type": "execute_result",
          "data": {
            "text/plain": [
              "Text(0.5, 1.0, 'Variation of Adjusted net enrolment rate in higher secondary school level for both sexes in India')"
            ]
          },
          "metadata": {
            "tags": []
          },
          "execution_count": 143
        },
        {
          "output_type": "display_data",
          "data": {
            "image/png": "[encoded data removed]",
            "text/plain": [
              "<Figure size 720x360 with 1 Axes>"
            ]
          },
          "metadata": {
            "tags": [],
            "needs_background": "light"
          }
        }
      ]
    },
    {
      "cell_type": "markdown",
      "metadata": {
        "id": "e15sA1vHUnhk"
      },
      "source": [
        "**We can observe from the above graphs that, Variation of Adjusted net enrolment rate in higher secondary school level for both sexes in India is similar to that of Variation of Adjusted net enrolment rate in primary level.**"
      ]
    },
    {
      "cell_type": "markdown",
      "metadata": {
        "id": "m5M_Yd3UTHbz"
      },
      "source": [
        "**Similarly we need to analyze the variation of indicators of multiple countries between 2000 to 2015.**\r\n",
        "\r\n",
        "**Firstly, the countires are already segregated based on income level. So, we need to choose top 4 countries in each group based on country's economic position.**\r\n",
        "\r\n",
        "**In the meanwhile we can choose a set of indicators for comparision of countries.**"
      ]
    },
    {
      "cell_type": "code",
      "metadata": {
        "id": "14ft8ELZSlhq"
      },
      "source": [
        ""
      ],
      "execution_count": 144,
      "outputs": []
    },
    {
      "cell_type": "code",
      "metadata": {
        "id": "w1pBpfPJUdSr"
      },
      "source": [
        ""
      ],
      "execution_count": null,
      "outputs": []
    }
  ]
}